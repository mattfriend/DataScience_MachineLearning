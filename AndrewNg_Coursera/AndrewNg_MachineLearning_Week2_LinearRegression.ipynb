{
 "cells": [
  {
   "cell_type": "markdown",
   "metadata": {},
   "source": [
    "# Andrew Ng's Machine Learning MOOC: Week 2: Linear Regression\n",
    "\n",
    "# Programming Exercise 1: Univariate and Multivariate Linear Regression\n",
    "\n",
    "\n",
    "## Introduction\n",
    "This notebook contains my solutions to the programming exercise for week 2 of Andrew Ng's famous Machine Learning MOOC on Coursera (https://www.coursera.org/learn/machine-learning).\n",
    "\n",
    "The course requires submission of programming exercises in either the MATLAB or OCTAVE programming language.\n",
    "\n",
    "However since:\n",
    "- I already code in Python for various web development and data science projects, and\n",
    "- Python is the pre-eminent language currently used in data science and machine learning (and MATLAB and OCTAVE don't seem to be used anywhere near as much)\n",
    "\n",
    "I decided it would be more valuable to me to use Python to complete the programming exercises.\n",
    "\n",
    "I was therefore very pleased to find the following source, which has kindly written a set of python scripts to allow one to create Python implementations of the programming exercises for the course, and <i><b>still submit them</i></b> for scoring:\n",
    "\n",
    "https://github.com/dibgerge/ml-coursera-python-assignments\n",
    "\n",
    "Thanks very much <i>dibgerge</i>!\n",
    "\n",
    "In addition to the course's own lecture materials, I also used a number of other sources to help me solve the programming exercises. These include:\n",
    "\n",
    "**Other courses** I've completed:\n",
    "- Harvard's <i>Using Python for Research</i> on edX: https://www.edx.org/course/using-python-for-research\n",
    "- UC San Diego's <i>Python for Data Science</i>, also on edX: https://www.edx.org/course/python-for-data-science-2\n",
    "- MIT's <i>Introduction to Computational Thinking and Data Science</i>, also on edX: https://www.edx.org/course/introduction-to-computational-thinking-and-data-4\n",
    "\n",
    "**Books**:\n",
    "<i>Python Machine Learning</i> by Sebastian Raschka and Vahid Mirjalili: https://sebastianraschka.com/books.html\n",
    "\n",
    "**Blogs and websites**:\n",
    "I found these two blogs useful references\n",
    "\n",
    "https://www.johnwittenauer.net/machine-learning-exercises-in-python-part-1/\n",
    "\n",
    "https://medium.com/analytics-vidhya/python-implementation-of-andrew-ngs-machine-learning-course-part-1-6b8dd1c73d80\n",
    "\n",
    "And of course, there's always StackOverflow!\n",
    "\n",
    "One thing that struck me, looking at all of these different resources, is <i>how many different ways</i> there are to implement basically the same code in python, even using numpy and pandas dataframes! And that's before we think about object-oriented implementations, or using libraries such as scikitlearn.\n",
    "\n",
    "OK, now that the introduction is complete, let's get started with some imports:"
   ]
  },
  {
   "cell_type": "code",
   "execution_count": 273,
   "metadata": {
    "collapsed": true
   },
   "outputs": [],
   "source": [
    "# used for manipulating directory paths\n",
    "import os\n",
    "\n",
    "# Scientific and vector computation for python\n",
    "import numpy as np\n",
    "\n",
    "# Pandas for large data sets\n",
    "import pandas as pd\n",
    "\n",
    "# Plotting library\n",
    "from matplotlib import pyplot as plt\n",
    "from mpl_toolkits.mplot3d import Axes3D  # needed to plot 3-D surfaces\n",
    "\n",
    "# library written for this exercise providing additional functions for assignment submission, and others\n",
    "import utils \n",
    "\n",
    "# define the submission/grader object for this exercise\n",
    "grader = utils.Grader()\n",
    "\n",
    "# tells matplotlib to embed plots within the notebook\n",
    "%matplotlib inline"
   ]
  },
  {
   "cell_type": "markdown",
   "metadata": {},
   "source": [
    "## 1 Linear regression with one variable\n",
    "\n",
    "To start with we will implement linear regression with one variable to predict profits for a food truck. Suppose you are the CEO of a restaurant franchise and are considering different cities for opening a new outlet. The chain already has trucks in various cities and you have data for profits and populations from the cities. You would like to use this data to help you select which city to expand to next. \n",
    "\n",
    "The file `Data/ex1data1.txt` contains the dataset for our linear regression problem. The first column is the population of a city (in 10,000s) and the second column is the profit of a food truck in that city (in $10,000s). A negative value for profit indicates a loss. "
   ]
  },
  {
   "cell_type": "markdown",
   "metadata": {},
   "source": [
    "### 1.1 Plotting the Data\n",
    "\n",
    "Before starting on any task, it's almost always a good idea to understand the data by visualizing it. For this dataset, you can use a scatter plot to visualize the data, since it has only two properties to plot (profit and population).\n",
    "\n",
    "There are many plotting libraries in python (see this [blog post](https://blog.modeanalytics.com/python-data-visualization-libraries/) for a good summary of the most popular ones). \n",
    "\n",
    "`matplotlib` is one of the most popular scientific plotting libraries in python and has extensive tools and functions to make beautiful plots.\n",
    "\n",
    "`pyplot` is a module within `matplotlib` which provides a simplified interface to `matplotlib`'s most common plotting tasks, mimicking MATLAB's plotting interface.\n",
    "\n",
    "I'll be using `matplotlib` and `pyplot` to do my plotting in this notebook."
   ]
  },
  {
   "cell_type": "markdown",
   "metadata": {},
   "source": [
    "#### 1.1.1 Using pandas data frames\n",
    "\n",
    "`Pandas` is another very commonly used Python library for dealing with large datasets. I tend to think of it as offering some of the functionality of a large spreadsheet (although in my experience it's far <i>less</i> user-friendly than a spreadsheet!). Basically it allows you to create large multidimensional tables of data - called `dataframes` - and then run operations on them <i>very fast</i>.\n",
    "\n",
    "Because it's so commonly used, I wanted to use it to load and view the data for these exercises.\n",
    "\n",
    "**Be warned** though - there are some peculiarities about the way that `numpy` expects data to be presented (in particular, the shapes and types of arrays that are used for vector operations), which it's easy to get wrong when moving between `pandas` dataframes and `numpy` arrays - even though `pandas` is built on top of `numpy` arrays (as far as I understand it).\n",
    "\n",
    "Anyway, to get started, we need to load, or \"<i>read</i>\" our data into a `pandas` data frame:"
   ]
  },
  {
   "cell_type": "code",
   "execution_count": 274,
   "metadata": {},
   "outputs": [
    {
     "data": {
      "text/html": [
       "<div>\n",
       "<style>\n",
       "    .dataframe thead tr:only-child th {\n",
       "        text-align: right;\n",
       "    }\n",
       "\n",
       "    .dataframe thead th {\n",
       "        text-align: left;\n",
       "    }\n",
       "\n",
       "    .dataframe tbody tr th {\n",
       "        vertical-align: top;\n",
       "    }\n",
       "</style>\n",
       "<table border=\"1\" class=\"dataframe\">\n",
       "  <thead>\n",
       "    <tr style=\"text-align: right;\">\n",
       "      <th></th>\n",
       "      <th>Population</th>\n",
       "      <th>Profit</th>\n",
       "    </tr>\n",
       "  </thead>\n",
       "  <tbody>\n",
       "    <tr>\n",
       "      <th>0</th>\n",
       "      <td>6.1101</td>\n",
       "      <td>17.5920</td>\n",
       "    </tr>\n",
       "    <tr>\n",
       "      <th>1</th>\n",
       "      <td>5.5277</td>\n",
       "      <td>9.1302</td>\n",
       "    </tr>\n",
       "    <tr>\n",
       "      <th>2</th>\n",
       "      <td>8.5186</td>\n",
       "      <td>13.6620</td>\n",
       "    </tr>\n",
       "    <tr>\n",
       "      <th>3</th>\n",
       "      <td>7.0032</td>\n",
       "      <td>11.8540</td>\n",
       "    </tr>\n",
       "    <tr>\n",
       "      <th>4</th>\n",
       "      <td>5.8598</td>\n",
       "      <td>6.8233</td>\n",
       "    </tr>\n",
       "  </tbody>\n",
       "</table>\n",
       "</div>"
      ],
      "text/plain": [
       "   Population   Profit\n",
       "0      6.1101  17.5920\n",
       "1      5.5277   9.1302\n",
       "2      8.5186  13.6620\n",
       "3      7.0032  11.8540\n",
       "4      5.8598   6.8233"
      ]
     },
     "execution_count": 274,
     "metadata": {},
     "output_type": "execute_result"
    }
   ],
   "source": [
    "# read the data into a pandas dataframe\n",
    "data = pd.read_csv('Data/ex1data1.txt', header = None, names=['Population', 'Profit']) #read from dataset\n",
    "data.head() # view first few rows of the data"
   ]
  },
  {
   "cell_type": "markdown",
   "metadata": {},
   "source": [
    "Now let's have a look at the shape of the dataframe:"
   ]
  },
  {
   "cell_type": "code",
   "execution_count": 275,
   "metadata": {},
   "outputs": [
    {
     "data": {
      "text/plain": [
       "(97, 2)"
      ]
     },
     "execution_count": 275,
     "metadata": {},
     "output_type": "execute_result"
    }
   ],
   "source": [
    "data.shape"
   ]
  },
  {
   "cell_type": "code",
   "execution_count": 276,
   "metadata": {},
   "outputs": [
    {
     "data": {
      "text/html": [
       "<div>\n",
       "<style>\n",
       "    .dataframe thead tr:only-child th {\n",
       "        text-align: right;\n",
       "    }\n",
       "\n",
       "    .dataframe thead th {\n",
       "        text-align: left;\n",
       "    }\n",
       "\n",
       "    .dataframe tbody tr th {\n",
       "        vertical-align: top;\n",
       "    }\n",
       "</style>\n",
       "<table border=\"1\" class=\"dataframe\">\n",
       "  <thead>\n",
       "    <tr style=\"text-align: right;\">\n",
       "      <th></th>\n",
       "      <th>Population</th>\n",
       "      <th>Profit</th>\n",
       "    </tr>\n",
       "  </thead>\n",
       "  <tbody>\n",
       "    <tr>\n",
       "      <th>count</th>\n",
       "      <td>97.000000</td>\n",
       "      <td>97.000000</td>\n",
       "    </tr>\n",
       "    <tr>\n",
       "      <th>mean</th>\n",
       "      <td>8.159800</td>\n",
       "      <td>5.839135</td>\n",
       "    </tr>\n",
       "    <tr>\n",
       "      <th>std</th>\n",
       "      <td>3.869884</td>\n",
       "      <td>5.510262</td>\n",
       "    </tr>\n",
       "    <tr>\n",
       "      <th>min</th>\n",
       "      <td>5.026900</td>\n",
       "      <td>-2.680700</td>\n",
       "    </tr>\n",
       "    <tr>\n",
       "      <th>25%</th>\n",
       "      <td>5.707700</td>\n",
       "      <td>1.986900</td>\n",
       "    </tr>\n",
       "    <tr>\n",
       "      <th>50%</th>\n",
       "      <td>6.589400</td>\n",
       "      <td>4.562300</td>\n",
       "    </tr>\n",
       "    <tr>\n",
       "      <th>75%</th>\n",
       "      <td>8.578100</td>\n",
       "      <td>7.046700</td>\n",
       "    </tr>\n",
       "    <tr>\n",
       "      <th>max</th>\n",
       "      <td>22.203000</td>\n",
       "      <td>24.147000</td>\n",
       "    </tr>\n",
       "  </tbody>\n",
       "</table>\n",
       "</div>"
      ],
      "text/plain": [
       "       Population     Profit\n",
       "count   97.000000  97.000000\n",
       "mean     8.159800   5.839135\n",
       "std      3.869884   5.510262\n",
       "min      5.026900  -2.680700\n",
       "25%      5.707700   1.986900\n",
       "50%      6.589400   4.562300\n",
       "75%      8.578100   7.046700\n",
       "max     22.203000  24.147000"
      ]
     },
     "execution_count": 276,
     "metadata": {},
     "output_type": "execute_result"
    }
   ],
   "source": [
    "data.describe()"
   ]
  },
  {
   "cell_type": "markdown",
   "metadata": {},
   "source": [
    "#### 1.1.2 Plotting the data\n",
    "\n",
    "OK, this looks like we were expecting. Now let's have a look at the data by creating a scatter plot:"
   ]
  },
  {
   "cell_type": "code",
   "execution_count": 277,
   "metadata": {},
   "outputs": [
    {
     "data": {
      "image/png": "[encoded data removed]",
      "text/plain": [
       "<matplotlib.figure.Figure at 0x118ebb7f0>"
      ]
     },
     "metadata": {},
     "output_type": "display_data"
    }
   ],
   "source": [
    "plt.scatter(data.Population, data.Profit, marker = \"o\", color = \"r\")\n",
    "plt.xlabel('Population of City in 10,000s')\n",
    "plt.ylabel('Profit in $10,000s')\n",
    "plt.show()"
   ]
  },
  {
   "cell_type": "markdown",
   "metadata": {},
   "source": [
    "**Note**\n",
    "It would be useful at this stage to do a couple of things:\n",
    "1. Define a function to plot the data, that can be called, rather than plotting each time\n",
    "2. Use matplotlib / pyplot's object-oriented capability to plot figures (e.g. defining a \"figure\" and \"axes\")\n",
    "\n",
    "However, I'm not going to do that right now!"
   ]
  },
  {
   "cell_type": "markdown",
   "metadata": {},
   "source": [
    "**Note**\n",
    "To quickly learn more about the `matplotlib` plot function and what arguments you can provide to it, you can type `?pyplot.plot` in a cell within the jupyter notebook. This opens a separate page showing the documentation for the requested function. You can also search online for plotting documentation."
   ]
  },
  {
   "cell_type": "markdown",
   "metadata": {},
   "source": [
    "### 1.2 Gradient Descent\n",
    "\n",
    "In this part, we fit the linear regression parameters $\\theta$ to our dataset using gradient descent.\n",
    "\n",
    "#### 1.2.1 The Equations\n",
    "\n",
    "The objective of linear regression is to minimize the cost function\n",
    "\n",
    "$$ J(\\theta) = \\frac{1}{2m} \\sum_{i=1}^m \\left( h_{\\theta}(x^{(i)}) - y^{(i)}\\right)^2$$\n",
    "\n",
    "where the hypothesis $h_\\theta(x)$ is given by the linear model\n",
    "$$ h_\\theta(x) = \\theta^Tx = \\theta_0 + \\theta_1 x_1$$\n",
    "\n",
    "If this looks unfamiliar, it might help to remember from your school maths class that the equation for a straight line is $y = mx + c$\n",
    "\n",
    "or, as expressed above, $y = c + mx$\n",
    "\n",
    "\n",
    "Now, the parameters of your model are the $\\theta_j$ values\n",
    "\n",
    "$(m$ and $c$ in our equation for the line).\n",
    "\n",
    "These are the values you will adjust to minimize cost $J(\\theta)$. One way to do this is to\n",
    "use the batch gradient descent algorithm. In batch gradient descent, each iteration performs the update\n",
    "\n",
    "$$ \\theta_j = \\theta_j - \\alpha \\frac{1}{m} \\sum_{i=1}^m \\left( h_\\theta(x^{(i)}) - y^{(i)}\\right)x_j^{(i)} \\qquad \\text{simultaneously update } \\theta_j \\text{ for all } j$$\n",
    "\n",
    "With each step of gradient descent, your parameters $\\theta_j$ come closer to the optimal values that will achieve the lowest cost\n",
    "\n",
    "$J(\\theta)$.\n",
    "\n",
    "#### 1.2.2 Implementation\n",
    "\n",
    "#### First - we need to get the data ready\n",
    "\n",
    "Remember that, in the equation for gradient descent, we need to add another dimension to our data to accommodate the $\\theta_0$ intercept term. We initialize this so that every value in this dimension = 1.\n",
    "\n",
    "We do this in the following cell - **Do NOT execute this cell more than once!**:\n",
    "\n",
    "If, by mistake, you **do** end up executing this cell more than once, then go back and re-run the code to load the data (in section 1.1.1)"
   ]
  },
  {
   "cell_type": "code",
   "execution_count": 278,
   "metadata": {
    "collapsed": true
   },
   "outputs": [],
   "source": [
    "# append a ones column to the front of the data set\n",
    "data.insert(0, 'Ones', 1)"
   ]
  },
  {
   "cell_type": "code",
   "execution_count": 279,
   "metadata": {},
   "outputs": [
    {
     "data": {
      "text/html": [
       "<div>\n",
       "<style>\n",
       "    .dataframe thead tr:only-child th {\n",
       "        text-align: right;\n",
       "    }\n",
       "\n",
       "    .dataframe thead th {\n",
       "        text-align: left;\n",
       "    }\n",
       "\n",
       "    .dataframe tbody tr th {\n",
       "        vertical-align: top;\n",
       "    }\n",
       "</style>\n",
       "<table border=\"1\" class=\"dataframe\">\n",
       "  <thead>\n",
       "    <tr style=\"text-align: right;\">\n",
       "      <th></th>\n",
       "      <th>Ones</th>\n",
       "      <th>Population</th>\n",
       "      <th>Profit</th>\n",
       "    </tr>\n",
       "  </thead>\n",
       "  <tbody>\n",
       "    <tr>\n",
       "      <th>0</th>\n",
       "      <td>1</td>\n",
       "      <td>6.1101</td>\n",
       "      <td>17.5920</td>\n",
       "    </tr>\n",
       "    <tr>\n",
       "      <th>1</th>\n",
       "      <td>1</td>\n",
       "      <td>5.5277</td>\n",
       "      <td>9.1302</td>\n",
       "    </tr>\n",
       "    <tr>\n",
       "      <th>2</th>\n",
       "      <td>1</td>\n",
       "      <td>8.5186</td>\n",
       "      <td>13.6620</td>\n",
       "    </tr>\n",
       "    <tr>\n",
       "      <th>3</th>\n",
       "      <td>1</td>\n",
       "      <td>7.0032</td>\n",
       "      <td>11.8540</td>\n",
       "    </tr>\n",
       "    <tr>\n",
       "      <th>4</th>\n",
       "      <td>1</td>\n",
       "      <td>5.8598</td>\n",
       "      <td>6.8233</td>\n",
       "    </tr>\n",
       "  </tbody>\n",
       "</table>\n",
       "</div>"
      ],
      "text/plain": [
       "   Ones  Population   Profit\n",
       "0     1      6.1101  17.5920\n",
       "1     1      5.5277   9.1302\n",
       "2     1      8.5186  13.6620\n",
       "3     1      7.0032  11.8540\n",
       "4     1      5.8598   6.8233"
      ]
     },
     "execution_count": 279,
     "metadata": {},
     "output_type": "execute_result"
    }
   ],
   "source": [
    "data.head()"
   ]
  },
  {
   "cell_type": "markdown",
   "metadata": {},
   "source": [
    "Now, for the link to the Coursera course grader to work, this notebook needs to output using array-like outputs.\n",
    "(I'm not totally sure, but this may also be a requirement for the `scikitlearn` library we're going to use later)\n",
    "To do this, we extract X (the independent variables, or \"training data\") and y (the dependent, or \"target\" variable) from our dataframe."
   ]
  },
  {
   "cell_type": "code",
   "execution_count": 280,
   "metadata": {
    "collapsed": true
   },
   "outputs": [],
   "source": [
    "# set X (training data) and y (target variable)\n",
    "cols = data.shape[1] # instantiate a variable \"cols\" to represent the number of columns in the data frame\n",
    "X = data.iloc[:,0:cols-1] # read first n-1 columns\n",
    "y = data.iloc[:,cols-1:cols] # read last (nth) column"
   ]
  },
  {
   "cell_type": "markdown",
   "metadata": {},
   "source": [
    "Finally, we need to instantiate a matrix to hold our $\\theta$ parameters, which we will initialize to 0:"
   ]
  },
  {
   "cell_type": "code",
   "execution_count": 281,
   "metadata": {
    "collapsed": true
   },
   "outputs": [],
   "source": [
    "theta = np.zeros([2,1])"
   ]
  },
  {
   "cell_type": "markdown",
   "metadata": {},
   "source": [
    "Let's check we're getting what we expect for X, y and theta:"
   ]
  },
  {
   "cell_type": "code",
   "execution_count": 282,
   "metadata": {},
   "outputs": [
    {
     "data": {
      "text/plain": [
       "(97, 2)"
      ]
     },
     "execution_count": 282,
     "metadata": {},
     "output_type": "execute_result"
    }
   ],
   "source": [
    "X.shape"
   ]
  },
  {
   "cell_type": "code",
   "execution_count": 283,
   "metadata": {},
   "outputs": [
    {
     "data": {
      "text/plain": [
       "(97, 1)"
      ]
     },
     "execution_count": 283,
     "metadata": {},
     "output_type": "execute_result"
    }
   ],
   "source": [
    "y.shape"
   ]
  },
  {
   "cell_type": "code",
   "execution_count": 284,
   "metadata": {},
   "outputs": [
    {
     "data": {
      "text/plain": [
       "(2, 1)"
      ]
     },
     "execution_count": 284,
     "metadata": {},
     "output_type": "execute_result"
    }
   ],
   "source": [
    "theta.shape"
   ]
  },
  {
   "cell_type": "code",
   "execution_count": 285,
   "metadata": {},
   "outputs": [
    {
     "data": {
      "text/html": [
       "<div>\n",
       "<style>\n",
       "    .dataframe thead tr:only-child th {\n",
       "        text-align: right;\n",
       "    }\n",
       "\n",
       "    .dataframe thead th {\n",
       "        text-align: left;\n",
       "    }\n",
       "\n",
       "    .dataframe tbody tr th {\n",
       "        vertical-align: top;\n",
       "    }\n",
       "</style>\n",
       "<table border=\"1\" class=\"dataframe\">\n",
       "  <thead>\n",
       "    <tr style=\"text-align: right;\">\n",
       "      <th></th>\n",
       "      <th>Ones</th>\n",
       "      <th>Population</th>\n",
       "    </tr>\n",
       "  </thead>\n",
       "  <tbody>\n",
       "    <tr>\n",
       "      <th>0</th>\n",
       "      <td>1</td>\n",
       "      <td>6.1101</td>\n",
       "    </tr>\n",
       "    <tr>\n",
       "      <th>1</th>\n",
       "      <td>1</td>\n",
       "      <td>5.5277</td>\n",
       "    </tr>\n",
       "    <tr>\n",
       "      <th>2</th>\n",
       "      <td>1</td>\n",
       "      <td>8.5186</td>\n",
       "    </tr>\n",
       "    <tr>\n",
       "      <th>3</th>\n",
       "      <td>1</td>\n",
       "      <td>7.0032</td>\n",
       "    </tr>\n",
       "    <tr>\n",
       "      <th>4</th>\n",
       "      <td>1</td>\n",
       "      <td>5.8598</td>\n",
       "    </tr>\n",
       "    <tr>\n",
       "      <th>5</th>\n",
       "      <td>1</td>\n",
       "      <td>8.3829</td>\n",
       "    </tr>\n",
       "    <tr>\n",
       "      <th>6</th>\n",
       "      <td>1</td>\n",
       "      <td>7.4764</td>\n",
       "    </tr>\n",
       "    <tr>\n",
       "      <th>7</th>\n",
       "      <td>1</td>\n",
       "      <td>8.5781</td>\n",
       "    </tr>\n",
       "    <tr>\n",
       "      <th>8</th>\n",
       "      <td>1</td>\n",
       "      <td>6.4862</td>\n",
       "    </tr>\n",
       "    <tr>\n",
       "      <th>9</th>\n",
       "      <td>1</td>\n",
       "      <td>5.0546</td>\n",
       "    </tr>\n",
       "    <tr>\n",
       "      <th>10</th>\n",
       "      <td>1</td>\n",
       "      <td>5.7107</td>\n",
       "    </tr>\n",
       "    <tr>\n",
       "      <th>11</th>\n",
       "      <td>1</td>\n",
       "      <td>14.1640</td>\n",
       "    </tr>\n",
       "    <tr>\n",
       "      <th>12</th>\n",
       "      <td>1</td>\n",
       "      <td>5.7340</td>\n",
       "    </tr>\n",
       "    <tr>\n",
       "      <th>13</th>\n",
       "      <td>1</td>\n",
       "      <td>8.4084</td>\n",
       "    </tr>\n",
       "    <tr>\n",
       "      <th>14</th>\n",
       "      <td>1</td>\n",
       "      <td>5.6407</td>\n",
       "    </tr>\n",
       "    <tr>\n",
       "      <th>15</th>\n",
       "      <td>1</td>\n",
       "      <td>5.3794</td>\n",
       "    </tr>\n",
       "    <tr>\n",
       "      <th>16</th>\n",
       "      <td>1</td>\n",
       "      <td>6.3654</td>\n",
       "    </tr>\n",
       "    <tr>\n",
       "      <th>17</th>\n",
       "      <td>1</td>\n",
       "      <td>5.1301</td>\n",
       "    </tr>\n",
       "    <tr>\n",
       "      <th>18</th>\n",
       "      <td>1</td>\n",
       "      <td>6.4296</td>\n",
       "    </tr>\n",
       "    <tr>\n",
       "      <th>19</th>\n",
       "      <td>1</td>\n",
       "      <td>7.0708</td>\n",
       "    </tr>\n",
       "    <tr>\n",
       "      <th>20</th>\n",
       "      <td>1</td>\n",
       "      <td>6.1891</td>\n",
       "    </tr>\n",
       "    <tr>\n",
       "      <th>21</th>\n",
       "      <td>1</td>\n",
       "      <td>20.2700</td>\n",
       "    </tr>\n",
       "    <tr>\n",
       "      <th>22</th>\n",
       "      <td>1</td>\n",
       "      <td>5.4901</td>\n",
       "    </tr>\n",
       "    <tr>\n",
       "      <th>23</th>\n",
       "      <td>1</td>\n",
       "      <td>6.3261</td>\n",
       "    </tr>\n",
       "    <tr>\n",
       "      <th>24</th>\n",
       "      <td>1</td>\n",
       "      <td>5.5649</td>\n",
       "    </tr>\n",
       "    <tr>\n",
       "      <th>25</th>\n",
       "      <td>1</td>\n",
       "      <td>18.9450</td>\n",
       "    </tr>\n",
       "    <tr>\n",
       "      <th>26</th>\n",
       "      <td>1</td>\n",
       "      <td>12.8280</td>\n",
       "    </tr>\n",
       "    <tr>\n",
       "      <th>27</th>\n",
       "      <td>1</td>\n",
       "      <td>10.9570</td>\n",
       "    </tr>\n",
       "    <tr>\n",
       "      <th>28</th>\n",
       "      <td>1</td>\n",
       "      <td>13.1760</td>\n",
       "    </tr>\n",
       "    <tr>\n",
       "      <th>29</th>\n",
       "      <td>1</td>\n",
       "      <td>22.2030</td>\n",
       "    </tr>\n",
       "    <tr>\n",
       "      <th>...</th>\n",
       "      <td>...</td>\n",
       "      <td>...</td>\n",
       "    </tr>\n",
       "    <tr>\n",
       "      <th>67</th>\n",
       "      <td>1</td>\n",
       "      <td>10.2360</td>\n",
       "    </tr>\n",
       "    <tr>\n",
       "      <th>68</th>\n",
       "      <td>1</td>\n",
       "      <td>5.4994</td>\n",
       "    </tr>\n",
       "    <tr>\n",
       "      <th>69</th>\n",
       "      <td>1</td>\n",
       "      <td>20.3410</td>\n",
       "    </tr>\n",
       "    <tr>\n",
       "      <th>70</th>\n",
       "      <td>1</td>\n",
       "      <td>10.1360</td>\n",
       "    </tr>\n",
       "    <tr>\n",
       "      <th>71</th>\n",
       "      <td>1</td>\n",
       "      <td>7.3345</td>\n",
       "    </tr>\n",
       "    <tr>\n",
       "      <th>72</th>\n",
       "      <td>1</td>\n",
       "      <td>6.0062</td>\n",
       "    </tr>\n",
       "    <tr>\n",
       "      <th>73</th>\n",
       "      <td>1</td>\n",
       "      <td>7.2259</td>\n",
       "    </tr>\n",
       "    <tr>\n",
       "      <th>74</th>\n",
       "      <td>1</td>\n",
       "      <td>5.0269</td>\n",
       "    </tr>\n",
       "    <tr>\n",
       "      <th>75</th>\n",
       "      <td>1</td>\n",
       "      <td>6.5479</td>\n",
       "    </tr>\n",
       "    <tr>\n",
       "      <th>76</th>\n",
       "      <td>1</td>\n",
       "      <td>7.5386</td>\n",
       "    </tr>\n",
       "    <tr>\n",
       "      <th>77</th>\n",
       "      <td>1</td>\n",
       "      <td>5.0365</td>\n",
       "    </tr>\n",
       "    <tr>\n",
       "      <th>78</th>\n",
       "      <td>1</td>\n",
       "      <td>10.2740</td>\n",
       "    </tr>\n",
       "    <tr>\n",
       "      <th>79</th>\n",
       "      <td>1</td>\n",
       "      <td>5.1077</td>\n",
       "    </tr>\n",
       "    <tr>\n",
       "      <th>80</th>\n",
       "      <td>1</td>\n",
       "      <td>5.7292</td>\n",
       "    </tr>\n",
       "    <tr>\n",
       "      <th>81</th>\n",
       "      <td>1</td>\n",
       "      <td>5.1884</td>\n",
       "    </tr>\n",
       "    <tr>\n",
       "      <th>82</th>\n",
       "      <td>1</td>\n",
       "      <td>6.3557</td>\n",
       "    </tr>\n",
       "    <tr>\n",
       "      <th>83</th>\n",
       "      <td>1</td>\n",
       "      <td>9.7687</td>\n",
       "    </tr>\n",
       "    <tr>\n",
       "      <th>84</th>\n",
       "      <td>1</td>\n",
       "      <td>6.5159</td>\n",
       "    </tr>\n",
       "    <tr>\n",
       "      <th>85</th>\n",
       "      <td>1</td>\n",
       "      <td>8.5172</td>\n",
       "    </tr>\n",
       "    <tr>\n",
       "      <th>86</th>\n",
       "      <td>1</td>\n",
       "      <td>9.1802</td>\n",
       "    </tr>\n",
       "    <tr>\n",
       "      <th>87</th>\n",
       "      <td>1</td>\n",
       "      <td>6.0020</td>\n",
       "    </tr>\n",
       "    <tr>\n",
       "      <th>88</th>\n",
       "      <td>1</td>\n",
       "      <td>5.5204</td>\n",
       "    </tr>\n",
       "    <tr>\n",
       "      <th>89</th>\n",
       "      <td>1</td>\n",
       "      <td>5.0594</td>\n",
       "    </tr>\n",
       "    <tr>\n",
       "      <th>90</th>\n",
       "      <td>1</td>\n",
       "      <td>5.7077</td>\n",
       "    </tr>\n",
       "    <tr>\n",
       "      <th>91</th>\n",
       "      <td>1</td>\n",
       "      <td>7.6366</td>\n",
       "    </tr>\n",
       "    <tr>\n",
       "      <th>92</th>\n",
       "      <td>1</td>\n",
       "      <td>5.8707</td>\n",
       "    </tr>\n",
       "    <tr>\n",
       "      <th>93</th>\n",
       "      <td>1</td>\n",
       "      <td>5.3054</td>\n",
       "    </tr>\n",
       "    <tr>\n",
       "      <th>94</th>\n",
       "      <td>1</td>\n",
       "      <td>8.2934</td>\n",
       "    </tr>\n",
       "    <tr>\n",
       "      <th>95</th>\n",
       "      <td>1</td>\n",
       "      <td>13.3940</td>\n",
       "    </tr>\n",
       "    <tr>\n",
       "      <th>96</th>\n",
       "      <td>1</td>\n",
       "      <td>5.4369</td>\n",
       "    </tr>\n",
       "  </tbody>\n",
       "</table>\n",
       "<p>97 rows × 2 columns</p>\n",
       "</div>"
      ],
      "text/plain": [
       "    Ones  Population\n",
       "0      1      6.1101\n",
       "1      1      5.5277\n",
       "2      1      8.5186\n",
       "3      1      7.0032\n",
       "4      1      5.8598\n",
       "5      1      8.3829\n",
       "6      1      7.4764\n",
       "7      1      8.5781\n",
       "8      1      6.4862\n",
       "9      1      5.0546\n",
       "10     1      5.7107\n",
       "11     1     14.1640\n",
       "12     1      5.7340\n",
       "13     1      8.4084\n",
       "14     1      5.6407\n",
       "15     1      5.3794\n",
       "16     1      6.3654\n",
       "17     1      5.1301\n",
       "18     1      6.4296\n",
       "19     1      7.0708\n",
       "20     1      6.1891\n",
       "21     1     20.2700\n",
       "22     1      5.4901\n",
       "23     1      6.3261\n",
       "24     1      5.5649\n",
       "25     1     18.9450\n",
       "26     1     12.8280\n",
       "27     1     10.9570\n",
       "28     1     13.1760\n",
       "29     1     22.2030\n",
       "..   ...         ...\n",
       "67     1     10.2360\n",
       "68     1      5.4994\n",
       "69     1     20.3410\n",
       "70     1     10.1360\n",
       "71     1      7.3345\n",
       "72     1      6.0062\n",
       "73     1      7.2259\n",
       "74     1      5.0269\n",
       "75     1      6.5479\n",
       "76     1      7.5386\n",
       "77     1      5.0365\n",
       "78     1     10.2740\n",
       "79     1      5.1077\n",
       "80     1      5.7292\n",
       "81     1      5.1884\n",
       "82     1      6.3557\n",
       "83     1      9.7687\n",
       "84     1      6.5159\n",
       "85     1      8.5172\n",
       "86     1      9.1802\n",
       "87     1      6.0020\n",
       "88     1      5.5204\n",
       "89     1      5.0594\n",
       "90     1      5.7077\n",
       "91     1      7.6366\n",
       "92     1      5.8707\n",
       "93     1      5.3054\n",
       "94     1      8.2934\n",
       "95     1     13.3940\n",
       "96     1      5.4369\n",
       "\n",
       "[97 rows x 2 columns]"
      ]
     },
     "execution_count": 285,
     "metadata": {},
     "output_type": "execute_result"
    }
   ],
   "source": [
    "X"
   ]
  },
  {
   "cell_type": "code",
   "execution_count": 286,
   "metadata": {},
   "outputs": [
    {
     "data": {
      "text/html": [
       "<div>\n",
       "<style>\n",
       "    .dataframe thead tr:only-child th {\n",
       "        text-align: right;\n",
       "    }\n",
       "\n",
       "    .dataframe thead th {\n",
       "        text-align: left;\n",
       "    }\n",
       "\n",
       "    .dataframe tbody tr th {\n",
       "        vertical-align: top;\n",
       "    }\n",
       "</style>\n",
       "<table border=\"1\" class=\"dataframe\">\n",
       "  <thead>\n",
       "    <tr style=\"text-align: right;\">\n",
       "      <th></th>\n",
       "      <th>Profit</th>\n",
       "    </tr>\n",
       "  </thead>\n",
       "  <tbody>\n",
       "    <tr>\n",
       "      <th>0</th>\n",
       "      <td>17.59200</td>\n",
       "    </tr>\n",
       "    <tr>\n",
       "      <th>1</th>\n",
       "      <td>9.13020</td>\n",
       "    </tr>\n",
       "    <tr>\n",
       "      <th>2</th>\n",
       "      <td>13.66200</td>\n",
       "    </tr>\n",
       "    <tr>\n",
       "      <th>3</th>\n",
       "      <td>11.85400</td>\n",
       "    </tr>\n",
       "    <tr>\n",
       "      <th>4</th>\n",
       "      <td>6.82330</td>\n",
       "    </tr>\n",
       "    <tr>\n",
       "      <th>5</th>\n",
       "      <td>11.88600</td>\n",
       "    </tr>\n",
       "    <tr>\n",
       "      <th>6</th>\n",
       "      <td>4.34830</td>\n",
       "    </tr>\n",
       "    <tr>\n",
       "      <th>7</th>\n",
       "      <td>12.00000</td>\n",
       "    </tr>\n",
       "    <tr>\n",
       "      <th>8</th>\n",
       "      <td>6.59870</td>\n",
       "    </tr>\n",
       "    <tr>\n",
       "      <th>9</th>\n",
       "      <td>3.81660</td>\n",
       "    </tr>\n",
       "    <tr>\n",
       "      <th>10</th>\n",
       "      <td>3.25220</td>\n",
       "    </tr>\n",
       "    <tr>\n",
       "      <th>11</th>\n",
       "      <td>15.50500</td>\n",
       "    </tr>\n",
       "    <tr>\n",
       "      <th>12</th>\n",
       "      <td>3.15510</td>\n",
       "    </tr>\n",
       "    <tr>\n",
       "      <th>13</th>\n",
       "      <td>7.22580</td>\n",
       "    </tr>\n",
       "    <tr>\n",
       "      <th>14</th>\n",
       "      <td>0.71618</td>\n",
       "    </tr>\n",
       "    <tr>\n",
       "      <th>15</th>\n",
       "      <td>3.51290</td>\n",
       "    </tr>\n",
       "    <tr>\n",
       "      <th>16</th>\n",
       "      <td>5.30480</td>\n",
       "    </tr>\n",
       "    <tr>\n",
       "      <th>17</th>\n",
       "      <td>0.56077</td>\n",
       "    </tr>\n",
       "    <tr>\n",
       "      <th>18</th>\n",
       "      <td>3.65180</td>\n",
       "    </tr>\n",
       "    <tr>\n",
       "      <th>19</th>\n",
       "      <td>5.38930</td>\n",
       "    </tr>\n",
       "    <tr>\n",
       "      <th>20</th>\n",
       "      <td>3.13860</td>\n",
       "    </tr>\n",
       "    <tr>\n",
       "      <th>21</th>\n",
       "      <td>21.76700</td>\n",
       "    </tr>\n",
       "    <tr>\n",
       "      <th>22</th>\n",
       "      <td>4.26300</td>\n",
       "    </tr>\n",
       "    <tr>\n",
       "      <th>23</th>\n",
       "      <td>5.18750</td>\n",
       "    </tr>\n",
       "    <tr>\n",
       "      <th>24</th>\n",
       "      <td>3.08250</td>\n",
       "    </tr>\n",
       "    <tr>\n",
       "      <th>25</th>\n",
       "      <td>22.63800</td>\n",
       "    </tr>\n",
       "    <tr>\n",
       "      <th>26</th>\n",
       "      <td>13.50100</td>\n",
       "    </tr>\n",
       "    <tr>\n",
       "      <th>27</th>\n",
       "      <td>7.04670</td>\n",
       "    </tr>\n",
       "    <tr>\n",
       "      <th>28</th>\n",
       "      <td>14.69200</td>\n",
       "    </tr>\n",
       "    <tr>\n",
       "      <th>29</th>\n",
       "      <td>24.14700</td>\n",
       "    </tr>\n",
       "    <tr>\n",
       "      <th>...</th>\n",
       "      <td>...</td>\n",
       "    </tr>\n",
       "    <tr>\n",
       "      <th>67</th>\n",
       "      <td>7.77540</td>\n",
       "    </tr>\n",
       "    <tr>\n",
       "      <th>68</th>\n",
       "      <td>1.01730</td>\n",
       "    </tr>\n",
       "    <tr>\n",
       "      <th>69</th>\n",
       "      <td>20.99200</td>\n",
       "    </tr>\n",
       "    <tr>\n",
       "      <th>70</th>\n",
       "      <td>6.67990</td>\n",
       "    </tr>\n",
       "    <tr>\n",
       "      <th>71</th>\n",
       "      <td>4.02590</td>\n",
       "    </tr>\n",
       "    <tr>\n",
       "      <th>72</th>\n",
       "      <td>1.27840</td>\n",
       "    </tr>\n",
       "    <tr>\n",
       "      <th>73</th>\n",
       "      <td>3.34110</td>\n",
       "    </tr>\n",
       "    <tr>\n",
       "      <th>74</th>\n",
       "      <td>-2.68070</td>\n",
       "    </tr>\n",
       "    <tr>\n",
       "      <th>75</th>\n",
       "      <td>0.29678</td>\n",
       "    </tr>\n",
       "    <tr>\n",
       "      <th>76</th>\n",
       "      <td>3.88450</td>\n",
       "    </tr>\n",
       "    <tr>\n",
       "      <th>77</th>\n",
       "      <td>5.70140</td>\n",
       "    </tr>\n",
       "    <tr>\n",
       "      <th>78</th>\n",
       "      <td>6.75260</td>\n",
       "    </tr>\n",
       "    <tr>\n",
       "      <th>79</th>\n",
       "      <td>2.05760</td>\n",
       "    </tr>\n",
       "    <tr>\n",
       "      <th>80</th>\n",
       "      <td>0.47953</td>\n",
       "    </tr>\n",
       "    <tr>\n",
       "      <th>81</th>\n",
       "      <td>0.20421</td>\n",
       "    </tr>\n",
       "    <tr>\n",
       "      <th>82</th>\n",
       "      <td>0.67861</td>\n",
       "    </tr>\n",
       "    <tr>\n",
       "      <th>83</th>\n",
       "      <td>7.54350</td>\n",
       "    </tr>\n",
       "    <tr>\n",
       "      <th>84</th>\n",
       "      <td>5.34360</td>\n",
       "    </tr>\n",
       "    <tr>\n",
       "      <th>85</th>\n",
       "      <td>4.24150</td>\n",
       "    </tr>\n",
       "    <tr>\n",
       "      <th>86</th>\n",
       "      <td>6.79810</td>\n",
       "    </tr>\n",
       "    <tr>\n",
       "      <th>87</th>\n",
       "      <td>0.92695</td>\n",
       "    </tr>\n",
       "    <tr>\n",
       "      <th>88</th>\n",
       "      <td>0.15200</td>\n",
       "    </tr>\n",
       "    <tr>\n",
       "      <th>89</th>\n",
       "      <td>2.82140</td>\n",
       "    </tr>\n",
       "    <tr>\n",
       "      <th>90</th>\n",
       "      <td>1.84510</td>\n",
       "    </tr>\n",
       "    <tr>\n",
       "      <th>91</th>\n",
       "      <td>4.29590</td>\n",
       "    </tr>\n",
       "    <tr>\n",
       "      <th>92</th>\n",
       "      <td>7.20290</td>\n",
       "    </tr>\n",
       "    <tr>\n",
       "      <th>93</th>\n",
       "      <td>1.98690</td>\n",
       "    </tr>\n",
       "    <tr>\n",
       "      <th>94</th>\n",
       "      <td>0.14454</td>\n",
       "    </tr>\n",
       "    <tr>\n",
       "      <th>95</th>\n",
       "      <td>9.05510</td>\n",
       "    </tr>\n",
       "    <tr>\n",
       "      <th>96</th>\n",
       "      <td>0.61705</td>\n",
       "    </tr>\n",
       "  </tbody>\n",
       "</table>\n",
       "<p>97 rows × 1 columns</p>\n",
       "</div>"
      ],
      "text/plain": [
       "      Profit\n",
       "0   17.59200\n",
       "1    9.13020\n",
       "2   13.66200\n",
       "3   11.85400\n",
       "4    6.82330\n",
       "5   11.88600\n",
       "6    4.34830\n",
       "7   12.00000\n",
       "8    6.59870\n",
       "9    3.81660\n",
       "10   3.25220\n",
       "11  15.50500\n",
       "12   3.15510\n",
       "13   7.22580\n",
       "14   0.71618\n",
       "15   3.51290\n",
       "16   5.30480\n",
       "17   0.56077\n",
       "18   3.65180\n",
       "19   5.38930\n",
       "20   3.13860\n",
       "21  21.76700\n",
       "22   4.26300\n",
       "23   5.18750\n",
       "24   3.08250\n",
       "25  22.63800\n",
       "26  13.50100\n",
       "27   7.04670\n",
       "28  14.69200\n",
       "29  24.14700\n",
       "..       ...\n",
       "67   7.77540\n",
       "68   1.01730\n",
       "69  20.99200\n",
       "70   6.67990\n",
       "71   4.02590\n",
       "72   1.27840\n",
       "73   3.34110\n",
       "74  -2.68070\n",
       "75   0.29678\n",
       "76   3.88450\n",
       "77   5.70140\n",
       "78   6.75260\n",
       "79   2.05760\n",
       "80   0.47953\n",
       "81   0.20421\n",
       "82   0.67861\n",
       "83   7.54350\n",
       "84   5.34360\n",
       "85   4.24150\n",
       "86   6.79810\n",
       "87   0.92695\n",
       "88   0.15200\n",
       "89   2.82140\n",
       "90   1.84510\n",
       "91   4.29590\n",
       "92   7.20290\n",
       "93   1.98690\n",
       "94   0.14454\n",
       "95   9.05510\n",
       "96   0.61705\n",
       "\n",
       "[97 rows x 1 columns]"
      ]
     },
     "execution_count": 286,
     "metadata": {},
     "output_type": "execute_result"
    }
   ],
   "source": [
    "y"
   ]
  },
  {
   "cell_type": "code",
   "execution_count": 287,
   "metadata": {},
   "outputs": [
    {
     "data": {
      "text/plain": [
       "array([[ 0.],\n",
       "       [ 0.]])"
      ]
     },
     "execution_count": 287,
     "metadata": {},
     "output_type": "execute_result"
    }
   ],
   "source": [
    "theta"
   ]
  },
  {
   "cell_type": "markdown",
   "metadata": {},
   "source": [
    "**Note** that this is a 2-row by 1-column matrix"
   ]
  },
  {
   "cell_type": "markdown",
   "metadata": {},
   "source": [
    "Finally, we also initialize the number of interations to 1,500 and the learning rate alpha to 0.01:"
   ]
  },
  {
   "cell_type": "code",
   "execution_count": 288,
   "metadata": {
    "collapsed": true
   },
   "outputs": [],
   "source": [
    "iterations = 1500\n",
    "alpha = 0.01"
   ]
  },
  {
   "cell_type": "markdown",
   "metadata": {},
   "source": [
    "Now we calculate our hypothesis $h_\\theta(x)$, which from 1.2.1 above we see is defined as\n",
    "\n",
    "$\\theta^Tx$"
   ]
  },
  {
   "cell_type": "code",
   "execution_count": 289,
   "metadata": {},
   "outputs": [
    {
     "data": {
      "text/html": [
       "<div>\n",
       "<style>\n",
       "    .dataframe thead tr:only-child th {\n",
       "        text-align: right;\n",
       "    }\n",
       "\n",
       "    .dataframe thead th {\n",
       "        text-align: left;\n",
       "    }\n",
       "\n",
       "    .dataframe tbody tr th {\n",
       "        vertical-align: top;\n",
       "    }\n",
       "</style>\n",
       "<table border=\"1\" class=\"dataframe\">\n",
       "  <thead>\n",
       "    <tr style=\"text-align: right;\">\n",
       "      <th></th>\n",
       "      <th>0</th>\n",
       "    </tr>\n",
       "  </thead>\n",
       "  <tbody>\n",
       "    <tr>\n",
       "      <th>0</th>\n",
       "      <td>0.0</td>\n",
       "    </tr>\n",
       "    <tr>\n",
       "      <th>1</th>\n",
       "      <td>0.0</td>\n",
       "    </tr>\n",
       "    <tr>\n",
       "      <th>2</th>\n",
       "      <td>0.0</td>\n",
       "    </tr>\n",
       "    <tr>\n",
       "      <th>3</th>\n",
       "      <td>0.0</td>\n",
       "    </tr>\n",
       "    <tr>\n",
       "      <th>4</th>\n",
       "      <td>0.0</td>\n",
       "    </tr>\n",
       "    <tr>\n",
       "      <th>5</th>\n",
       "      <td>0.0</td>\n",
       "    </tr>\n",
       "    <tr>\n",
       "      <th>6</th>\n",
       "      <td>0.0</td>\n",
       "    </tr>\n",
       "    <tr>\n",
       "      <th>7</th>\n",
       "      <td>0.0</td>\n",
       "    </tr>\n",
       "    <tr>\n",
       "      <th>8</th>\n",
       "      <td>0.0</td>\n",
       "    </tr>\n",
       "    <tr>\n",
       "      <th>9</th>\n",
       "      <td>0.0</td>\n",
       "    </tr>\n",
       "    <tr>\n",
       "      <th>10</th>\n",
       "      <td>0.0</td>\n",
       "    </tr>\n",
       "    <tr>\n",
       "      <th>11</th>\n",
       "      <td>0.0</td>\n",
       "    </tr>\n",
       "    <tr>\n",
       "      <th>12</th>\n",
       "      <td>0.0</td>\n",
       "    </tr>\n",
       "    <tr>\n",
       "      <th>13</th>\n",
       "      <td>0.0</td>\n",
       "    </tr>\n",
       "    <tr>\n",
       "      <th>14</th>\n",
       "      <td>0.0</td>\n",
       "    </tr>\n",
       "    <tr>\n",
       "      <th>15</th>\n",
       "      <td>0.0</td>\n",
       "    </tr>\n",
       "    <tr>\n",
       "      <th>16</th>\n",
       "      <td>0.0</td>\n",
       "    </tr>\n",
       "    <tr>\n",
       "      <th>17</th>\n",
       "      <td>0.0</td>\n",
       "    </tr>\n",
       "    <tr>\n",
       "      <th>18</th>\n",
       "      <td>0.0</td>\n",
       "    </tr>\n",
       "    <tr>\n",
       "      <th>19</th>\n",
       "      <td>0.0</td>\n",
       "    </tr>\n",
       "    <tr>\n",
       "      <th>20</th>\n",
       "      <td>0.0</td>\n",
       "    </tr>\n",
       "    <tr>\n",
       "      <th>21</th>\n",
       "      <td>0.0</td>\n",
       "    </tr>\n",
       "    <tr>\n",
       "      <th>22</th>\n",
       "      <td>0.0</td>\n",
       "    </tr>\n",
       "    <tr>\n",
       "      <th>23</th>\n",
       "      <td>0.0</td>\n",
       "    </tr>\n",
       "    <tr>\n",
       "      <th>24</th>\n",
       "      <td>0.0</td>\n",
       "    </tr>\n",
       "    <tr>\n",
       "      <th>25</th>\n",
       "      <td>0.0</td>\n",
       "    </tr>\n",
       "    <tr>\n",
       "      <th>26</th>\n",
       "      <td>0.0</td>\n",
       "    </tr>\n",
       "    <tr>\n",
       "      <th>27</th>\n",
       "      <td>0.0</td>\n",
       "    </tr>\n",
       "    <tr>\n",
       "      <th>28</th>\n",
       "      <td>0.0</td>\n",
       "    </tr>\n",
       "    <tr>\n",
       "      <th>29</th>\n",
       "      <td>0.0</td>\n",
       "    </tr>\n",
       "    <tr>\n",
       "      <th>...</th>\n",
       "      <td>...</td>\n",
       "    </tr>\n",
       "    <tr>\n",
       "      <th>67</th>\n",
       "      <td>0.0</td>\n",
       "    </tr>\n",
       "    <tr>\n",
       "      <th>68</th>\n",
       "      <td>0.0</td>\n",
       "    </tr>\n",
       "    <tr>\n",
       "      <th>69</th>\n",
       "      <td>0.0</td>\n",
       "    </tr>\n",
       "    <tr>\n",
       "      <th>70</th>\n",
       "      <td>0.0</td>\n",
       "    </tr>\n",
       "    <tr>\n",
       "      <th>71</th>\n",
       "      <td>0.0</td>\n",
       "    </tr>\n",
       "    <tr>\n",
       "      <th>72</th>\n",
       "      <td>0.0</td>\n",
       "    </tr>\n",
       "    <tr>\n",
       "      <th>73</th>\n",
       "      <td>0.0</td>\n",
       "    </tr>\n",
       "    <tr>\n",
       "      <th>74</th>\n",
       "      <td>0.0</td>\n",
       "    </tr>\n",
       "    <tr>\n",
       "      <th>75</th>\n",
       "      <td>0.0</td>\n",
       "    </tr>\n",
       "    <tr>\n",
       "      <th>76</th>\n",
       "      <td>0.0</td>\n",
       "    </tr>\n",
       "    <tr>\n",
       "      <th>77</th>\n",
       "      <td>0.0</td>\n",
       "    </tr>\n",
       "    <tr>\n",
       "      <th>78</th>\n",
       "      <td>0.0</td>\n",
       "    </tr>\n",
       "    <tr>\n",
       "      <th>79</th>\n",
       "      <td>0.0</td>\n",
       "    </tr>\n",
       "    <tr>\n",
       "      <th>80</th>\n",
       "      <td>0.0</td>\n",
       "    </tr>\n",
       "    <tr>\n",
       "      <th>81</th>\n",
       "      <td>0.0</td>\n",
       "    </tr>\n",
       "    <tr>\n",
       "      <th>82</th>\n",
       "      <td>0.0</td>\n",
       "    </tr>\n",
       "    <tr>\n",
       "      <th>83</th>\n",
       "      <td>0.0</td>\n",
       "    </tr>\n",
       "    <tr>\n",
       "      <th>84</th>\n",
       "      <td>0.0</td>\n",
       "    </tr>\n",
       "    <tr>\n",
       "      <th>85</th>\n",
       "      <td>0.0</td>\n",
       "    </tr>\n",
       "    <tr>\n",
       "      <th>86</th>\n",
       "      <td>0.0</td>\n",
       "    </tr>\n",
       "    <tr>\n",
       "      <th>87</th>\n",
       "      <td>0.0</td>\n",
       "    </tr>\n",
       "    <tr>\n",
       "      <th>88</th>\n",
       "      <td>0.0</td>\n",
       "    </tr>\n",
       "    <tr>\n",
       "      <th>89</th>\n",
       "      <td>0.0</td>\n",
       "    </tr>\n",
       "    <tr>\n",
       "      <th>90</th>\n",
       "      <td>0.0</td>\n",
       "    </tr>\n",
       "    <tr>\n",
       "      <th>91</th>\n",
       "      <td>0.0</td>\n",
       "    </tr>\n",
       "    <tr>\n",
       "      <th>92</th>\n",
       "      <td>0.0</td>\n",
       "    </tr>\n",
       "    <tr>\n",
       "      <th>93</th>\n",
       "      <td>0.0</td>\n",
       "    </tr>\n",
       "    <tr>\n",
       "      <th>94</th>\n",
       "      <td>0.0</td>\n",
       "    </tr>\n",
       "    <tr>\n",
       "      <th>95</th>\n",
       "      <td>0.0</td>\n",
       "    </tr>\n",
       "    <tr>\n",
       "      <th>96</th>\n",
       "      <td>0.0</td>\n",
       "    </tr>\n",
       "  </tbody>\n",
       "</table>\n",
       "<p>97 rows × 1 columns</p>\n",
       "</div>"
      ],
      "text/plain": [
       "      0\n",
       "0   0.0\n",
       "1   0.0\n",
       "2   0.0\n",
       "3   0.0\n",
       "4   0.0\n",
       "5   0.0\n",
       "6   0.0\n",
       "7   0.0\n",
       "8   0.0\n",
       "9   0.0\n",
       "10  0.0\n",
       "11  0.0\n",
       "12  0.0\n",
       "13  0.0\n",
       "14  0.0\n",
       "15  0.0\n",
       "16  0.0\n",
       "17  0.0\n",
       "18  0.0\n",
       "19  0.0\n",
       "20  0.0\n",
       "21  0.0\n",
       "22  0.0\n",
       "23  0.0\n",
       "24  0.0\n",
       "25  0.0\n",
       "26  0.0\n",
       "27  0.0\n",
       "28  0.0\n",
       "29  0.0\n",
       "..  ...\n",
       "67  0.0\n",
       "68  0.0\n",
       "69  0.0\n",
       "70  0.0\n",
       "71  0.0\n",
       "72  0.0\n",
       "73  0.0\n",
       "74  0.0\n",
       "75  0.0\n",
       "76  0.0\n",
       "77  0.0\n",
       "78  0.0\n",
       "79  0.0\n",
       "80  0.0\n",
       "81  0.0\n",
       "82  0.0\n",
       "83  0.0\n",
       "84  0.0\n",
       "85  0.0\n",
       "86  0.0\n",
       "87  0.0\n",
       "88  0.0\n",
       "89  0.0\n",
       "90  0.0\n",
       "91  0.0\n",
       "92  0.0\n",
       "93  0.0\n",
       "94  0.0\n",
       "95  0.0\n",
       "96  0.0\n",
       "\n",
       "[97 rows x 1 columns]"
      ]
     },
     "execution_count": 289,
     "metadata": {},
     "output_type": "execute_result"
    }
   ],
   "source": [
    "X.dot(theta)"
   ]
  },
  {
   "cell_type": "markdown",
   "metadata": {},
   "source": [
    "<a id=\"section2\"></a>\n",
    "#### 1.2.3 Computing the cost $J(\\theta)$\n",
    "\n",
    "As we perform gradient descent to learn minimize the cost function $J(\\theta)$, it is helpful to monitor the convergence by computing the cost. To help us do this, we implement a function to calculate $J(\\theta)$ so we can check the convergence of the gradient descent implementation. \n",
    "\n",
    "Remember that the variables $X$ and $y$ are not scalar values. $X$ is a matrix whose rows represent the examples from the training set and $y$ is a vector whose each element represents the value at a given row of $X$.\n",
    "<a id=\"computeCost\"></a>"
   ]
  },
  {
   "cell_type": "code",
   "execution_count": 290,
   "metadata": {
    "collapsed": true
   },
   "outputs": [],
   "source": [
    "def computeCost(X, y, theta):\n",
    "    \"\"\"\n",
    "    Compute cost for linear regression. Computes the cost of using theta as the\n",
    "    parameter for linear regression to fit the data points in X and y.\n",
    "    \n",
    "    Parameters\n",
    "    ----------\n",
    "    X : array_like\n",
    "        The input dataset of shape (m x n+1), where m is the number of examples,\n",
    "        and n is the number of features. We assume a vector of 1s is already \n",
    "        appended to the features so we have n+1 columns.\n",
    "    \n",
    "    y : array_like\n",
    "        The values of the function at each data point. This is a vector of\n",
    "        shape (m, 1)\n",
    "    \n",
    "    theta : array_like\n",
    "        The parameters for the regression function. This is a vector of \n",
    "        shape (n+1, 1).\n",
    "    \n",
    "    Returns\n",
    "    -------\n",
    "    J : float\n",
    "        The value of the regression cost function.\n",
    "    \"\"\"\n",
    "    J_temp = np.dot(X, theta) - y\n",
    "    J_temp = np.power(J_temp, 2)\n",
    "    m = len(y)\n",
    "    J = np.sum(J_temp) / (2*m)\n",
    "    return J"
   ]
  },
  {
   "cell_type": "markdown",
   "metadata": {},
   "source": [
    "Now we will run `computeCost` using three different initializations of $\\theta$. In each case, the cost is printed to the screen. I've also left in some debugging `print` statements that look at the shape of theta - which is useful because numpy and pandas don't necessarily \"play nicely\" together!"
   ]
  },
  {
   "cell_type": "code",
   "execution_count": 291,
   "metadata": {},
   "outputs": [
    {
     "name": "stdout",
     "output_type": "stream",
     "text": [
      "J is Profit    32.072734\n",
      "dtype: float64\n",
      "J's shape is (1,)\n",
      "With theta = [0, 0] \n",
      "Cost computed = 32.07\n",
      "Expected cost value (approximately) 32.07\n",
      "\n"
     ]
    }
   ],
   "source": [
    "J = computeCost(X, y, theta)\n",
    "print(\"J is {}\".format(J))\n",
    "print(\"J's shape is {}\".format(J.shape))\n",
    "print('With theta = [0, 0] \\nCost computed = %.2f' % J)\n",
    "print('Expected cost value (approximately) 32.07\\n')"
   ]
  },
  {
   "cell_type": "markdown",
   "metadata": {},
   "source": [
    "A second test of the `computeCost` function"
   ]
  },
  {
   "cell_type": "code",
   "execution_count": 292,
   "metadata": {},
   "outputs": [
    {
     "name": "stdout",
     "output_type": "stream",
     "text": [
      "With theta = [-1, 2]\n",
      "Cost computed = 54.24\n",
      "Expected cost value (approximately) 54.24\n"
     ]
    }
   ],
   "source": [
    "# further testing of the cost function\n",
    "theta2 = np.array([-1,2])\n",
    "#print(\"Theta2 is {}\".format(theta2))\n",
    "#print(\"Theta2's shape is{}\".format(theta2.shape))\n",
    "theta2 = theta2[:,np.newaxis]\n",
    "#print(\"Theta2 is now {}\".format(theta2))\n",
    "#print(\"Theta2's shape is now {}\".format(theta2.shape))\n",
    "J = computeCost(X, y, theta2)\n",
    "print('With theta = [-1, 2]\\nCost computed = %.2f' % J)\n",
    "print('Expected cost value (approximately) 54.24')"
   ]
  },
  {
   "cell_type": "markdown",
   "metadata": {},
   "source": [
    "And one further test case from the course's forum:"
   ]
  },
  {
   "cell_type": "code",
   "execution_count": 293,
   "metadata": {},
   "outputs": [
    {
     "name": "stdout",
     "output_type": "stream",
     "text": [
      "Test case 3: expected value 11.9450\n",
      "Output:\n",
      "11.945\n"
     ]
    }
   ],
   "source": [
    "X3 = np.array([[1, 1, 1, 1], [2, 3, 4, 5]])\n",
    "X3 = X3.T\n",
    "#print(\"X3 is {}\".format(X3))\n",
    "#print(\"X3's shape is {}\".format(X3.shape))\n",
    "y3 = np.array([[7, 6, 5, 4]])\n",
    "y3 = y3.T\n",
    "#print(\"y3 is {}\".format(y3))\n",
    "#print(\"y3's shape is {}\".format(y3.shape))\n",
    "theta3 = np.array([0.1, 0.2])\n",
    "theta3 = theta3[:,np.newaxis]\n",
    "#print(\"theta3 is {}\".format(theta3))\n",
    "#print(\"theta3's shape is {}\".format(theta3.shape))\n",
    "print(\"Test case 3: expected value 11.9450\")\n",
    "print(\"Output:\")\n",
    "print(computeCost(X3, y3, theta3))"
   ]
  },
  {
   "cell_type": "markdown",
   "metadata": {},
   "source": [
    "#### 1.2.4 Gradient Descent\n",
    "\n",
    "Next, we implement a function for gradient descent. \n",
    "\n",
    "The cost $J(\\theta)$ is parameterized by the vector $\\theta$, not $X$ and $y$.\n",
    "\n",
    "That is, we minimize the value of $J(\\theta)$ by changing the values of the vector $\\theta$, not by changing $X$ or $y$. A good way to verify that gradient descent is working correctly is to look at the value of $J(\\theta)$ and check that it is decreasing with each step.\n",
    "\n",
    "<div class=\"alert alert-box alert-warning\">\n",
    "**Vectors and matrices in `numpy`** - Important implementation notes\n",
    "\n",
    "A vector in `numpy` is a one dimensional array, for example `np.array([1, 2, 3])` is a vector. A matrix in `numpy` is a two dimensional array, for example `np.array([[1, 2, 3], [4, 5, 6]])`. However, the following is still considered a matrix `np.array([[1, 2, 3]])` since it has two dimensions, even if it has a shape of 1x3 (which looks like a vector).\n",
    "\n",
    "Given the above, the function `np.dot` which we will use for all matrix/vector multiplication has the following properties:\n",
    "- It always performs inner products on vectors. If `x=np.array([1, 2, 3])`, then `np.dot(x, x)` is a scalar.\n",
    "- For matrix-vector multiplication, so if $X$ is a $m\\times n$ matrix and $y$ is a vector of length $m$, then the operation `np.dot(y, X)` considers $y$ as a $1 \\times m$ vector. On the other hand, if $y$ is a vector of length $n$, then the operation `np.dot(X, y)` considers $y$ as a $n \\times 1$ vector.\n",
    "- A vector can be promoted to a matrix using `y[None]` or `[y[np.newaxis]`. That is, if `y = np.array([1, 2, 3])` is a vector of size 3, then `y[None, :]` is a matrix of shape $1 \\times 3$. We can use `y[:, None]` to obtain a shape of $3 \\times 1$.\n",
    "<div>\n",
    "<a id=\"gradientDescent\"></a>\n",
    "\n",
    "\n",
    "\n",
    "\n",
    "\n",
    "Now we define our algorithm for gradient descent:"
   ]
  },
  {
   "cell_type": "code",
   "execution_count": 294,
   "metadata": {
    "collapsed": true
   },
   "outputs": [],
   "source": [
    "def gradientDescent(X, y, theta, alpha, num_iters):\n",
    "    \"\"\"\n",
    "    Performs gradient descent to learn `theta`. Updates theta by taking `num_iters`\n",
    "    gradient steps with learning rate `alpha`.\n",
    "    \n",
    "    Parameters\n",
    "    ----------\n",
    "    X : array_like\n",
    "        The input dataset of shape (m x n+1).\n",
    "    \n",
    "    y : array_like\n",
    "        Value at given features. A vector of shape (m, ).\n",
    "    \n",
    "    theta : array_like\n",
    "        Initial values for the linear regression parameters. \n",
    "        A vector of shape (n+1, ).\n",
    "    \n",
    "    alpha : float\n",
    "        The learning rate.\n",
    "    \n",
    "    num_iters : int\n",
    "        The number of iterations for gradient descent. \n",
    "    \n",
    "    Returns\n",
    "    -------\n",
    "    theta : array_like\n",
    "        The learned linear regression parameters. A vector of shape (n+1, ).\n",
    "    \n",
    "    J_history : list\n",
    "        A python list for the values of the cost function after each iteration.\n",
    "    \n",
    "    Instructions\n",
    "    ------------\n",
    "    Peform a single gradient step on the parameter vector theta.\n",
    "\n",
    "    While debugging, it can be useful to print out the values of \n",
    "    the cost function (computeCost) and gradient here.\n",
    "    \"\"\"\n",
    "    # Initialize some useful values\n",
    "    m = len(y)  # number of training examples\n",
    "    \n",
    "    # make a copy of theta, to avoid changing the original array, since numpy arrays\n",
    "    # ...are passed by reference to functions\n",
    "    theta = theta.copy()\n",
    "    \n",
    "    J_history = [] # Use a python list to save cost for every iteration\n",
    "    \n",
    "    for i in range(num_iters):\n",
    "        # calculate an updated value of theta by taking a step down the gradient\n",
    "        error = np.dot(X, theta) - y\n",
    "        temp = np.dot(X.T, error)\n",
    "        temp = (alpha/m)*temp\n",
    "        theta = theta - temp\n",
    "        # save the cost J in every iteration\n",
    "        J_history.append(computeCost(X, y, theta))\n",
    "    \n",
    "    return theta, J_history"
   ]
  },
  {
   "cell_type": "markdown",
   "metadata": {},
   "source": [
    "Let's check this works. We'll initialize the $\\theta$ parameters to 0 and the learning rate $\\alpha$ to 0.01, and print the output vs. the expected values (provided by the course and `dibmerge`)."
   ]
  },
  {
   "cell_type": "code",
   "execution_count": 297,
   "metadata": {},
   "outputs": [
    {
     "name": "stdout",
     "output_type": "stream",
     "text": [
      "Theta found by gradient descent: [[-3.63029144]\n",
      " [ 1.16636235]]\n",
      "Expected theta values (approximately): [-3.6303, 1.1664]\n"
     ]
    }
   ],
   "source": [
    "# initialize fitting parameters\n",
    "theta = np.zeros([2,1])\n",
    "\n",
    "# some gradient descent settings\n",
    "iterations = 1500\n",
    "alpha = 0.01\n",
    "\n",
    "theta, J_history = gradientDescent(X ,y, theta, alpha, iterations)\n",
    "print('Theta found by gradient descent: {}'.format(theta))\n",
    "print('Expected theta values (approximately): [-3.6303, 1.1664]')"
   ]
  },
  {
   "cell_type": "markdown",
   "metadata": {},
   "source": [
    "Now we plot the linear fit"
   ]
  },
  {
   "cell_type": "code",
   "execution_count": 298,
   "metadata": {},
   "outputs": [
    {
     "data": {
      "image/png": "[encoded data removed]",
      "text/plain": [
       "<matplotlib.figure.Figure at 0x1168fa208>"
      ]
     },
     "metadata": {},
     "output_type": "display_data"
    }
   ],
   "source": [
    "# plot the linear fit\n",
    "plt.scatter(X.iloc[:, 1], y, marker = \"o\", color = \"r\")\n",
    "plt.xlabel('Population of City in 10,000s')\n",
    "plt.ylabel('Profit in $10,000s')\n",
    "plt.plot(X.iloc[:, 1], np.dot(X, theta), '-')\n",
    "plt.legend(['Training data', 'Linear regression']);\n",
    "plt.show()"
   ]
  },
  {
   "cell_type": "markdown",
   "metadata": {},
   "source": [
    "Finally, we can use the values for $\\theta$ that we generated using gradient descent to make predictions of profits in areas with populations 35,000 and 70,000 people.\n",
    "\n",
    "<div class=\"alert alert-block alert-success\">\n",
    "Note the way that the following lines use matrix multiplication, rather than explicit summation or looping, to calculate the predictions. This is an example of code vectorization in `numpy`.\n",
    "</div>\n",
    "\n",
    "<div class=\"alert alert-block alert-success\">\n",
    "Note that the first argument to the `numpy` function `dot` is a python list. `numpy` can internally convert **valid** python lists to numpy arrays when explicitly provided as arguments to `numpy` functions.\n",
    "</div>\n"
   ]
  },
  {
   "cell_type": "code",
   "execution_count": 299,
   "metadata": {},
   "outputs": [
    {
     "name": "stdout",
     "output_type": "stream",
     "text": [
      "For population = 35,000, we predict a profit of $[ 40819.05197031]\n",
      "\n",
      "For population = 70,000, we predict a profit of $[ 81641.73423205]\n",
      "\n"
     ]
    }
   ],
   "source": [
    "# Predict values for population sizes of 35,000 and 70,000\n",
    "predict1 = np.dot([1, 35000], theta)\n",
    "print('For population = 35,000, we predict a profit of ${}\\n'.format(predict1))\n",
    "\n",
    "predict2 = np.dot([1, 70000], theta)\n",
    "print('For population = 70,000, we predict a profit of ${}\\n'.format(predict2))"
   ]
  },
  {
   "cell_type": "markdown",
   "metadata": {},
   "source": [
    "### 1.3 Visualizing $J(\\theta)$\n",
    "\n",
    "As a first visualisation, let's create a chart of $J(\\theta)$ vs. the number of training iterations"
   ]
  },
  {
   "cell_type": "code",
   "execution_count": 300,
   "metadata": {},
   "outputs": [
    {
     "data": {
      "text/plain": [
       "<matplotlib.text.Text at 0x118e15390>"
      ]
     },
     "execution_count": 300,
     "metadata": {},
     "output_type": "execute_result"
    },
    {
     "data": {
      "image/png": "[encoded data removed]",
      "text/plain": [
       "<matplotlib.figure.Figure at 0x1193096d8>"
      ]
     },
     "metadata": {},
     "output_type": "display_data"
    }
   ],
   "source": [
    "fig, ax = plt.subplots(figsize=(12,8))\n",
    "ax.plot(np.arange(iterations), J_history, 'r')\n",
    "ax.set_xlabel('Iterations')\n",
    "ax.set_ylabel('Cost')\n",
    "ax.set_title('Error vs. Training Iterations')"
   ]
  },
  {
   "cell_type": "markdown",
   "metadata": {},
   "source": [
    "To understand the cost function $J(\\theta)$ better, we can plot the cost over a 2-dimensional grid of $\\theta_0$ and $\\theta_1$ values.\n",
    "\n",
    "The code in the next cell does the following:\n",
    "- First we create a 100 x 100 2-D array - think of this as the $xy$ plane\n",
    "- Next, we calculate the value of $J(\\theta)$ at every point on that plane\n",
    "- Lastly, we use those values to produce surface and contour plots of $J(\\theta)$ using the matplotlib `plot_surface` and `contourf` functions."
   ]
  },
  {
   "cell_type": "code",
   "execution_count": 301,
   "metadata": {},
   "outputs": [
    {
     "data": {
      "image/png": "[encoded data removed]",
      "text/plain": [
       "<matplotlib.figure.Figure at 0x116470b00>"
      ]
     },
     "metadata": {},
     "output_type": "display_data"
    }
   ],
   "source": [
    "# instantiate a 100 x 100 grid over which we will calculate J\n",
    "theta0_vals = np.linspace(-10, 10, 100)\n",
    "theta1_vals = np.linspace(-1, 4, 100)\n",
    "\n",
    "# initialize J_vals to a matrix of 0's\n",
    "J_vals = np.zeros((theta0_vals.shape[0], theta1_vals.shape[0]))\n",
    "\n",
    "# Fill out J_vals\n",
    "for i, theta0 in enumerate(theta0_vals):\n",
    "    for j, theta1 in enumerate(theta1_vals):\n",
    "        # ensure theta has the right dimensions - for my implementation to work, needs to be a 2 x 1 vector\n",
    "        theta_temp = np.array([theta0, theta1])\n",
    "        theta_temp = theta_temp[:,np.newaxis]\n",
    "        J_vals[i, j] = computeCost(X, y, theta_temp)\n",
    "        \n",
    "        \n",
    "# Because of the way meshgrids work in the plot_surface() command, we need to\n",
    "# ...transpose J_vals before calling plot_surface(), or else the axes will be flipped\n",
    "J_vals = J_vals.T\n",
    "\n",
    "# surface plot\n",
    "fig = plt.figure(figsize=(12, 5))\n",
    "ax = fig.add_subplot(121, projection='3d')\n",
    "ax.plot_surface(theta0_vals, theta1_vals, J_vals, cmap='viridis')\n",
    "plt.xlabel('theta0')\n",
    "plt.ylabel('theta1')\n",
    "plt.title('Surface')\n",
    "\n",
    "# contour plot\n",
    "# Plot J_vals as 15 contours spaced logarithmically between 0.01 and 100\n",
    "ax = plt.subplot(122)\n",
    "plt.contour(theta0_vals, theta1_vals, J_vals, linewidths=2, cmap='viridis', levels=np.logspace(-2, 3, 20))\n",
    "plt.xlabel('theta0')\n",
    "plt.ylabel('theta1')\n",
    "plt.plot(theta[0], theta[1], 'ro', ms=10, lw=2)\n",
    "plt.title('Contour, showing minimum')\n",
    "pass"
   ]
  },
  {
   "cell_type": "markdown",
   "metadata": {},
   "source": [
    "The graphs is show us how $J(\\theta)$ varies with changes in $\\theta_0$ and $\\theta_1$. The cost function $J(\\theta)$ is bowl-shaped and has a global minimum. (This is easier to see in the contour plot than in the 3D surface plot). This minimum is the optimal point for $\\theta_0$ and $\\theta_1$, and each step of gradient descent moves closer to this point."
   ]
  },
  {
   "cell_type": "markdown",
   "metadata": {},
   "source": [
    "## Optional Exercises\n",
    "\n",
    "The exercises for this part of the course also include some optional exercises to better understand the material.\n",
    "\n",
    "## 2 Linear regression with multiple variables\n",
    "\n",
    "In this part, we will implement linear regression with multiple variables to predict the prices of houses. Suppose you are selling your house and you want to know what a good market price would be. One way to do this is to first collect information on recent houses sold and make a model of housing prices.\n",
    "\n",
    "The file `Data/ex1data2.txt` contains a training set of housing prices in Portland, Oregon. The first column is the size of the house (in square feet), the second column is the number of bedrooms, and the third column is the price of the house.\n",
    "\n",
    "Let's load the data and take a look at it. I'm going to do this using a pandas dataframe (as I did above) because this makes it easier to complete the normalization."
   ]
  },
  {
   "cell_type": "code",
   "execution_count": 302,
   "metadata": {},
   "outputs": [
    {
     "data": {
      "text/html": [
       "<div>\n",
       "<style>\n",
       "    .dataframe thead tr:only-child th {\n",
       "        text-align: right;\n",
       "    }\n",
       "\n",
       "    .dataframe thead th {\n",
       "        text-align: left;\n",
       "    }\n",
       "\n",
       "    .dataframe tbody tr th {\n",
       "        vertical-align: top;\n",
       "    }\n",
       "</style>\n",
       "<table border=\"1\" class=\"dataframe\">\n",
       "  <thead>\n",
       "    <tr style=\"text-align: right;\">\n",
       "      <th></th>\n",
       "      <th>Size</th>\n",
       "      <th>Bedrooms</th>\n",
       "      <th>Price</th>\n",
       "    </tr>\n",
       "  </thead>\n",
       "  <tbody>\n",
       "    <tr>\n",
       "      <th>0</th>\n",
       "      <td>2104</td>\n",
       "      <td>3</td>\n",
       "      <td>399900</td>\n",
       "    </tr>\n",
       "    <tr>\n",
       "      <th>1</th>\n",
       "      <td>1600</td>\n",
       "      <td>3</td>\n",
       "      <td>329900</td>\n",
       "    </tr>\n",
       "    <tr>\n",
       "      <th>2</th>\n",
       "      <td>2400</td>\n",
       "      <td>3</td>\n",
       "      <td>369000</td>\n",
       "    </tr>\n",
       "    <tr>\n",
       "      <th>3</th>\n",
       "      <td>1416</td>\n",
       "      <td>2</td>\n",
       "      <td>232000</td>\n",
       "    </tr>\n",
       "    <tr>\n",
       "      <th>4</th>\n",
       "      <td>3000</td>\n",
       "      <td>4</td>\n",
       "      <td>539900</td>\n",
       "    </tr>\n",
       "  </tbody>\n",
       "</table>\n",
       "</div>"
      ],
      "text/plain": [
       "   Size  Bedrooms   Price\n",
       "0  2104         3  399900\n",
       "1  1600         3  329900\n",
       "2  2400         3  369000\n",
       "3  1416         2  232000\n",
       "4  3000         4  539900"
      ]
     },
     "execution_count": 302,
     "metadata": {},
     "output_type": "execute_result"
    }
   ],
   "source": [
    "# Load data\n",
    "data2 = pd.read_csv('Data/ex1data2.txt', header=None, names=['Size', 'Bedrooms', 'Price'])\n",
    "data2.head()"
   ]
  },
  {
   "cell_type": "markdown",
   "metadata": {},
   "source": [
    "### 2.1 Feature Normalization\n",
    "\n",
    "By looking at the values, note that house sizes are about 1000 times the number of bedrooms. When features differ by several orders of magnitude,  feature scaling can make gradient descent converge much more quickly."
   ]
  },
  {
   "cell_type": "markdown",
   "metadata": {},
   "source": [
    "We do this by defining a `featureNormalize` function that does the following:\n",
    "- Subtract the mean value of each feature from the dataset.\n",
    "- After subtracting the mean, additionally scale (divide) the feature values by their respective “standard deviations.”\n",
    "\n",
    "The standard deviation is a way of measuring how much variation there is in the range of values of a particular feature (most data points will lie within ±2 standard deviations of the mean); this is an alternative to taking the range of values (max-min). Using a pandas data frame, we can compute this very quickly using the `std()` method.\n",
    "\n",
    "You will do this for all the features and your code should work with datasets of all sizes (any number of features / examples). Note that each column of the matrix $X$ corresponds to one feature.\n",
    "\n",
    "<div class=\"alert alert-block alert-warning\">\n",
    "**Implementation Note:** When normalizing the features, it is important\n",
    "to store the values used for normalization - the mean value and the standard deviation used for the computations. After learning the parameters\n",
    "from the model, we often want to predict the prices of houses we have not\n",
    "seen before. Given a new x value (floor area and number of bedrooms), we must first normalize x using the mean and standard deviation that we had previously computed from the training set.\n",
    "</div>\n",
    "\n",
    "First we will define a function to normalize the values of any input matrix X:"
   ]
  },
  {
   "cell_type": "code",
   "execution_count": 303,
   "metadata": {
    "collapsed": true
   },
   "outputs": [],
   "source": [
    "def  featureNormalize(X):\n",
    "    \"\"\"\n",
    "    Normalizes the features in X. returns a normalized version of X where\n",
    "    the mean value of each feature is 0 and the standard deviation\n",
    "    is 1.\n",
    "    \n",
    "    Parameters\n",
    "    ----------\n",
    "    X : array_like\n",
    "        The dataset of shape (m x n).\n",
    "    \n",
    "    Returns\n",
    "    -------\n",
    "    X_norm : a pandas data frame representing the normalized dataset of shape (m x n).\n",
    "        \n",
    "    X_mean : a pandas series containing floats of the means of each item in X\n",
    "\n",
    "    X_std : a pandas series containing floats of the standard deviations of each item in X\n",
    "    \n",
    "    Notes\n",
    "    ------------\n",
    "    As a pandas data frame, we can compute this very quickly - in three lines as below.\n",
    "    However, note that the grader for the Coursera course won't accept a pandas dataframe,\n",
    "    or a pandas series, as input - so we'll need to select our data from this data frame later\n",
    "    \"\"\"\n",
    "    # compute the mean, standard deviation of each column in the data frame, and then normalise  \n",
    "    X_mean = X.mean()\n",
    "    X_std = X.std()\n",
    "    X_normed = (X - X_mean) / X_std\n",
    "    return X_normed, X_mean, X_std"
   ]
  },
  {
   "cell_type": "markdown",
   "metadata": {},
   "source": [
    "Now we run our `featureNormalize()` function."
   ]
  },
  {
   "cell_type": "code",
   "execution_count": 304,
   "metadata": {},
   "outputs": [
    {
     "name": "stdout",
     "output_type": "stream",
     "text": [
      "Computed mean: Size          2000.680851\n",
      "Bedrooms         3.170213\n",
      "Price       340412.659574\n",
      "dtype: float64\n",
      "Computed standard deviation: Size           794.702354\n",
      "Bedrooms         0.760982\n",
      "Price       125039.899586\n",
      "dtype: float64\n"
     ]
    }
   ],
   "source": [
    "# call featureNormalize on the loaded data\n",
    "X_norm, X_mean, X_std = featureNormalize(data2)\n",
    "print('Computed mean:', X_mean)\n",
    "print('Computed standard deviation:', X_std)"
   ]
  },
  {
   "cell_type": "code",
   "execution_count": 305,
   "metadata": {},
   "outputs": [
    {
     "data": {
      "text/html": [
       "<div>\n",
       "<style>\n",
       "    .dataframe thead tr:only-child th {\n",
       "        text-align: right;\n",
       "    }\n",
       "\n",
       "    .dataframe thead th {\n",
       "        text-align: left;\n",
       "    }\n",
       "\n",
       "    .dataframe tbody tr th {\n",
       "        vertical-align: top;\n",
       "    }\n",
       "</style>\n",
       "<table border=\"1\" class=\"dataframe\">\n",
       "  <thead>\n",
       "    <tr style=\"text-align: right;\">\n",
       "      <th></th>\n",
       "      <th>Size</th>\n",
       "      <th>Bedrooms</th>\n",
       "      <th>Price</th>\n",
       "    </tr>\n",
       "  </thead>\n",
       "  <tbody>\n",
       "    <tr>\n",
       "      <th>0</th>\n",
       "      <td>0.130010</td>\n",
       "      <td>-0.223675</td>\n",
       "      <td>0.475747</td>\n",
       "    </tr>\n",
       "    <tr>\n",
       "      <th>1</th>\n",
       "      <td>-0.504190</td>\n",
       "      <td>-0.223675</td>\n",
       "      <td>-0.084074</td>\n",
       "    </tr>\n",
       "    <tr>\n",
       "      <th>2</th>\n",
       "      <td>0.502476</td>\n",
       "      <td>-0.223675</td>\n",
       "      <td>0.228626</td>\n",
       "    </tr>\n",
       "    <tr>\n",
       "      <th>3</th>\n",
       "      <td>-0.735723</td>\n",
       "      <td>-1.537767</td>\n",
       "      <td>-0.867025</td>\n",
       "    </tr>\n",
       "    <tr>\n",
       "      <th>4</th>\n",
       "      <td>1.257476</td>\n",
       "      <td>1.090417</td>\n",
       "      <td>1.595389</td>\n",
       "    </tr>\n",
       "  </tbody>\n",
       "</table>\n",
       "</div>"
      ],
      "text/plain": [
       "       Size  Bedrooms     Price\n",
       "0  0.130010 -0.223675  0.475747\n",
       "1 -0.504190 -0.223675 -0.084074\n",
       "2  0.502476 -0.223675  0.228626\n",
       "3 -0.735723 -1.537767 -0.867025\n",
       "4  1.257476  1.090417  1.595389"
      ]
     },
     "execution_count": 305,
     "metadata": {},
     "output_type": "execute_result"
    }
   ],
   "source": [
    "X_norm.head()"
   ]
  },
  {
   "cell_type": "markdown",
   "metadata": {},
   "source": [
    "Now I'm going to create a test case that I can re-create in excel to test that the output is what I'd expect, arithmetically"
   ]
  },
  {
   "cell_type": "code",
   "execution_count": 306,
   "metadata": {
    "collapsed": true
   },
   "outputs": [],
   "source": [
    "Test1 = data2[0:5].copy()"
   ]
  },
  {
   "cell_type": "code",
   "execution_count": 307,
   "metadata": {},
   "outputs": [
    {
     "data": {
      "text/html": [
       "<div>\n",
       "<style>\n",
       "    .dataframe thead tr:only-child th {\n",
       "        text-align: right;\n",
       "    }\n",
       "\n",
       "    .dataframe thead th {\n",
       "        text-align: left;\n",
       "    }\n",
       "\n",
       "    .dataframe tbody tr th {\n",
       "        vertical-align: top;\n",
       "    }\n",
       "</style>\n",
       "<table border=\"1\" class=\"dataframe\">\n",
       "  <thead>\n",
       "    <tr style=\"text-align: right;\">\n",
       "      <th></th>\n",
       "      <th>Size</th>\n",
       "      <th>Bedrooms</th>\n",
       "      <th>Price</th>\n",
       "    </tr>\n",
       "  </thead>\n",
       "  <tbody>\n",
       "    <tr>\n",
       "      <th>0</th>\n",
       "      <td>2104</td>\n",
       "      <td>3</td>\n",
       "      <td>399900</td>\n",
       "    </tr>\n",
       "    <tr>\n",
       "      <th>1</th>\n",
       "      <td>1600</td>\n",
       "      <td>3</td>\n",
       "      <td>329900</td>\n",
       "    </tr>\n",
       "    <tr>\n",
       "      <th>2</th>\n",
       "      <td>2400</td>\n",
       "      <td>3</td>\n",
       "      <td>369000</td>\n",
       "    </tr>\n",
       "    <tr>\n",
       "      <th>3</th>\n",
       "      <td>1416</td>\n",
       "      <td>2</td>\n",
       "      <td>232000</td>\n",
       "    </tr>\n",
       "    <tr>\n",
       "      <th>4</th>\n",
       "      <td>3000</td>\n",
       "      <td>4</td>\n",
       "      <td>539900</td>\n",
       "    </tr>\n",
       "  </tbody>\n",
       "</table>\n",
       "</div>"
      ],
      "text/plain": [
       "   Size  Bedrooms   Price\n",
       "0  2104         3  399900\n",
       "1  1600         3  329900\n",
       "2  2400         3  369000\n",
       "3  1416         2  232000\n",
       "4  3000         4  539900"
      ]
     },
     "execution_count": 307,
     "metadata": {},
     "output_type": "execute_result"
    }
   ],
   "source": [
    "Test1"
   ]
  },
  {
   "cell_type": "markdown",
   "metadata": {},
   "source": [
    "Now we'll normalize this and see what the output looks like"
   ]
  },
  {
   "cell_type": "code",
   "execution_count": 308,
   "metadata": {
    "collapsed": true
   },
   "outputs": [],
   "source": [
    "# call featureNormalize on  Test1\n",
    "X_norm_T1, X_mean_T1, X_std_T1 = featureNormalize(Test1)"
   ]
  },
  {
   "cell_type": "code",
   "execution_count": 309,
   "metadata": {},
   "outputs": [
    {
     "data": {
      "text/html": [
       "<div>\n",
       "<style>\n",
       "    .dataframe thead tr:only-child th {\n",
       "        text-align: right;\n",
       "    }\n",
       "\n",
       "    .dataframe thead th {\n",
       "        text-align: left;\n",
       "    }\n",
       "\n",
       "    .dataframe tbody tr th {\n",
       "        vertical-align: top;\n",
       "    }\n",
       "</style>\n",
       "<table border=\"1\" class=\"dataframe\">\n",
       "  <thead>\n",
       "    <tr style=\"text-align: right;\">\n",
       "      <th></th>\n",
       "      <th>Size</th>\n",
       "      <th>Bedrooms</th>\n",
       "      <th>Price</th>\n",
       "    </tr>\n",
       "  </thead>\n",
       "  <tbody>\n",
       "    <tr>\n",
       "      <th>0</th>\n",
       "      <td>0.000000</td>\n",
       "      <td>0.000000</td>\n",
       "      <td>0.229654</td>\n",
       "    </tr>\n",
       "    <tr>\n",
       "      <th>1</th>\n",
       "      <td>-0.792500</td>\n",
       "      <td>0.000000</td>\n",
       "      <td>-0.394406</td>\n",
       "    </tr>\n",
       "    <tr>\n",
       "      <th>2</th>\n",
       "      <td>0.465436</td>\n",
       "      <td>0.000000</td>\n",
       "      <td>-0.045824</td>\n",
       "    </tr>\n",
       "    <tr>\n",
       "      <th>3</th>\n",
       "      <td>-1.081825</td>\n",
       "      <td>-1.414214</td>\n",
       "      <td>-1.267198</td>\n",
       "    </tr>\n",
       "    <tr>\n",
       "      <th>4</th>\n",
       "      <td>1.408889</td>\n",
       "      <td>1.414214</td>\n",
       "      <td>1.477773</td>\n",
       "    </tr>\n",
       "  </tbody>\n",
       "</table>\n",
       "</div>"
      ],
      "text/plain": [
       "       Size  Bedrooms     Price\n",
       "0  0.000000  0.000000  0.229654\n",
       "1 -0.792500  0.000000 -0.394406\n",
       "2  0.465436  0.000000 -0.045824\n",
       "3 -1.081825 -1.414214 -1.267198\n",
       "4  1.408889  1.414214  1.477773"
      ]
     },
     "execution_count": 309,
     "metadata": {},
     "output_type": "execute_result"
    }
   ],
   "source": [
    "X_norm_T1"
   ]
  },
  {
   "cell_type": "code",
   "execution_count": 310,
   "metadata": {},
   "outputs": [
    {
     "data": {
      "text/plain": [
       "Size          2104.0\n",
       "Bedrooms         3.0\n",
       "Price       374140.0\n",
       "dtype: float64"
      ]
     },
     "execution_count": 310,
     "metadata": {},
     "output_type": "execute_result"
    }
   ],
   "source": [
    "X_mean_T1"
   ]
  },
  {
   "cell_type": "code",
   "execution_count": 311,
   "metadata": {},
   "outputs": [
    {
     "data": {
      "text/plain": [
       "Size           635.962263\n",
       "Bedrooms         0.707107\n",
       "Price       112168.770164\n",
       "dtype: float64"
      ]
     },
     "execution_count": 311,
     "metadata": {},
     "output_type": "execute_result"
    }
   ],
   "source": [
    "X_std_T1"
   ]
  },
  {
   "cell_type": "markdown",
   "metadata": {},
   "source": [
    "**Note!** Pandas defines the denominator for the standard deviation as <i>(n -1)</i> - which is the standard deviation of the <i>sample</i> - which is what we'd expect.\n",
    "\n",
    "I wonder if the grader expects <i>n</i>?\n",
    "\n",
    "Let's look at a few other test cases from the course's forum and see what results they expect"
   ]
  },
  {
   "cell_type": "code",
   "execution_count": 312,
   "metadata": {
    "collapsed": true
   },
   "outputs": [],
   "source": [
    "Test2 = pd.DataFrame([1, 2, 3])"
   ]
  },
  {
   "cell_type": "code",
   "execution_count": 313,
   "metadata": {
    "collapsed": true
   },
   "outputs": [],
   "source": [
    "X_norm_T2, X_mean_T2, X_std_T2 = featureNormalize(Test2)"
   ]
  },
  {
   "cell_type": "code",
   "execution_count": 314,
   "metadata": {},
   "outputs": [
    {
     "data": {
      "text/html": [
       "<div>\n",
       "<style>\n",
       "    .dataframe thead tr:only-child th {\n",
       "        text-align: right;\n",
       "    }\n",
       "\n",
       "    .dataframe thead th {\n",
       "        text-align: left;\n",
       "    }\n",
       "\n",
       "    .dataframe tbody tr th {\n",
       "        vertical-align: top;\n",
       "    }\n",
       "</style>\n",
       "<table border=\"1\" class=\"dataframe\">\n",
       "  <thead>\n",
       "    <tr style=\"text-align: right;\">\n",
       "      <th></th>\n",
       "      <th>0</th>\n",
       "    </tr>\n",
       "  </thead>\n",
       "  <tbody>\n",
       "    <tr>\n",
       "      <th>0</th>\n",
       "      <td>-1.0</td>\n",
       "    </tr>\n",
       "    <tr>\n",
       "      <th>1</th>\n",
       "      <td>0.0</td>\n",
       "    </tr>\n",
       "    <tr>\n",
       "      <th>2</th>\n",
       "      <td>1.0</td>\n",
       "    </tr>\n",
       "  </tbody>\n",
       "</table>\n",
       "</div>"
      ],
      "text/plain": [
       "     0\n",
       "0 -1.0\n",
       "1  0.0\n",
       "2  1.0"
      ]
     },
     "execution_count": 314,
     "metadata": {},
     "output_type": "execute_result"
    }
   ],
   "source": [
    "X_norm_T2"
   ]
  },
  {
   "cell_type": "code",
   "execution_count": 315,
   "metadata": {},
   "outputs": [
    {
     "data": {
      "text/plain": [
       "0    2.0\n",
       "dtype: float64"
      ]
     },
     "execution_count": 315,
     "metadata": {},
     "output_type": "execute_result"
    }
   ],
   "source": [
    "X_mean_T2"
   ]
  },
  {
   "cell_type": "code",
   "execution_count": 316,
   "metadata": {},
   "outputs": [
    {
     "data": {
      "text/plain": [
       "0    1.0\n",
       "dtype: float64"
      ]
     },
     "execution_count": 316,
     "metadata": {},
     "output_type": "execute_result"
    }
   ],
   "source": [
    "X_std_T2"
   ]
  },
  {
   "cell_type": "markdown",
   "metadata": {},
   "source": [
    "This is what we'd expect using the sample standard deviation (i.e. using <i>(n-1)</i>). So nothing unusual here."
   ]
  },
  {
   "cell_type": "markdown",
   "metadata": {},
   "source": [
    "### 2.2 Gradient Descent\n",
    "\n",
    "Now, we've already implemented gradient descent on a univariate regression problem. The only difference now is that there is one more feature in the matrix $X$. The hypothesis function and the batch gradient descent update\n",
    "rule remain unchanged.\n",
    "\n",
    "<div class=\"alert alert-block alert-warning\">\n",
    "**Implementation Note:** In the multivariate case, the cost function can\n",
    "also be written in the following vectorized form:\n",
    "\n",
    "$$ J(\\theta) = \\frac{1}{2m}(X\\theta - \\vec{y})^T(X\\theta - \\vec{y}) $$\n",
    "\n",
    "where \n",
    "\n",
    "$$ X = \\begin{pmatrix}\n",
    "          - (x^{(1)})^T - \\\\\n",
    "          - (x^{(2)})^T - \\\\\n",
    "          \\vdots \\\\\n",
    "          - (x^{(m)})^T - \\\\ \\\\\n",
    "        \\end{pmatrix} \\qquad \\mathbf{y} = \\begin{bmatrix} y^{(1)} \\\\ y^{(2)} \\\\ \\vdots \\\\ y^{(m)} \\\\\\end{bmatrix}$$\n",
    "\n",
    "the vectorized version is efficient when you are working with numerical computing tools like `numpy`. If you are an expert with matrix operations, you can prove to yourself that the two forms are equivalent.\n",
    "</div>\n",
    "\n",
    "In fact, the way we've implemented our code extends to calculating the cost and performing gradient descent for multiple variable (aka \"<i>features</i>\") - in fact, any number of features.\n",
    "\n",
    "The course assumes that code we've written for uniariate regression <i>doesn't</i> generalize in this way, so it asks us to write two new fuctions `computeCostMulti()` and `gradientDescentMulti()` to implement the cost function and gradient descent for linear regression with multiple variables. As we'll see below, we don't need to do do this!"
   ]
  },
  {
   "cell_type": "markdown",
   "metadata": {},
   "source": [
    "#### 2.2.1 Preparing the data\n",
    "\n",
    "Remember that in our equation for the cost function we have a $\\theta_0$ term that is always initialized to <i>1</i>.\n",
    "\n",
    "We therefore need to add a column of $1$s to our expanded data set to prepare for gradient descent.\n",
    "\n",
    "The question is, when do we add this set of values that correspond to the $\\theta_0$ term?\n",
    "\n",
    "If we're used to using pandas, we'd probably choose to do this in directly in the data frame, and then normalize:\n",
    "\n",
    "**Note** only do this once, otherwise you'll get an error \"`ValueError: cannot insert Ones, already exists`\", and you'll have to reload `data2` again, above"
   ]
  },
  {
   "cell_type": "code",
   "execution_count": 317,
   "metadata": {
    "collapsed": true
   },
   "outputs": [],
   "source": [
    "# Add column of 1s to data2\n",
    "data2.insert(0, 'Ones', 1.00)"
   ]
  },
  {
   "cell_type": "code",
   "execution_count": 318,
   "metadata": {
    "scrolled": true
   },
   "outputs": [
    {
     "data": {
      "text/html": [
       "<div>\n",
       "<style>\n",
       "    .dataframe thead tr:only-child th {\n",
       "        text-align: right;\n",
       "    }\n",
       "\n",
       "    .dataframe thead th {\n",
       "        text-align: left;\n",
       "    }\n",
       "\n",
       "    .dataframe tbody tr th {\n",
       "        vertical-align: top;\n",
       "    }\n",
       "</style>\n",
       "<table border=\"1\" class=\"dataframe\">\n",
       "  <thead>\n",
       "    <tr style=\"text-align: right;\">\n",
       "      <th></th>\n",
       "      <th>Ones</th>\n",
       "      <th>Size</th>\n",
       "      <th>Bedrooms</th>\n",
       "      <th>Price</th>\n",
       "    </tr>\n",
       "  </thead>\n",
       "  <tbody>\n",
       "    <tr>\n",
       "      <th>0</th>\n",
       "      <td>1.0</td>\n",
       "      <td>2104</td>\n",
       "      <td>3</td>\n",
       "      <td>399900</td>\n",
       "    </tr>\n",
       "    <tr>\n",
       "      <th>1</th>\n",
       "      <td>1.0</td>\n",
       "      <td>1600</td>\n",
       "      <td>3</td>\n",
       "      <td>329900</td>\n",
       "    </tr>\n",
       "    <tr>\n",
       "      <th>2</th>\n",
       "      <td>1.0</td>\n",
       "      <td>2400</td>\n",
       "      <td>3</td>\n",
       "      <td>369000</td>\n",
       "    </tr>\n",
       "    <tr>\n",
       "      <th>3</th>\n",
       "      <td>1.0</td>\n",
       "      <td>1416</td>\n",
       "      <td>2</td>\n",
       "      <td>232000</td>\n",
       "    </tr>\n",
       "    <tr>\n",
       "      <th>4</th>\n",
       "      <td>1.0</td>\n",
       "      <td>3000</td>\n",
       "      <td>4</td>\n",
       "      <td>539900</td>\n",
       "    </tr>\n",
       "  </tbody>\n",
       "</table>\n",
       "</div>"
      ],
      "text/plain": [
       "   Ones  Size  Bedrooms   Price\n",
       "0   1.0  2104         3  399900\n",
       "1   1.0  1600         3  329900\n",
       "2   1.0  2400         3  369000\n",
       "3   1.0  1416         2  232000\n",
       "4   1.0  3000         4  539900"
      ]
     },
     "execution_count": 318,
     "metadata": {},
     "output_type": "execute_result"
    }
   ],
   "source": [
    "data2.head()"
   ]
  },
  {
   "cell_type": "markdown",
   "metadata": {},
   "source": [
    "OK - that looks right. So now let's normalize `data2` again - this time including the initial column of $1$s"
   ]
  },
  {
   "cell_type": "code",
   "execution_count": 319,
   "metadata": {},
   "outputs": [
    {
     "name": "stdout",
     "output_type": "stream",
     "text": [
      "Computed mean: Ones             1.000000\n",
      "Size          2000.680851\n",
      "Bedrooms         3.170213\n",
      "Price       340412.659574\n",
      "dtype: float64\n",
      "Computed standard deviation: Ones             0.000000\n",
      "Size           794.702354\n",
      "Bedrooms         0.760982\n",
      "Price       125039.899586\n",
      "dtype: float64\n"
     ]
    }
   ],
   "source": [
    "X_norm, X_mean, X_std = featureNormalize(data2)\n",
    "print('Computed mean:', X_mean)\n",
    "print('Computed standard deviation:', X_std)"
   ]
  },
  {
   "cell_type": "markdown",
   "metadata": {},
   "source": [
    "This all looks right. Let's take a look at our <i>X_norm</i> dataframe:"
   ]
  },
  {
   "cell_type": "code",
   "execution_count": 320,
   "metadata": {},
   "outputs": [
    {
     "data": {
      "text/html": [
       "<div>\n",
       "<style>\n",
       "    .dataframe thead tr:only-child th {\n",
       "        text-align: right;\n",
       "    }\n",
       "\n",
       "    .dataframe thead th {\n",
       "        text-align: left;\n",
       "    }\n",
       "\n",
       "    .dataframe tbody tr th {\n",
       "        vertical-align: top;\n",
       "    }\n",
       "</style>\n",
       "<table border=\"1\" class=\"dataframe\">\n",
       "  <thead>\n",
       "    <tr style=\"text-align: right;\">\n",
       "      <th></th>\n",
       "      <th>Ones</th>\n",
       "      <th>Size</th>\n",
       "      <th>Bedrooms</th>\n",
       "      <th>Price</th>\n",
       "    </tr>\n",
       "  </thead>\n",
       "  <tbody>\n",
       "    <tr>\n",
       "      <th>0</th>\n",
       "      <td>NaN</td>\n",
       "      <td>0.130010</td>\n",
       "      <td>-0.223675</td>\n",
       "      <td>0.475747</td>\n",
       "    </tr>\n",
       "    <tr>\n",
       "      <th>1</th>\n",
       "      <td>NaN</td>\n",
       "      <td>-0.504190</td>\n",
       "      <td>-0.223675</td>\n",
       "      <td>-0.084074</td>\n",
       "    </tr>\n",
       "    <tr>\n",
       "      <th>2</th>\n",
       "      <td>NaN</td>\n",
       "      <td>0.502476</td>\n",
       "      <td>-0.223675</td>\n",
       "      <td>0.228626</td>\n",
       "    </tr>\n",
       "    <tr>\n",
       "      <th>3</th>\n",
       "      <td>NaN</td>\n",
       "      <td>-0.735723</td>\n",
       "      <td>-1.537767</td>\n",
       "      <td>-0.867025</td>\n",
       "    </tr>\n",
       "    <tr>\n",
       "      <th>4</th>\n",
       "      <td>NaN</td>\n",
       "      <td>1.257476</td>\n",
       "      <td>1.090417</td>\n",
       "      <td>1.595389</td>\n",
       "    </tr>\n",
       "  </tbody>\n",
       "</table>\n",
       "</div>"
      ],
      "text/plain": [
       "   Ones      Size  Bedrooms     Price\n",
       "0   NaN  0.130010 -0.223675  0.475747\n",
       "1   NaN -0.504190 -0.223675 -0.084074\n",
       "2   NaN  0.502476 -0.223675  0.228626\n",
       "3   NaN -0.735723 -1.537767 -0.867025\n",
       "4   NaN  1.257476  1.090417  1.595389"
      ]
     },
     "execution_count": 320,
     "metadata": {},
     "output_type": "execute_result"
    }
   ],
   "source": [
    "X_norm.head()"
   ]
  },
  {
   "cell_type": "markdown",
   "metadata": {},
   "source": [
    "**What's going on here?!**\n",
    "\n",
    "Why do we have <i>NaN</i> in our \"Ones\" column?\n",
    "\n",
    "Well let's work through the arithmetic: when we normalize, we divide by the standard deviation...but since all of the data are the same (they're all $1$, then the standard deviation is $0$...and when we try to divide by $0$ we get `NaN`, because dividing any real number by zero is not a defined operation.\n",
    "\n",
    "<div class=\"alert alert-block alert-warning\">\n",
    "So, we're going to have to re-load the data, and then add the \"Ones\" column <i>**after**</i> we've normalized.\n",
    "</div>"
   ]
  },
  {
   "cell_type": "code",
   "execution_count": 323,
   "metadata": {},
   "outputs": [
    {
     "data": {
      "text/html": [
       "<div>\n",
       "<style>\n",
       "    .dataframe thead tr:only-child th {\n",
       "        text-align: right;\n",
       "    }\n",
       "\n",
       "    .dataframe thead th {\n",
       "        text-align: left;\n",
       "    }\n",
       "\n",
       "    .dataframe tbody tr th {\n",
       "        vertical-align: top;\n",
       "    }\n",
       "</style>\n",
       "<table border=\"1\" class=\"dataframe\">\n",
       "  <thead>\n",
       "    <tr style=\"text-align: right;\">\n",
       "      <th></th>\n",
       "      <th>Size</th>\n",
       "      <th>Bedrooms</th>\n",
       "      <th>Price</th>\n",
       "    </tr>\n",
       "  </thead>\n",
       "  <tbody>\n",
       "    <tr>\n",
       "      <th>0</th>\n",
       "      <td>2104</td>\n",
       "      <td>3</td>\n",
       "      <td>399900</td>\n",
       "    </tr>\n",
       "    <tr>\n",
       "      <th>1</th>\n",
       "      <td>1600</td>\n",
       "      <td>3</td>\n",
       "      <td>329900</td>\n",
       "    </tr>\n",
       "    <tr>\n",
       "      <th>2</th>\n",
       "      <td>2400</td>\n",
       "      <td>3</td>\n",
       "      <td>369000</td>\n",
       "    </tr>\n",
       "    <tr>\n",
       "      <th>3</th>\n",
       "      <td>1416</td>\n",
       "      <td>2</td>\n",
       "      <td>232000</td>\n",
       "    </tr>\n",
       "    <tr>\n",
       "      <th>4</th>\n",
       "      <td>3000</td>\n",
       "      <td>4</td>\n",
       "      <td>539900</td>\n",
       "    </tr>\n",
       "  </tbody>\n",
       "</table>\n",
       "</div>"
      ],
      "text/plain": [
       "   Size  Bedrooms   Price\n",
       "0  2104         3  399900\n",
       "1  1600         3  329900\n",
       "2  2400         3  369000\n",
       "3  1416         2  232000\n",
       "4  3000         4  539900"
      ]
     },
     "execution_count": 323,
     "metadata": {},
     "output_type": "execute_result"
    }
   ],
   "source": [
    "# re-load data\n",
    "data2 = pd.read_csv('Data/ex1data2.txt', header=None, names=['Size', 'Bedrooms', 'Price'])\n",
    "data2.head()"
   ]
  },
  {
   "cell_type": "markdown",
   "metadata": {},
   "source": [
    "Now we normalize the (re-)loaded data"
   ]
  },
  {
   "cell_type": "code",
   "execution_count": 324,
   "metadata": {},
   "outputs": [
    {
     "name": "stdout",
     "output_type": "stream",
     "text": [
      "Computed mean: Size          2000.680851\n",
      "Bedrooms         3.170213\n",
      "Price       340412.659574\n",
      "dtype: float64\n",
      "Computed standard deviation: Size           794.702354\n",
      "Bedrooms         0.760982\n",
      "Price       125039.899586\n",
      "dtype: float64\n"
     ]
    }
   ],
   "source": [
    "# call featureNormalize on the loaded data\n",
    "X_norm, X_mean, X_std = featureNormalize(data2)\n",
    "print('Computed mean:', X_mean)\n",
    "print('Computed standard deviation:', X_std)"
   ]
  },
  {
   "cell_type": "code",
   "execution_count": 325,
   "metadata": {},
   "outputs": [
    {
     "data": {
      "text/html": [
       "<div>\n",
       "<style>\n",
       "    .dataframe thead tr:only-child th {\n",
       "        text-align: right;\n",
       "    }\n",
       "\n",
       "    .dataframe thead th {\n",
       "        text-align: left;\n",
       "    }\n",
       "\n",
       "    .dataframe tbody tr th {\n",
       "        vertical-align: top;\n",
       "    }\n",
       "</style>\n",
       "<table border=\"1\" class=\"dataframe\">\n",
       "  <thead>\n",
       "    <tr style=\"text-align: right;\">\n",
       "      <th></th>\n",
       "      <th>Size</th>\n",
       "      <th>Bedrooms</th>\n",
       "      <th>Price</th>\n",
       "    </tr>\n",
       "  </thead>\n",
       "  <tbody>\n",
       "    <tr>\n",
       "      <th>0</th>\n",
       "      <td>0.130010</td>\n",
       "      <td>-0.223675</td>\n",
       "      <td>0.475747</td>\n",
       "    </tr>\n",
       "    <tr>\n",
       "      <th>1</th>\n",
       "      <td>-0.504190</td>\n",
       "      <td>-0.223675</td>\n",
       "      <td>-0.084074</td>\n",
       "    </tr>\n",
       "    <tr>\n",
       "      <th>2</th>\n",
       "      <td>0.502476</td>\n",
       "      <td>-0.223675</td>\n",
       "      <td>0.228626</td>\n",
       "    </tr>\n",
       "    <tr>\n",
       "      <th>3</th>\n",
       "      <td>-0.735723</td>\n",
       "      <td>-1.537767</td>\n",
       "      <td>-0.867025</td>\n",
       "    </tr>\n",
       "    <tr>\n",
       "      <th>4</th>\n",
       "      <td>1.257476</td>\n",
       "      <td>1.090417</td>\n",
       "      <td>1.595389</td>\n",
       "    </tr>\n",
       "  </tbody>\n",
       "</table>\n",
       "</div>"
      ],
      "text/plain": [
       "       Size  Bedrooms     Price\n",
       "0  0.130010 -0.223675  0.475747\n",
       "1 -0.504190 -0.223675 -0.084074\n",
       "2  0.502476 -0.223675  0.228626\n",
       "3 -0.735723 -1.537767 -0.867025\n",
       "4  1.257476  1.090417  1.595389"
      ]
     },
     "execution_count": 325,
     "metadata": {},
     "output_type": "execute_result"
    }
   ],
   "source": [
    "X_norm.head()"
   ]
  },
  {
   "cell_type": "markdown",
   "metadata": {},
   "source": [
    "Looks good.\n",
    "\n",
    "Now we need to add a column of $1$s to `X_norm`"
   ]
  },
  {
   "cell_type": "code",
   "execution_count": 326,
   "metadata": {
    "collapsed": true
   },
   "outputs": [],
   "source": [
    "X_norm.insert(0, 'Ones', 1.00)"
   ]
  },
  {
   "cell_type": "code",
   "execution_count": 327,
   "metadata": {},
   "outputs": [
    {
     "data": {
      "text/html": [
       "<div>\n",
       "<style>\n",
       "    .dataframe thead tr:only-child th {\n",
       "        text-align: right;\n",
       "    }\n",
       "\n",
       "    .dataframe thead th {\n",
       "        text-align: left;\n",
       "    }\n",
       "\n",
       "    .dataframe tbody tr th {\n",
       "        vertical-align: top;\n",
       "    }\n",
       "</style>\n",
       "<table border=\"1\" class=\"dataframe\">\n",
       "  <thead>\n",
       "    <tr style=\"text-align: right;\">\n",
       "      <th></th>\n",
       "      <th>Ones</th>\n",
       "      <th>Size</th>\n",
       "      <th>Bedrooms</th>\n",
       "      <th>Price</th>\n",
       "    </tr>\n",
       "  </thead>\n",
       "  <tbody>\n",
       "    <tr>\n",
       "      <th>0</th>\n",
       "      <td>1.0</td>\n",
       "      <td>0.130010</td>\n",
       "      <td>-0.223675</td>\n",
       "      <td>0.475747</td>\n",
       "    </tr>\n",
       "    <tr>\n",
       "      <th>1</th>\n",
       "      <td>1.0</td>\n",
       "      <td>-0.504190</td>\n",
       "      <td>-0.223675</td>\n",
       "      <td>-0.084074</td>\n",
       "    </tr>\n",
       "    <tr>\n",
       "      <th>2</th>\n",
       "      <td>1.0</td>\n",
       "      <td>0.502476</td>\n",
       "      <td>-0.223675</td>\n",
       "      <td>0.228626</td>\n",
       "    </tr>\n",
       "    <tr>\n",
       "      <th>3</th>\n",
       "      <td>1.0</td>\n",
       "      <td>-0.735723</td>\n",
       "      <td>-1.537767</td>\n",
       "      <td>-0.867025</td>\n",
       "    </tr>\n",
       "    <tr>\n",
       "      <th>4</th>\n",
       "      <td>1.0</td>\n",
       "      <td>1.257476</td>\n",
       "      <td>1.090417</td>\n",
       "      <td>1.595389</td>\n",
       "    </tr>\n",
       "  </tbody>\n",
       "</table>\n",
       "</div>"
      ],
      "text/plain": [
       "   Ones      Size  Bedrooms     Price\n",
       "0   1.0  0.130010 -0.223675  0.475747\n",
       "1   1.0 -0.504190 -0.223675 -0.084074\n",
       "2   1.0  0.502476 -0.223675  0.228626\n",
       "3   1.0 -0.735723 -1.537767 -0.867025\n",
       "4   1.0  1.257476  1.090417  1.595389"
      ]
     },
     "execution_count": 327,
     "metadata": {},
     "output_type": "execute_result"
    }
   ],
   "source": [
    "X_norm.head()"
   ]
  },
  {
   "cell_type": "markdown",
   "metadata": {},
   "source": [
    "OK, looking good.\n",
    "\n",
    "Now we need to define the data needed to input to our `computeCost()` and `gradientDescent()` functions:"
   ]
  },
  {
   "cell_type": "code",
   "execution_count": 328,
   "metadata": {
    "collapsed": true
   },
   "outputs": [],
   "source": [
    "# set X (training data) and y (target variable)\n",
    "cols4 = X_norm.shape[1] # instantiate a variable \"cols\" to represent the number of columns in the data frame\n",
    "X4 = X_norm.iloc[:,0:cols4-1] # read first n-1 columns\n",
    "y4 = X_norm.iloc[:,cols4-1:cols4] # read last (nth) column"
   ]
  },
  {
   "cell_type": "code",
   "execution_count": 329,
   "metadata": {},
   "outputs": [
    {
     "data": {
      "text/html": [
       "<div>\n",
       "<style>\n",
       "    .dataframe thead tr:only-child th {\n",
       "        text-align: right;\n",
       "    }\n",
       "\n",
       "    .dataframe thead th {\n",
       "        text-align: left;\n",
       "    }\n",
       "\n",
       "    .dataframe tbody tr th {\n",
       "        vertical-align: top;\n",
       "    }\n",
       "</style>\n",
       "<table border=\"1\" class=\"dataframe\">\n",
       "  <thead>\n",
       "    <tr style=\"text-align: right;\">\n",
       "      <th></th>\n",
       "      <th>Ones</th>\n",
       "      <th>Size</th>\n",
       "      <th>Bedrooms</th>\n",
       "    </tr>\n",
       "  </thead>\n",
       "  <tbody>\n",
       "    <tr>\n",
       "      <th>0</th>\n",
       "      <td>1.0</td>\n",
       "      <td>0.130010</td>\n",
       "      <td>-0.223675</td>\n",
       "    </tr>\n",
       "    <tr>\n",
       "      <th>1</th>\n",
       "      <td>1.0</td>\n",
       "      <td>-0.504190</td>\n",
       "      <td>-0.223675</td>\n",
       "    </tr>\n",
       "    <tr>\n",
       "      <th>2</th>\n",
       "      <td>1.0</td>\n",
       "      <td>0.502476</td>\n",
       "      <td>-0.223675</td>\n",
       "    </tr>\n",
       "    <tr>\n",
       "      <th>3</th>\n",
       "      <td>1.0</td>\n",
       "      <td>-0.735723</td>\n",
       "      <td>-1.537767</td>\n",
       "    </tr>\n",
       "    <tr>\n",
       "      <th>4</th>\n",
       "      <td>1.0</td>\n",
       "      <td>1.257476</td>\n",
       "      <td>1.090417</td>\n",
       "    </tr>\n",
       "  </tbody>\n",
       "</table>\n",
       "</div>"
      ],
      "text/plain": [
       "   Ones      Size  Bedrooms\n",
       "0   1.0  0.130010 -0.223675\n",
       "1   1.0 -0.504190 -0.223675\n",
       "2   1.0  0.502476 -0.223675\n",
       "3   1.0 -0.735723 -1.537767\n",
       "4   1.0  1.257476  1.090417"
      ]
     },
     "execution_count": 329,
     "metadata": {},
     "output_type": "execute_result"
    }
   ],
   "source": [
    "X4.head()"
   ]
  },
  {
   "cell_type": "code",
   "execution_count": 330,
   "metadata": {},
   "outputs": [
    {
     "data": {
      "text/html": [
       "<div>\n",
       "<style>\n",
       "    .dataframe thead tr:only-child th {\n",
       "        text-align: right;\n",
       "    }\n",
       "\n",
       "    .dataframe thead th {\n",
       "        text-align: left;\n",
       "    }\n",
       "\n",
       "    .dataframe tbody tr th {\n",
       "        vertical-align: top;\n",
       "    }\n",
       "</style>\n",
       "<table border=\"1\" class=\"dataframe\">\n",
       "  <thead>\n",
       "    <tr style=\"text-align: right;\">\n",
       "      <th></th>\n",
       "      <th>Price</th>\n",
       "    </tr>\n",
       "  </thead>\n",
       "  <tbody>\n",
       "    <tr>\n",
       "      <th>0</th>\n",
       "      <td>0.475747</td>\n",
       "    </tr>\n",
       "    <tr>\n",
       "      <th>1</th>\n",
       "      <td>-0.084074</td>\n",
       "    </tr>\n",
       "    <tr>\n",
       "      <th>2</th>\n",
       "      <td>0.228626</td>\n",
       "    </tr>\n",
       "    <tr>\n",
       "      <th>3</th>\n",
       "      <td>-0.867025</td>\n",
       "    </tr>\n",
       "    <tr>\n",
       "      <th>4</th>\n",
       "      <td>1.595389</td>\n",
       "    </tr>\n",
       "  </tbody>\n",
       "</table>\n",
       "</div>"
      ],
      "text/plain": [
       "      Price\n",
       "0  0.475747\n",
       "1 -0.084074\n",
       "2  0.228626\n",
       "3 -0.867025\n",
       "4  1.595389"
      ]
     },
     "execution_count": 330,
     "metadata": {},
     "output_type": "execute_result"
    }
   ],
   "source": [
    "y4.head()"
   ]
  },
  {
   "cell_type": "markdown",
   "metadata": {},
   "source": [
    "Looks right"
   ]
  },
  {
   "cell_type": "markdown",
   "metadata": {},
   "source": [
    "#### 2.2.2. computeCost() and gradientDescent() functions that work with multivariate input data\n",
    "\n",
    "Now, as noted above, the problem statement asks us to define <i>new</i> functions, `computeCostMulti()` and `gradientDescentMulti()` to calculate the cost function for linear regression with multiple variables.\n",
    "\n",
    "**But** we've already defined `computeCost()` and `gradientDescent()` to work with multiple variables - because it's a vectorized operation.\n",
    "\n",
    "So we can just use the same function - so below, we copy-and-paste the same code (for the purposes of submitting these functions to be scored).\n",
    "\n",
    "**Note** that it's going to be <i>**really important**</i> to make sure that we define the right number of inputs for $\\theta$ when we run the <i>gradientDescent()</i> function."
   ]
  },
  {
   "cell_type": "code",
   "execution_count": 331,
   "metadata": {
    "collapsed": true
   },
   "outputs": [],
   "source": [
    "def computeCostMulti(X, y, theta):\n",
    "    \"\"\"\n",
    "    Compute cost for linear regression with multiple variables.\n",
    "    Computes the cost of using theta as the parameter for linear regression to fit the data points in X and y.\n",
    "    \n",
    "    Parameters\n",
    "    ----------\n",
    "    X : array_like\n",
    "        The dataset of shape (m x n+1).\n",
    "    \n",
    "    y : array_like\n",
    "        A vector of shape (m, ) for the values at a given data point.\n",
    "    \n",
    "    theta : array_like\n",
    "        The linear regression parameters. A vector of shape (n+1, )\n",
    "    \n",
    "    Returns\n",
    "    -------\n",
    "    J : float\n",
    "        The value of the cost function. \n",
    "\n",
    "    \"\"\"\n",
    "    J_temp = np.dot(X, theta) - y\n",
    "    J_temp = np.power(J_temp, 2)\n",
    "    m = len(y)\n",
    "    J = np.sum(J_temp) / (2*m)\n",
    "    return J\n"
   ]
  },
  {
   "cell_type": "code",
   "execution_count": 332,
   "metadata": {
    "collapsed": true
   },
   "outputs": [],
   "source": [
    "def gradientDescentMulti(X, y, theta, alpha, num_iters):\n",
    "    \"\"\"\n",
    "    Performs gradient descent to learn theta.\n",
    "    Updates theta by taking num_iters gradient steps with learning rate alpha.\n",
    "        \n",
    "    Parameters\n",
    "    ----------\n",
    "    X : array_like\n",
    "        The dataset of shape (m x n+1).\n",
    "    \n",
    "    y : array_like\n",
    "        A vector of shape (m, ) for the values at a given data point.\n",
    "    \n",
    "    theta : array_like\n",
    "        The linear regression parameters. A vector of shape (n+1, )\n",
    "    \n",
    "    alpha : float\n",
    "        The learning rate for gradient descent. \n",
    "    \n",
    "    num_iters : int\n",
    "        The number of iterations to run gradient descent. \n",
    "    \n",
    "    Returns\n",
    "    -------\n",
    "    theta : array_like\n",
    "        The learned linear regression parameters. A vector of shape (n+1, ).\n",
    "    \n",
    "    J_history : list\n",
    "        A python list for the values of the cost function after each iteration.\n",
    "    \"\"\"\n",
    "    # Initialize some useful values\n",
    "    m = len(y)  # number of training examples\n",
    "    \n",
    "    # make a copy of theta, to avoid changing the original array, since numpy arrays\n",
    "    # are passed by reference to functions\n",
    "    theta = theta.copy()\n",
    "    \n",
    "    J_history = [] # Use a python list to save cost in every iteration\n",
    "    \n",
    "    for i in range(num_iters):\n",
    "        # calculate an updated value of theta by taking a step down the gradient\n",
    "        error = np.dot(X, theta) - y\n",
    "        temp = np.dot(X.T, error)\n",
    "        temp = (alpha/m)*temp\n",
    "        theta = theta - temp\n",
    "        # save the cost J in every iteration\n",
    "        J_history.append(computeCost(X, y, theta))\n",
    "    \n",
    "    return theta, J_history"
   ]
  },
  {
   "cell_type": "markdown",
   "metadata": {},
   "source": [
    "Of course, we don't need to copy and paste the code - we can just call our original functions inside the new `...multi()` functions"
   ]
  },
  {
   "cell_type": "code",
   "execution_count": 333,
   "metadata": {
    "collapsed": true
   },
   "outputs": [],
   "source": [
    "def computeCostMulti2(X, y, theta):\n",
    "    \"\"\"\n",
    "    Compute cost for linear regression with multiple variables.\n",
    "    Computes the cost of using theta as the parameter for linear regression to fit the data points in X and y.\n",
    "    \n",
    "    Parameters\n",
    "    ----------\n",
    "    X : array_like\n",
    "        The dataset of shape (m x n+1).\n",
    "    \n",
    "    y : array_like\n",
    "        A vector of shape (m, ) for the values at a given data point.\n",
    "    \n",
    "    theta : array_like\n",
    "        The linear regression parameters. A vector of shape (n+1, )\n",
    "    \n",
    "    Returns\n",
    "    -------\n",
    "    J : float\n",
    "        The value of the cost function. \n",
    "\n",
    "    \"\"\"\n",
    "    J = computeCost(X, y, theta)\n",
    "    return J"
   ]
  },
  {
   "cell_type": "code",
   "execution_count": 334,
   "metadata": {
    "collapsed": true
   },
   "outputs": [],
   "source": [
    "def gradientDescentMulti2(X, y, theta, alpha, num_iters):\n",
    "    \"\"\"\n",
    "    Performs gradient descent to learn theta.\n",
    "    Updates theta by taking num_iters gradient steps with learning rate alpha.\n",
    "        \n",
    "    Parameters\n",
    "    ----------\n",
    "    X : array_like\n",
    "        The dataset of shape (m x n+1).\n",
    "    \n",
    "    y : array_like\n",
    "        A vector of shape (m, ) for the values at a given data point.\n",
    "    \n",
    "    theta : array_like\n",
    "        The linear regression parameters. A vector of shape (n+1, )\n",
    "    \n",
    "    alpha : float\n",
    "        The learning rate for gradient descent. \n",
    "    \n",
    "    num_iters : int\n",
    "        The number of iterations to run gradient descent. \n",
    "    \n",
    "    Returns\n",
    "    -------\n",
    "    theta : array_like\n",
    "        The learned linear regression parameters. A vector of shape (n+1, ).\n",
    "    \n",
    "    J_history : list\n",
    "        A python list for the values of the cost function after each iteration.\n",
    "    \"\"\"\n",
    "    \n",
    "    theta, J_history = gradientDescent(X, y, theta, alpha, num_iters)\n",
    "    return theta, J_history"
   ]
  },
  {
   "cell_type": "markdown",
   "metadata": {},
   "source": [
    "This also works perfectly fine in the course's grader."
   ]
  },
  {
   "cell_type": "markdown",
   "metadata": {},
   "source": [
    "Note that the last few sets of code have <i>purely</i> been for the purposes of the course and its grader.\n",
    "\n",
    "In practice, I wouldn't need define separate \"Multi\" versions of these two functions - I'd just call the same function for computeCost() and gradientDescent(), since they both generalize to multi-variate data sets."
   ]
  },
  {
   "cell_type": "markdown",
   "metadata": {},
   "source": [
    "#### 2.2.3 Optional (ungraded) exercise: Selecting learning rates\n",
    "\n",
    "In this part of the exercise, we try out different learning rates for the dataset and find a learning rate that converges quickly. We set up a list of different learning rates, and run our `gradientDescent()` to run gradient descent for about 50 iterations at the chosen learning rate, returning the history of $J(\\theta)$ values in a vector $J$.\n",
    "\n",
    "After the last iteration of each \"run\", we plot the $J$ values against the number of the iterations.\n",
    "\n",
    "If we've picked a learning rate within a good range, the plot look similar to the following Figure. \n",
    "\n",
    "![](Figures/learning_rate.png)\n",
    "\n",
    "If the graph looks very different, especially if your value of $J(\\theta)$ increases or even blows up, we need to adjust the learning rate and try again - since the gradient descent algorithm is not able to converge with the given learning rate.\n",
    "\n",
    "<div class=\"alert alert-block alert-warning\">\n",
    "**Implementation Note:** If your learning rate is too large, $J(\\theta)$ can diverge and ‘blow up’, resulting in values which are too large for computer calculations. In these situations, `numpy` will tend to return\n",
    "NaNs. NaN stands for ‘not a number’ and is often caused by undefined operations that involve −∞ and +∞.\n",
    "</div>"
   ]
  },
  {
   "cell_type": "code",
   "execution_count": 335,
   "metadata": {},
   "outputs": [
    {
     "data": {
      "image/png": "[encoded data removed]",
      "text/plain": [
       "<matplotlib.figure.Figure at 0x118e18c50>"
      ]
     },
     "metadata": {},
     "output_type": "display_data"
    }
   ],
   "source": [
    "\"\"\"\n",
    "Instructions\n",
    "------------\n",
    "We have provided you with the following starter code that runs\n",
    "gradient descent with a particular learning rate (alpha). \n",
    "\n",
    "Your task is to first make sure that your functions - `computeCost`\n",
    "and `gradientDescent` already work with  this starter code and\n",
    "support multiple variables.\n",
    "\n",
    "After that, try running gradient descent with different values of\n",
    "alpha and see which one gives you the best result.\n",
    "\n",
    "Finally, you should complete the code at the end to predict the price\n",
    "of a 1650 sq-ft, 3 br house.\n",
    "\n",
    "Hint\n",
    "----\n",
    "At prediction, make sure you do the same feature normalization.\n",
    "\"\"\"\n",
    "# Choose some alpha value - change this\n",
    "#alpha = 0.01\n",
    "num_iters = 400\n",
    "\n",
    "# set up plot\n",
    "fig = plt.figure(figsize=(12,8))\n",
    "ax = plt.axes()\n",
    "ax.set_xlabel(\"Number of Iterations\")\n",
    "ax.set_ylabel(\"Cost Function (J)\")\n",
    "ax.set_title(\"Cost function of gradient descent with different learning rates (alpha)\")\n",
    "\n",
    "alphas = [0.001, 0.003, 0.01, 0.03, 0.1, 0.3, 1]\n",
    "for alpha in alphas:\n",
    "    # Initialize theta and run gradient descent\n",
    "    theta = np.zeros([3,1])\n",
    "    theta, J_history = gradientDescent(X4, y4, theta, alpha, num_iters)\n",
    "    # plot J_history\n",
    "    ax.plot(J_history)\n",
    "    ax.legend(alphas)\n",
    "    # Display the gradient descent's result\n",
    "    # print('theta computed from gradient descent and alpha of {}: \\n{:s}'.format(alpha, str(theta)))"
   ]
  },
  {
   "cell_type": "markdown",
   "metadata": {},
   "source": [
    "Notice the changes in the convergence curves as the learning rate changes. With a small learning rate, we see that gradient descent takes a very long time to converge to the optimal value. Conversely, with a large learning rate, gradient descent might not converge or might even diverge!\n",
    "\n",
    "Finally, using an appropriate learning rate chosen from the experiment above, we re-run the gradient descent until convergence to find the final values of $\\theta$.\n",
    "\n",
    "We use this value of $\\theta$ to predict the price of a house with a floor area of 1,650 square feet and 3 bedrooms. Don’t forget we need to normalize the features when you make this prediction!\n",
    "\n",
    "Later on will use this predicted value to check our implementation of the <i>normal equations</i>."
   ]
  },
  {
   "cell_type": "code",
   "execution_count": 336,
   "metadata": {},
   "outputs": [
    {
     "name": "stdout",
     "output_type": "stream",
     "text": [
      "Predicted price of a 1,650 sq-ft, 3 br house (using functional implementation of gradient descent): $295425\n"
     ]
    }
   ],
   "source": [
    "# Re-run gradient descent with an alpha of 0.1, and 400 iterations\n",
    "alpha = 0.01\n",
    "num_iters = 400\n",
    "theta = np.zeros([3,1])\n",
    "theta, J_history = gradientDescent(X4, y4, theta, alpha, num_iters)\n",
    "\n",
    "# Step 1 - normalize the inputs:\n",
    "Area = 1650\n",
    "Area_normed = (Area - X_mean[0]) / X_std[0]\n",
    "#print(\"Normed Area = {}\".format(Area_normed))\n",
    "Bedrooms = 3\n",
    "Bedrooms_normed = (Bedrooms - X_mean[1]) / X_std[1]\n",
    "#print(\"Normed No. of Bedrooms = {}\".format(Bedrooms_normed))\n",
    "\n",
    "# Step 2 - calculate the normalized price based on theta\n",
    "Normalized_inputs = [1, Area_normed, Bedrooms_normed]\n",
    "#print(\"Normalized_inputs: {}\".format(Normalized_inputs))\n",
    "Normalized_price = np.dot(Normalized_inputs, theta)\n",
    "#print(\"Normalized price is ${}\".format(Normalized_price))\n",
    "\n",
    "# Step 3 - convert the normalized price back into $ amount\n",
    "price = Normalized_price * X_std[2]\n",
    "#print(\"Interim price is {}\".format(price))\n",
    "price = price + X_mean[2]\n",
    "#print(\"Interim price is {}\".format(price))\n",
    "priceGD = float(price)\n",
    "print('Predicted price of a 1,650 sq-ft, 3 br house (using functional implementation of gradient descent): ${:.0f}'.format(priceGD))"
   ]
  },
  {
   "cell_type": "markdown",
   "metadata": {},
   "source": [
    "### 2.3 Normal Equations\n",
    "\n",
    "Remember for the course's videos (or any other source!) the closed-form solution to linear regression is\n",
    "\n",
    "$$ \\theta = \\left( X^T X\\right)^{-1} X^T\\vec{y}$$\n",
    "\n",
    "Using this formula does not require any feature scaling, and it will result an exact solution in one calculation: there is no “loop until convergence” like in gradient descent.\n",
    "\n",
    "**Note however** that when we're dealing with large data sets, the normal equation becomes computationally very expensive! Moreover, some matrices are \"non-invertible\" - $(X^T X)^{-1}$ cannot be calculated for them - meaning that the normal equation cannot work for them. This is why, in practice in Data Science / Machine Learning, we use gradient descent (or some other approximation method).\n",
    "\n",
    "First, we will reload the data to ensure that the variables have not been modified. Remember that while we don't need to scale the features, we still need to add a column of 1’s to the <i>X</i> matrix to have an intercept term ($\\theta_0$). The code in the next cell will adds the column of <i>1</i>s to <i>X</i>."
   ]
  },
  {
   "cell_type": "code",
   "execution_count": 337,
   "metadata": {
    "collapsed": true
   },
   "outputs": [],
   "source": [
    "# Load data\n",
    "data = np.loadtxt(os.path.join('Data', 'ex1data2.txt'), delimiter=',')\n",
    "X = data[:, :2]\n",
    "y = data[:, 2]\n",
    "m = y.size\n",
    "X = np.concatenate([np.ones((m, 1)), X], axis=1)"
   ]
  },
  {
   "cell_type": "markdown",
   "metadata": {},
   "source": [
    "Now we define a function `normalEqn()` that implements the formula above to calculate $\\theta$. \n",
    "\n",
    "<a id=\"normalEqn\"></a>"
   ]
  },
  {
   "cell_type": "code",
   "execution_count": 338,
   "metadata": {
    "collapsed": true
   },
   "outputs": [],
   "source": [
    "def normalEqn(X, y):\n",
    "    \"\"\"\n",
    "    Computes the closed-form solution to linear regression using the normal equations.\n",
    "    \n",
    "    Parameters\n",
    "    ----------\n",
    "    X : array_like\n",
    "        The dataset of shape (m x n+1).\n",
    "    \n",
    "    y : array_like\n",
    "        The value at each data point. A vector of shape (m, ).\n",
    "    \n",
    "    Returns\n",
    "    -------\n",
    "    theta : array_like\n",
    "        Estimated linear regression parameters. A vector of shape (n+1, ).\n",
    "    \"\"\"\n",
    "    theta = np.zeros(X.shape[1])\n",
    "    # calculate X.T dot X\n",
    "    interim0 = np.dot(X.T, X)\n",
    "    # calculate inverse of X.t dot X\n",
    "    interim1  = np.linalg.pinv(interim0)\n",
    "    # calculate X.T dot y\n",
    "    interim2 = np.dot(X.T, y)\n",
    "    # calculate theta\n",
    "    theta = np.dot(interim1, interim2)\n",
    "    return theta\n",
    "\n",
    "    # NOTE - we could calculate this in fewer lines of code, e.g:\n",
    "        #interim = np.linalg.pinv(np.dot(X.T, X))\n",
    "        #theta = np.dot(interim, np.dot(X.T, y))\n",
    "    # BUT, I like to follow the python mantra that \"explicit is better than implicit\"...\n",
    "    # ...and therefore break apart into four steps"
   ]
  },
  {
   "cell_type": "code",
   "execution_count": 339,
   "metadata": {},
   "outputs": [
    {
     "data": {
      "text/plain": [
       "array([ 89597.90954361,    139.21067402,  -8738.01911255])"
      ]
     },
     "execution_count": 339,
     "metadata": {},
     "output_type": "execute_result"
    }
   ],
   "source": [
    "normalEqn(X, y)"
   ]
  },
  {
   "cell_type": "markdown",
   "metadata": {},
   "source": [
    "Now, once you have found $\\theta$ using the normal equation method, we can use it to make a price prediction for a 1,650-square-foot house with 3 bedrooms. With luck, we'll find it gives the same predicted price as the value\n",
    " obtained using the model fit with gradient descent (in Section 2.2.3 above)."
   ]
  },
  {
   "cell_type": "code",
   "execution_count": 340,
   "metadata": {
    "scrolled": true
   },
   "outputs": [
    {
     "name": "stdout",
     "output_type": "stream",
     "text": [
      "Predicted price of a 1,650 sq-ft, 3 bedroom house (using normal equations): $293081\n",
      "Predicted price of a 1,650 sq-ft, 3 bedroom house (using gradient descent and 400 iterations): $295425\n"
     ]
    }
   ],
   "source": [
    "# Calculate the parameters from the normal equation\n",
    "theta = normalEqn(X, y);\n",
    "\n",
    "# Display normal equation's result\n",
    "# print('Theta computed from the normal equations: {:s}'.format(str(theta)));\n",
    "\n",
    "# Estimate the price of a 1650 sq-ft, 3 br house\n",
    "\n",
    "# Step 1 - create a numpy array containing our test variables\n",
    "variables = np.array([1, 1650, 3])\n",
    "\n",
    "# Step 2 - calculate the price\n",
    "\n",
    "# one option - calculate using a loop:\n",
    "#price = 0\n",
    "#for i in range(len(theta)):\n",
    "#    price += theta[i] * variables[i]\n",
    "\n",
    "# preferred option - calculate directly using vectorisation:\n",
    "priceN = np.dot(variables, theta)\n",
    "    \n",
    "print('Predicted price of a 1,650 sq-ft, 3 bedroom house (using normal equations): ${:.0f}'.format(priceN))\n",
    "print('Predicted price of a 1,650 sq-ft, 3 bedroom house (using gradient descent and {} iterations): ${:.0f}'.format(num_iters, priceGD))"
   ]
  },
  {
   "cell_type": "markdown",
   "metadata": {},
   "source": [
    "As we can see, the predicted values that result from using the Normal Equations and from Gradient Descent are slightly different (0.8%)"
   ]
  },
  {
   "cell_type": "markdown",
   "metadata": {
    "collapsed": true
   },
   "source": [
    "## 3 An object-oriented implementation of linear regression\n",
    "\n",
    "Instead of the **functional** approach we've used above, we can also implement an **object-oriented** approach - which is arguably more \"Pythonic\".\n",
    "The approach I will follow uses the same gradient-descent approach to minimize the ordinary least squares cost function that we used above.\n",
    "\n",
    "For reference, see the excellent \"<i>Python Machine Learning</i>\" by Sebastian Raschka and Vahid Mirjalili."
   ]
  },
  {
   "cell_type": "code",
   "execution_count": 341,
   "metadata": {
    "collapsed": true
   },
   "outputs": [],
   "source": [
    "# define our linear regression object\n",
    "class LinearRegressionGD (object):\n",
    "    def __init__(self, eta = 0.01, num_iters = 400):\n",
    "        self.eta = eta\n",
    "        self.num_iters = num_iters\n",
    "        \n",
    "    def fit(self, X, y):\n",
    "        self.w_ = np.zeros(1 + X.shape[1])\n",
    "        self.cost_ = []\n",
    "        \n",
    "        for i in range(self.num_iters):\n",
    "            output = self.net_input(X)\n",
    "            output = output[:, np.newaxis]\n",
    "            errors = (y - output)\n",
    "\n",
    "            # Now, in the Raschka & Mirjalili textbook, the next line is:\n",
    "            # self.w_[1:] += self.eta * X.T.dot(errors) \n",
    "            # ...which updates the weights in self.w_[1] and onwards\n",
    "            # ...where both self.eta and X.T.dot(errors) are scalars - i.e. floats\n",
    "            # However, because WE are using MATRICES in numpy, the output of X.T.dot(errors)\n",
    "            # ...is a 1 x 1 matrix (as we will see if we allow the print statements in line 24 below)\n",
    "            # so I convert it to a float (scalar) by summing over the 1 x 1 matrix\n",
    "            temp = X.T.dot(errors)\n",
    "            # print(\"temp is {}, of shape {}\".format(temp, temp.shape))\n",
    "            temp = temp.sum()\n",
    "            # print(\"temp is now {}\".format(temp))\n",
    "            self.w_[1:] += self.eta * temp\n",
    "            self.w_[0] += self.eta * errors.sum()\n",
    "            cost = (errors**2).sum() / 2.0\n",
    "            self.cost_.append(cost)\n",
    "        return self\n",
    "    \n",
    "    def net_input(self, X):\n",
    "        return np.dot(X, self.w_[1:]) + self.w_[0]\n",
    "    \n",
    "    def predict (self, X):\n",
    "        return self.net_input(X)"
   ]
  },
  {
   "cell_type": "markdown",
   "metadata": {},
   "source": [
    "To see how this works, let's start by running a **univariate** linear regerssion - just using floor area as our explanatory variable.\n",
    "\n",
    "We've already normalized our inputs from X and y above, so we can use them as our input variable X (our independent, or \"explanatory\" variable), and the price as our output variable y (or \"dependent\" variable)"
   ]
  },
  {
   "cell_type": "code",
   "execution_count": 342,
   "metadata": {},
   "outputs": [
    {
     "data": {
      "text/html": [
       "<div>\n",
       "<style>\n",
       "    .dataframe thead tr:only-child th {\n",
       "        text-align: right;\n",
       "    }\n",
       "\n",
       "    .dataframe thead th {\n",
       "        text-align: left;\n",
       "    }\n",
       "\n",
       "    .dataframe tbody tr th {\n",
       "        vertical-align: top;\n",
       "    }\n",
       "</style>\n",
       "<table border=\"1\" class=\"dataframe\">\n",
       "  <thead>\n",
       "    <tr style=\"text-align: right;\">\n",
       "      <th></th>\n",
       "      <th>Ones</th>\n",
       "      <th>Size</th>\n",
       "      <th>Bedrooms</th>\n",
       "      <th>Price</th>\n",
       "    </tr>\n",
       "  </thead>\n",
       "  <tbody>\n",
       "    <tr>\n",
       "      <th>0</th>\n",
       "      <td>1.0</td>\n",
       "      <td>0.130010</td>\n",
       "      <td>-0.223675</td>\n",
       "      <td>0.475747</td>\n",
       "    </tr>\n",
       "    <tr>\n",
       "      <th>1</th>\n",
       "      <td>1.0</td>\n",
       "      <td>-0.504190</td>\n",
       "      <td>-0.223675</td>\n",
       "      <td>-0.084074</td>\n",
       "    </tr>\n",
       "    <tr>\n",
       "      <th>2</th>\n",
       "      <td>1.0</td>\n",
       "      <td>0.502476</td>\n",
       "      <td>-0.223675</td>\n",
       "      <td>0.228626</td>\n",
       "    </tr>\n",
       "    <tr>\n",
       "      <th>3</th>\n",
       "      <td>1.0</td>\n",
       "      <td>-0.735723</td>\n",
       "      <td>-1.537767</td>\n",
       "      <td>-0.867025</td>\n",
       "    </tr>\n",
       "    <tr>\n",
       "      <th>4</th>\n",
       "      <td>1.0</td>\n",
       "      <td>1.257476</td>\n",
       "      <td>1.090417</td>\n",
       "      <td>1.595389</td>\n",
       "    </tr>\n",
       "  </tbody>\n",
       "</table>\n",
       "</div>"
      ],
      "text/plain": [
       "   Ones      Size  Bedrooms     Price\n",
       "0   1.0  0.130010 -0.223675  0.475747\n",
       "1   1.0 -0.504190 -0.223675 -0.084074\n",
       "2   1.0  0.502476 -0.223675  0.228626\n",
       "3   1.0 -0.735723 -1.537767 -0.867025\n",
       "4   1.0  1.257476  1.090417  1.595389"
      ]
     },
     "execution_count": 342,
     "metadata": {},
     "output_type": "execute_result"
    }
   ],
   "source": [
    "X_norm.head()"
   ]
  },
  {
   "cell_type": "code",
   "execution_count": 343,
   "metadata": {},
   "outputs": [
    {
     "data": {
      "text/plain": [
       "4"
      ]
     },
     "execution_count": 343,
     "metadata": {},
     "output_type": "execute_result"
    }
   ],
   "source": [
    "X_norm.shape[1]"
   ]
  },
  {
   "cell_type": "code",
   "execution_count": 344,
   "metadata": {
    "collapsed": true
   },
   "outputs": [],
   "source": [
    "X = X_norm[['Size']].values"
   ]
  },
  {
   "cell_type": "code",
   "execution_count": 345,
   "metadata": {
    "collapsed": true
   },
   "outputs": [],
   "source": [
    "y = X_norm[['Price']].values"
   ]
  },
  {
   "cell_type": "code",
   "execution_count": 346,
   "metadata": {},
   "outputs": [
    {
     "data": {
      "text/plain": [
       "(47, 1)"
      ]
     },
     "execution_count": 346,
     "metadata": {},
     "output_type": "execute_result"
    }
   ],
   "source": [
    "X.shape"
   ]
  },
  {
   "cell_type": "code",
   "execution_count": 347,
   "metadata": {},
   "outputs": [
    {
     "data": {
      "text/plain": [
       "(47, 1)"
      ]
     },
     "execution_count": 347,
     "metadata": {},
     "output_type": "execute_result"
    }
   ],
   "source": [
    "y.shape"
   ]
  },
  {
   "cell_type": "markdown",
   "metadata": {},
   "source": [
    "Let's run our model. First we instantiate a LinearRegressionGD object:"
   ]
  },
  {
   "cell_type": "code",
   "execution_count": 348,
   "metadata": {
    "collapsed": true
   },
   "outputs": [],
   "source": [
    "lr = LinearRegressionGD()"
   ]
  },
  {
   "cell_type": "markdown",
   "metadata": {},
   "source": [
    "Then we call the fit() method on our normalized inputs:"
   ]
  },
  {
   "cell_type": "code",
   "execution_count": 349,
   "metadata": {},
   "outputs": [
    {
     "data": {
      "text/plain": [
       "<__main__.LinearRegressionGD at 0x118cd47f0>"
      ]
     },
     "execution_count": 349,
     "metadata": {},
     "output_type": "execute_result"
    }
   ],
   "source": [
    "lr.fit(X, y)"
   ]
  },
  {
   "cell_type": "markdown",
   "metadata": {},
   "source": [
    "The output `<__main__.LinearRegressionGD at 0x115f35cf8>` shows we have created a linear regression object"
   ]
  },
  {
   "cell_type": "markdown",
   "metadata": {},
   "source": [
    "Now let's plot the cost function of our linear regression instantiation against the number of iterations:"
   ]
  },
  {
   "cell_type": "code",
   "execution_count": 350,
   "metadata": {},
   "outputs": [
    {
     "data": {
      "image/png": "[encoded data removed]",
      "text/plain": [
       "<matplotlib.figure.Figure at 0x118cd4470>"
      ]
     },
     "metadata": {},
     "output_type": "display_data"
    }
   ],
   "source": [
    "plt.plot(range(1, lr.num_iters+1), lr.cost_)\n",
    "plt.ylabel(\"Sum of Squared Errors\")\n",
    "plt.xlabel(\"Number of Iterations\")\n",
    "plt.show()"
   ]
  },
  {
   "cell_type": "markdown",
   "metadata": {},
   "source": [
    "Now let's define a quick function that will let us plot our model:"
   ]
  },
  {
   "cell_type": "code",
   "execution_count": 351,
   "metadata": {
    "collapsed": true
   },
   "outputs": [],
   "source": [
    "def lin_reg_plot(X, y, model):\n",
    "    plt.scatter(X, y, c = 'steelblue', edgecolor = \"white\", s = 70)\n",
    "    plt.plot(X, model.predict(X), color = \"black\", lw = 2)\n",
    "    return None"
   ]
  },
  {
   "cell_type": "markdown",
   "metadata": {},
   "source": [
    "Now we can visualize how well the linear regression line we've calculated using this object oriented approach fits the data:"
   ]
  },
  {
   "cell_type": "code",
   "execution_count": 352,
   "metadata": {},
   "outputs": [
    {
     "data": {
      "text/plain": [
       "<function matplotlib.pyplot.show>"
      ]
     },
     "execution_count": 352,
     "metadata": {},
     "output_type": "execute_result"
    },
    {
     "data": {
      "image/png": "[encoded data removed]",
      "text/plain": [
       "<matplotlib.figure.Figure at 0x118cd40f0>"
      ]
     },
     "metadata": {},
     "output_type": "display_data"
    }
   ],
   "source": [
    "lin_reg_plot(X, y, lr)\n",
    "plt.xlabel(\"Normalized floor area\")\n",
    "plt.ylabel(\"Normalized price in $\")\n",
    "plt.title(\"Linear Regression using Object-Oriented Approach\")\n",
    "plt.show"
   ]
  },
  {
   "cell_type": "markdown",
   "metadata": {},
   "source": [
    "It doesn't make a lot of sense to compare the predicted price from this **univariate** model with the outputs from models based on two variables. So let's go ahead and run a **multivariate** model using this object-oriented approach."
   ]
  },
  {
   "cell_type": "markdown",
   "metadata": {},
   "source": [
    "But before we do this, there's something to notice about this implementation and the example we've tested.\n",
    "\n",
    "(If I've understood the code correctly), unlike our previous two implementations , the object-oriented implementation from Raschka and Mirjalili **doesn't** require us to have data with an additional column of $1$s.\n",
    "\n",
    "Look at the definition of the `net_input()` method: it calculates the inner product between X and $\\theta_1$ to n - <i>and then separately</i> adds on the value of $\\theta_0$\n",
    "\n",
    "So, to run a multivariate linear regression using *this* code, we're going to have to do the following:\n",
    "- Pull out a normed data set excluding the leading $1$s\n",
    "- Run our model on this\n",
    "- Then predict our house price\n",
    "\n",
    "Let's give it a go!"
   ]
  },
  {
   "cell_type": "markdown",
   "metadata": {},
   "source": [
    "First we extract our X values:"
   ]
  },
  {
   "cell_type": "code",
   "execution_count": 353,
   "metadata": {
    "collapsed": true
   },
   "outputs": [],
   "source": [
    "# Extract JUST the normalized values of Size and Bedrooms into a new dataframe\n",
    "X = X_norm[['Size', 'Bedrooms']]"
   ]
  },
  {
   "cell_type": "code",
   "execution_count": 354,
   "metadata": {},
   "outputs": [
    {
     "data": {
      "text/html": [
       "<div>\n",
       "<style>\n",
       "    .dataframe thead tr:only-child th {\n",
       "        text-align: right;\n",
       "    }\n",
       "\n",
       "    .dataframe thead th {\n",
       "        text-align: left;\n",
       "    }\n",
       "\n",
       "    .dataframe tbody tr th {\n",
       "        vertical-align: top;\n",
       "    }\n",
       "</style>\n",
       "<table border=\"1\" class=\"dataframe\">\n",
       "  <thead>\n",
       "    <tr style=\"text-align: right;\">\n",
       "      <th></th>\n",
       "      <th>Size</th>\n",
       "      <th>Bedrooms</th>\n",
       "    </tr>\n",
       "  </thead>\n",
       "  <tbody>\n",
       "    <tr>\n",
       "      <th>0</th>\n",
       "      <td>0.130010</td>\n",
       "      <td>-0.223675</td>\n",
       "    </tr>\n",
       "    <tr>\n",
       "      <th>1</th>\n",
       "      <td>-0.504190</td>\n",
       "      <td>-0.223675</td>\n",
       "    </tr>\n",
       "    <tr>\n",
       "      <th>2</th>\n",
       "      <td>0.502476</td>\n",
       "      <td>-0.223675</td>\n",
       "    </tr>\n",
       "    <tr>\n",
       "      <th>3</th>\n",
       "      <td>-0.735723</td>\n",
       "      <td>-1.537767</td>\n",
       "    </tr>\n",
       "    <tr>\n",
       "      <th>4</th>\n",
       "      <td>1.257476</td>\n",
       "      <td>1.090417</td>\n",
       "    </tr>\n",
       "  </tbody>\n",
       "</table>\n",
       "</div>"
      ],
      "text/plain": [
       "       Size  Bedrooms\n",
       "0  0.130010 -0.223675\n",
       "1 -0.504190 -0.223675\n",
       "2  0.502476 -0.223675\n",
       "3 -0.735723 -1.537767\n",
       "4  1.257476  1.090417"
      ]
     },
     "execution_count": 354,
     "metadata": {},
     "output_type": "execute_result"
    }
   ],
   "source": [
    "X.head()"
   ]
  },
  {
   "cell_type": "markdown",
   "metadata": {},
   "source": [
    "We've already pulled out the y values above, so we should be able to just run the model:"
   ]
  },
  {
   "cell_type": "code",
   "execution_count": 355,
   "metadata": {
    "collapsed": true
   },
   "outputs": [],
   "source": [
    "lr2 = LinearRegressionGD()"
   ]
  },
  {
   "cell_type": "code",
   "execution_count": 356,
   "metadata": {},
   "outputs": [
    {
     "data": {
      "text/plain": [
       "<__main__.LinearRegressionGD at 0x118e136a0>"
      ]
     },
     "execution_count": 356,
     "metadata": {},
     "output_type": "execute_result"
    }
   ],
   "source": [
    "lr2.fit(X, y)"
   ]
  },
  {
   "cell_type": "markdown",
   "metadata": {},
   "source": [
    "Again let's plot the cost function of our linear regression instantiation against the number of iterations:"
   ]
  },
  {
   "cell_type": "code",
   "execution_count": 357,
   "metadata": {},
   "outputs": [
    {
     "data": {
      "image/png": "[encoded data removed]",
      "text/plain": [
       "<matplotlib.figure.Figure at 0x1190397b8>"
      ]
     },
     "metadata": {},
     "output_type": "display_data"
    }
   ],
   "source": [
    "plt.plot(range(1, lr2.num_iters+1), lr2.cost_)\n",
    "plt.ylabel(\"Sum of Squared Errors\")\n",
    "plt.xlabel(\"Number of Iterations\")\n",
    "plt.show()"
   ]
  },
  {
   "cell_type": "markdown",
   "metadata": {},
   "source": [
    "Looking good"
   ]
  },
  {
   "cell_type": "markdown",
   "metadata": {},
   "source": [
    "Since we've now got two input variables (two features), plotting the linear regression against the data is going to be a bit more tricky - it will be a plane in a 3-d space. To be honest, I haven't got the patience right now to re-write the function we wrote way back in **section 1.3** to work with our object-oriented approach.\n",
    "\n",
    "Finally, let's check whether this approach gives us the same predicted price for a 1,650 square foot, 3 bedroom house. We can use our `Normalized_inputs` object from section 2.2.3 above:"
   ]
  },
  {
   "cell_type": "code",
   "execution_count": 358,
   "metadata": {},
   "outputs": [
    {
     "name": "stdout",
     "output_type": "stream",
     "text": [
      "Predicted price of a 1,650 sq-ft, 3 bedroom house (using functional implementation of gradient descent): \n",
      "$295425\n",
      "Predicted price of a 1,650 sq-ft, 3 bedroom house (using normal equations): \n",
      "$293081\n",
      "Predicted price of a 1,650 sq-ft, 3 bedroom house (using an ojbect-oriented implementation of multivariate linear regression): \n",
      "$305841\n"
     ]
    }
   ],
   "source": [
    "# First we need to generate the right kind of input for the `predict()` method.\n",
    "# ...it requires a numpy array (a vector) containing the normalized values we are trying to predict\n",
    "# ...which are the normalized area and the normalized number of bedrooms (taken from section 2.2.3 above)\n",
    "input = np.array([Area_normed, Bedrooms_normed])\n",
    "\n",
    "# Now we can calculate the predicted (normalized) price\n",
    "normalized_price = lr2.predict(input)\n",
    "\n",
    "# Then we convert the normalized price back into $ amount\n",
    "interim_price = normalized_price * X_std[2]\n",
    "#print(\"Interim price is {}\".format(interim_price))\n",
    "price = interim_price + X_mean[2]\n",
    "#print(\"Interim price is {}\".format(price))\n",
    "priceOO2 = float(price)\n",
    "\n",
    "print('Predicted price of a 1,650 sq-ft, 3 bedroom house (using functional implementation of gradient descent): \\n${:.0f}'.format(priceGD))\n",
    "print('Predicted price of a 1,650 sq-ft, 3 bedroom house (using normal equations): \\n${:.0f}'.format(priceN))\n",
    "print('Predicted price of a 1,650 sq-ft, 3 bedroom house (using an ojbect-oriented implementation of multivariate linear regression): \\n${:.0f}'.format(priceOO2))"
   ]
  },
  {
   "cell_type": "markdown",
   "metadata": {},
   "source": [
    "I have to say, I'm surpised by how different the predictions of the <i>functional</i> and <i>object-oriented</i> implementations are - they're both using the same parameters (alpha of 0.01 and 400 iterations); but the predicted price is nearly 4% different."
   ]
  },
  {
   "cell_type": "markdown",
   "metadata": {
    "collapsed": true
   },
   "source": [
    "## 4 Using the <i>scikitlearn</i> library\n",
    "\n",
    "Finally, the way I'd do this in practice - using pre-built industrial-strength libraries!\n",
    "\n",
    "For this example, I'll use the widely-used <i>scikitlearn</i> library.\n",
    "\n",
    "For reference, see:\n",
    "- https://scikit-learn.org/stable/modules/generated/sklearn.linear_model.LinearRegression.html\n",
    "- <i>Python Machine Learning</i> by Sebastian Raschka and Vahid Mirjalili"
   ]
  },
  {
   "cell_type": "markdown",
   "metadata": {},
   "source": [
    "### 4.1 Importing `scikitlearn` and fitting a model"
   ]
  },
  {
   "cell_type": "markdown",
   "metadata": {},
   "source": [
    "We need to import the relevant libraries, and then we can fit a model of (normalized floor area, number of bedrooms and price).\n",
    "\n",
    "Note that we don't need to have a column of leadings $1$s as scikitlearn's algorithm takes care of that for us. This means we can use the same input data that we just created for our multivariate object-oriented implementation."
   ]
  },
  {
   "cell_type": "code",
   "execution_count": 360,
   "metadata": {},
   "outputs": [
    {
     "name": "stdout",
     "output_type": "stream",
     "text": [
      "Slope: [[ 0.88476599 -0.05317882]]\n",
      "Intercept: [ -9.26852330e-17]\n",
      "X's shape is (47, 2)\n",
      "y's shape is (47, 1)\n"
     ]
    }
   ],
   "source": [
    "# import scikitlearn's Linear Regression object from the linear_model sub-library\n",
    "from sklearn.linear_model import LinearRegression\n",
    "# instantiate a LinearRegression object\n",
    "slr = LinearRegression()\n",
    "slr.fit(X, y)\n",
    "print(\"Slope: {}\".format(slr.coef_))\n",
    "print(\"Intercept: {}\".format(slr.intercept_))\n",
    "print(\"X's shape is {}\".format(X.shape))\n",
    "print(\"y's shape is {}\".format(y.shape))"
   ]
  },
  {
   "cell_type": "markdown",
   "metadata": {},
   "source": [
    "Plotting this is going to be tricky since we're using two input dimensions / features (Floor Area and No. of Bedrooms...normalized)"
   ]
  },
  {
   "cell_type": "code",
   "execution_count": 361,
   "metadata": {},
   "outputs": [
    {
     "name": "stdout",
     "output_type": "stream",
     "text": [
      "R-squared of our model is 0.7329450180289143\n"
     ]
    }
   ],
   "source": [
    "R2 = slr.score(X, y)\n",
    "print(\"R-squared of our model is {}\".format(R2))"
   ]
  },
  {
   "cell_type": "markdown",
   "metadata": {},
   "source": [
    "Finally, let's once again predict the price of a 1,650 square foot area house, using the model we've just created using `scikitlearn`:"
   ]
  },
  {
   "cell_type": "code",
   "execution_count": 362,
   "metadata": {},
   "outputs": [
    {
     "name": "stdout",
     "output_type": "stream",
     "text": [
      "Predicted price of a 1,650 sq-ft, 3 bedroom house (using functional implementation of gradient descent): \n",
      "$295425\n",
      "Predicted price of a 1,650 sq-ft, 3 bedroom house (using normal equations): \n",
      "$293081\n",
      "Predicted price of a 1,650 sq-ft, 3 bedroom house (using an ojbect-oriented implementation of linear regression): \n",
      "$305841\n",
      "Predicted price of a 1,650 sq-ft, 3 bedroom house (using scikitlearn): \n",
      "$293081\n"
     ]
    },
    {
     "name": "stderr",
     "output_type": "stream",
     "text": [
      "/Users/Matt/anaconda3/lib/python3.6/site-packages/sklearn/utils/validation.py:395: DeprecationWarning: Passing 1d arrays as data is deprecated in 0.17 and will raise ValueError in 0.19. Reshape your data either using X.reshape(-1, 1) if your data has a single feature or X.reshape(1, -1) if it contains a single sample.\n",
      "  DeprecationWarning)\n"
     ]
    }
   ],
   "source": [
    "# First we predict the normalized price based on the normalized area (taken from section 2.2.3 above)\n",
    "normalized_price = slr.predict(input)\n",
    "\n",
    "# Then we convert the normalized price back into $ amount\n",
    "interim_price = normalized_price * X_std[2]\n",
    "#print(\"Interim price is {}\".format(interim_price))\n",
    "price = interim_price + X_mean[2]\n",
    "#print(\"Interim price is {}\".format(price))\n",
    "priceScikitlearn = float(price)\n",
    "\n",
    "print('Predicted price of a 1,650 sq-ft, 3 bedroom house (using functional implementation of gradient descent): \\n${:.0f}'.format(priceGD))\n",
    "print('Predicted price of a 1,650 sq-ft, 3 bedroom house (using normal equations): \\n${:.0f}'.format(priceN))\n",
    "print('Predicted price of a 1,650 sq-ft, 3 bedroom house (using an ojbect-oriented implementation of linear regression): \\n${:.0f}'.format(priceOO2))\n",
    "print('Predicted price of a 1,650 sq-ft, 3 bedroom house (using scikitlearn): \\n${:.0f}'.format(priceScikitlearn))"
   ]
  },
  {
   "cell_type": "markdown",
   "metadata": {},
   "source": [
    "Interestingly, scikitlearn's default parameters produce the same predicted price as the Normal Equation implementation."
   ]
  },
  {
   "cell_type": "markdown",
   "metadata": {},
   "source": [
    "### 4.2 Interpretation, training and testing\n",
    "\n",
    "What we've done above is to take **all** of the data-points for size (actually, floor area in square metres) and price (in $) - both normalized - and calculate the ordinary least squares linear relationship between them. In the machine-learning world this is called \"training the model\".\n",
    "\n",
    "Before we go any further, we should interpret this result.\n",
    "\n",
    "Firstly, let's look at the slope - 0.85. This tells us that, according to our model, for every unit increase in floor area, we have a 0.85 increase in the price.\n",
    "\n",
    "We then calculated the \"coefficient of determination\" (R^2) to understand the strength of the relationship - where an R^2 of 1 represents a perfect prediction, and an R^2 of 0 represents no predictive value. The R^2 of 0.73 represents a reasonably strong relationship between the independent variable (floor area) and the dependent variable (price) - 73% of the variation in the price is explained by the floor area.\n",
    "\n",
    "This leads to an interesting question - how large is a \"strong\" relationship? i.e. how big should R^2 be for us to conclude that our model (linear equation) is able to predict the data well?\n",
    "\n",
    "We want to know this because we'd like to be confident that the model can generalize to data it wasn't \"trained\" on; i.e. we want to test whether the linear relationship we've calculated in the form $y = mx + c$\n",
    "is able to accurately predict <i>new</i> values of <i>y</i> given <i>new</i> values of <i>x</i>.\n",
    "\n",
    "**Statisticians** might approach this as follows:\n",
    "- To start with, they might point out that the size of the R^2 may not be as important as the <i>significance</i> of the relationship. For example, results in psychology often have R^2 values below 0.5 - because human behaviour is hard to predict! Nonetheless, being able to predict half of the variation in a particular behaviour from some other independent variable might be a hugely important and valuable result.\n",
    "- From there, they'd probably go on to **test the significance** of the regression model, using the F-test of overall significance in regression (see e.g. https://blog.minitab.com/blog/adventures-in-statistics-2/what-is-the-f-test-of-overall-significance-in-regression-analysis). If the F-test is significant, it shows that the R^2 value is significantly different from zero - and the model improved the fit of data (vs. a model that just goes horizontally through the intercept).\n",
    "- They'd also say: \"plot the residuals\" (i.e. the differences between the predicted outputs and the actual outputs) to see whether these are randomly distributed, or whether there is any systematic bias in the model's output.\n",
    "\n",
    "So, let's plot the residuals:"
   ]
  },
  {
   "cell_type": "code",
   "execution_count": 363,
   "metadata": {},
   "outputs": [
    {
     "data": {
      "image/png": "[encoded data removed]",
      "text/plain": [
       "<matplotlib.figure.Figure at 0x118d3d6d8>"
      ]
     },
     "metadata": {},
     "output_type": "display_data"
    }
   ],
   "source": [
    "# predict (normalized) prices for all of the (normalized) data (floor area)\n",
    "normalized_predicted_prices = slr.predict(X)\n",
    "residuals = normalized_predicted_prices - y\n",
    "# plot the residuals vs. the normalized predicted prices\n",
    "plt.scatter(normalized_predicted_prices, residuals, c='steelblue', marker = 'o', edgecolor='white')\n",
    "plt.xlabel(\"Predicted normalized prices\")\n",
    "plt.ylabel(\"Residuals\")\n",
    "plt.hlines(y=0, xmin = -2, xmax = 3, color='black', lw=2)\n",
    "plt.xlim(-2, 3)\n",
    "plt.show()"
   ]
  },
  {
   "cell_type": "markdown",
   "metadata": {},
   "source": [
    "The residuals appear to be relatively evenly and randomly spread around 0, which is good - this suggests that there's no systematic bias in the model's output.\n",
    "\n",
    "We can also use residual plots to detect <i>outliners</i>, which are represented by points a long way from the centre line (e.g. the point at around -0.6, -1.6 to the lower left of the residual plot above)."
   ]
  },
  {
   "cell_type": "markdown",
   "metadata": {},
   "source": [
    "**Machine Learning** or **Data Science** people seem to follow a different approach. Rather than using statistical tests, it seems that the standard approach is to:\n",
    "- segment the data into separate \"training\" and \"testing\" sub-sets\n",
    "- build the model on the \"training\" data (i.e. estimate the values of parameters in our $y = mx + c$ equation)\n",
    "- use the \"trained model\" to predict the expected outputs for the \"training\" data\n",
    "- compare these predicted values with the actual values of the training data. If these are \"close enough\", conclude that the model is acceptably good at predicting the output (dependent) variable based on new \"unseen\" values of the dependent variable (or variables if we are running multivariate regression)."
   ]
  },
  {
   "cell_type": "code",
   "execution_count": 364,
   "metadata": {},
   "outputs": [
    {
     "name": "stdout",
     "output_type": "stream",
     "text": [
      "X_train's shape is (32, 2)\n",
      "y_train's shape is (32, 1)\n",
      "X_test's shape is (15, 2)\n",
      "y_test's shape is (15, 1)\n"
     ]
    }
   ],
   "source": [
    "# import scikitlearn's \"test_train_split\" module\n",
    "from sklearn.model_selection import train_test_split\n",
    "# separate the data into \"train\" and \"test\" portions\n",
    "X_train, X_test, y_train, y_test = train_test_split(X, y, train_size=0.7, random_state=1)\n",
    "# check we've got the shapes we were expecting\n",
    "print(\"X_train's shape is {}\".format(X_train.shape))\n",
    "print(\"y_train's shape is {}\".format(y_train.shape))\n",
    "print(\"X_test's shape is {}\".format(X_test.shape))\n",
    "print(\"y_test's shape is {}\".format(y_test.shape))"
   ]
  },
  {
   "cell_type": "code",
   "execution_count": 365,
   "metadata": {},
   "outputs": [
    {
     "data": {
      "text/plain": [
       "LinearRegression(copy_X=True, fit_intercept=True, n_jobs=1, normalize=False)"
      ]
     },
     "execution_count": 365,
     "metadata": {},
     "output_type": "execute_result"
    }
   ],
   "source": [
    "# \"fit\" the model on our training data\n",
    "# ...(i.e. we calculate y = mx +c using ordinary least squares for the training sub-set of our data)\n",
    "lm = LinearRegression()\n",
    "lm.fit(X_train, y_train)"
   ]
  },
  {
   "cell_type": "markdown",
   "metadata": {},
   "source": [
    "Now we can evaluate the performance of the model using the Mean Squared Error and the $R^2$ statistic. This is a standardized version of the Mean Square Error, and captures the fraction of the response variance that is captured by the model.\n",
    "\n",
    "The Mean Squared Error, or MSE, is defined as:\n",
    "\n",
    "$$ MSE = \\frac{1}{n} \\sum_{i=1}^n \\left( y^{(i)} - \\hat{y}^{(i)}\\right)^{2} $$\n",
    "\n",
    "The $R^2$ statistic is defined as:\n",
    "\n",
    "$$ R^2 = 1 - \\frac{SSE}{SST} $$\n",
    "\n",
    "Where the SST is the Total Sum of Squares - i.e. the variance of the response:\n",
    "\n",
    "$$ SST = \\sum_{i=1}^n \\left( y^{(i)} - \\mu_{y}\\right)^{2} $$\n",
    "\n",
    "First, let's look at the MSE:"
   ]
  },
  {
   "cell_type": "code",
   "execution_count": 366,
   "metadata": {},
   "outputs": [
    {
     "name": "stdout",
     "output_type": "stream",
     "text": [
      "MSE train: 0.19766683389081785\n",
      "MSE test: 0.39789978581985064\n"
     ]
    }
   ],
   "source": [
    "# import the mean_squared_error() method from scikitlearn.metrics\n",
    "from sklearn.metrics import mean_squared_error\n",
    "# instantiate the predicted outputs for the training and test variables from our model\n",
    "y_train_pred = lm.predict(X_train)\n",
    "y_test_pred = lm.predict(X_test)\n",
    "print(\"MSE train: {}\".format(mean_squared_error(y_train, y_train_pred)))\n",
    "print(\"MSE test: {}\".format(mean_squared_error(y_test, y_test_pred)))"
   ]
  },
  {
   "cell_type": "markdown",
   "metadata": {},
   "source": [
    "We can see that the MSE for the training data is ~0.2, while the MSE for the test data is ~0.4 - indicating that the model is likely over-fitting the training data.\n",
    "\n",
    "Now let's have a look at the $R^2$ scores. Note that we don't need to calculate these directly, since `scikitlearn` can do this for us with its `score()` method:"
   ]
  },
  {
   "cell_type": "code",
   "execution_count": 367,
   "metadata": {},
   "outputs": [
    {
     "name": "stdout",
     "output_type": "stream",
     "text": [
      "R-squared for training data is 0.7843320596420005\n",
      "R-squared for unseen data is 0.6394802354870255\n"
     ]
    }
   ],
   "source": [
    "# \"score\" the model's ability to predict the training data (i.e. calculate the R^2 for this data)\n",
    "R2_train = lm.score(X_train, y_train)\n",
    "print(\"R-squared for training data is {}\".format(R2_train))\n",
    "# \"score\" the model's ability to predict the test data (i.e. calculate the R^2 for this data)\n",
    "R2_test = lm.score(X_test, y_test)\n",
    "print(\"R-squared for unseen data is {}\".format(R2_test))"
   ]
  },
  {
   "cell_type": "markdown",
   "metadata": {},
   "source": [
    "What does this tell us?\n",
    "\n",
    "Well, literally, what the $R^2$ scores are telling us is that the model built on the traning data can explain ~78% of the variance in the training data; and when we use this model to predict the output values of the (previously unseen) training sub-set of the data, it can explain ~64% of the variance in the data.\n",
    "\n",
    "This matches what we are seeing with the \"raw\" MSE scores.\n",
    "\n",
    "Something that's suprising, though is that when we calculate the model - i.e. work out the formula $y = mc + c$\n",
    "\n",
    "using a sub-set of the data, we get a **higher** $R^2$ score (~0.78) than when we calculate it using **all of the data** (~0.73). This isn't good. If we've selected an appropriately random and representative subset of the data to be the training set, we wouldn't expect a smaller set of data to result in a model that accounts for <i>more of the variance in the data</i>. Again, this suggests that our model based on the training set is over-fitting the data to a worrying degree.\n",
    "\n",
    "Overcoming these issues would merit a further discussion on validation and the various techniques that can be used to achieve that (e.g. <i>k-fold validation</i>, <i>leave-one-out validation</i>) - which is a topic for another time.\n",
    "\n",
    "It would also be useful to look in more detail at overfitting, and the use of the\n",
    "- <i>adjusted $R^2$</i> and\n",
    "- <i>predicted $R^2$</i> statistics\n",
    "\n",
    "and what they can tell us about overfitting (as a final note - overfitting can occur through either or both of: adding new predictor terms to our multiple regression; or adding polynomial terms - basically in both cases we start to accurately model the <i>noise</i> in the data, rather than the actual relationships)."
   ]
  },
  {
   "cell_type": "markdown",
   "metadata": {},
   "source": [
    "## 5 Final Thoughts to Wrap Up\n",
    "\n",
    "That's everything we need to do for this week's exercise for the Andrew Ng Machine Learning course (week 2).\n",
    "\n",
    "However, there are some next steps and/or further areas to explore that I'd like to note, which I - or you! - could come back to as and when you have the time:\n",
    "\n",
    "\n",
    "### 5.1 Outliers\n",
    "We might want to examine our data to see whether there are any outliers that are resulting in strange / inappropriate results (i.e. skewing our model so that it's *less* representative of the data than it could be). We could look at this using e.g. a *Random sample consensus* algorithm (RANSAC) - which is already implemented in scikitlearn.\n",
    "\n",
    "### 5.2 Polynomial Regression\n",
    "Sometimes, the relationship between two (or more) variables is not a straight line - it's a curve - e.g. it might be of the form:\n",
    "\n",
    "$$ y = m{x}^2 + c $$\n",
    "\n",
    "In this case, we can reduce the mean squared error ($MSE$) by fitting a polynomial rather than a linear relationship.\n",
    "\n",
    "**Note** however that the more terms we introduce, simply by the arithmetic of it all, the higher the $R^2$ is going to be - meaning that we can *artificially* improve the apparent fit of our model, just by introducing more and more parameters powers.\n",
    "\n",
    "I'm not going to go into this in detail here - but think of it like this: if we have a finite number of data points, we can always fit *some* curve to it such that the curve will meet *all* of the data points. However, when we try to extrapolate this to previously unseen data (from the same population), it's very unlikely to fit well - effectively we've fit the curve to the *noise* in the data.\n",
    "\n",
    "Which leads on to the next point.\n",
    "\n",
    "### 5.3 Over-fitting and \"regularization\"\n",
    "There are a number of approaches and algorithms that we could use to make it less likely that we over-fit our model to the data. I won't go into them here, but they include:\n",
    "- Ridge Regression;\n",
    "- Least Absolute Shrinkage and Selection Operator (LASSO); and\n",
    "- Elastic Net\n"
   ]
  },
  {
   "cell_type": "code",
   "execution_count": null,
   "metadata": {
    "collapsed": true
   },
   "outputs": [],
   "source": []
  }
 ],
 "metadata": {
  "kernelspec": {
   "display_name": "Python 3",
   "language": "python",
   "name": "python3"
  },
  "language_info": {
   "codemirror_mode": {
    "name": "ipython",
    "version": 3
   },
   "file_extension": ".py",
   "mimetype": "text/x-python",
   "name": "python",
   "nbconvert_exporter": "python",
   "pygments_lexer": "ipython3",
   "version": "3.6.10"
  }
 },
 "nbformat": 4,
 "nbformat_minor": 2
}
