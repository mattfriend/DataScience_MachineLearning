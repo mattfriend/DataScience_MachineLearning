{
 "cells": [
  {
   "cell_type": "markdown",
   "metadata": {},
   "source": [
    "# Andrew Ng's Machine Learning MOOC: Week 6: Exploring Bias & Variance using Regularized Linear Regression\n",
    "\n",
    "# Programming Exercise 5\n",
    "\n",
    "## 0. Introduction\n",
    "This notebook contains my solutions to the programming exercise for week 6 of Andrew Ng's famous Machine Learning MOOC on Coursera (https://www.coursera.org/learn/machine-learning). \n",
    "\n",
    "In this exercise, we develop a model using regularized linear regression, and use this to explore different bias-variance properties of the model.\n",
    "\n",
    "Now, the course requires submission of programming exercises in either the MATLAB or OCTAVE programming language.\n",
    "\n",
    "However since:\n",
    "* I already code in Python for various web development and data science projects, and\n",
    "* Python is the pre-eminent language currently used in data science and machine learning (and MATLAB and OCTAVE don't seem to be used anywhere near as much)\n",
    "\n",
    "I decided it would be more valuable to me to use Python to complete the programming exercises.\n",
    "\n",
    "I was therefore very pleased to find the following source, which has kindly written a set of python scripts to allow one to create Python implementations of the programming exercises for the course, and still submit them for scoring by the MOOC:\n",
    "https://github.com/dibgerge/ml-coursera-python-assignments\n",
    "\n",
    "**Thanks very much <i>dibgerge!</i>**\n",
    "\n",
    "\n",
    "In addition to the course's own lecture materials, I also used a number of other sources to help me solve the programming exercises. These include:\n",
    "\n",
    "### Other courses I've completed:\n",
    "* Harvard's Using Python for Research on edX: https://www.edx.org/course/using-python-for-research\n",
    "* UC San Diego's Python for Data Science, also on edX: https://www.edx.org/course/python-for-data-science-2\n",
    "* MIT's Introduction to Computational Thinking and Data Science I and II, also on edX: https://www.edx.org/course/introduction-to-computational-thinking-and-data-4\n",
    "* Imperial College London's Mathematics for Machine Learning I-III on Coursera: https://www.coursera.org/specializations/mathematics-machine-learning\n",
    "\n",
    "### Books:\n",
    "* Python Machine Learning by Sebastian Raschka and Vahid Mirjalili: https://sebastianraschka.com/books.html\n",
    "\n",
    "\n",
    "### Blogs and websites\n",
    "I found this blog a very useful reference:\n",
    "* https://www.johnwittenauer.net/machine-learning-exercises-in-python-part-5/\n",
    "\n",
    "And of course, there's always StackOverflow!\n",
    "\n",
    "One thing that struck me, looking at all of these different resources, is how many different ways there are to implement basically the same code in python, even using numpy and pandas dataframes! And that's before we think about object-oriented implementations, or using libraries such as scikitlearn.\n",
    "\n",
    "OK, now that the introduction is complete, let's get started with some imports.\n",
    "You can find instructions on how to install required libraries in the README file in *dibgerge*'s  [github repository](https://github.com/dibgerge/ml-coursera-python-assignments)."
   ]
  },
  {
   "cell_type": "code",
   "execution_count": 1,
   "metadata": {
    "collapsed": true
   },
   "outputs": [],
   "source": [
    "# used for manipulating directory paths\n",
    "import os\n",
    "\n",
    "# Scientific and vector computation for python\n",
    "import numpy as np\n",
    "\n",
    "# Pandas library for manipulating data\n",
    "import pandas as pd\n",
    "\n",
    "# Plotting library\n",
    "from matplotlib import pyplot as plt\n",
    "\n",
    "# Random numbers\n",
    "import random\n",
    "\n",
    "# Optimization module in scipy\n",
    "from scipy import optimize\n",
    "\n",
    "# will be used to load MATLAB mat datafile format\n",
    "from scipy.io import loadmat\n",
    "\n",
    "# library written for this exercise providing additional functions for assignment submission, and others\n",
    "import utils\n",
    "\n",
    "# define the submission/grader object for this exercise\n",
    "grader = utils.Grader()\n",
    "\n",
    "# tells matplotlib to embed plots within the notebook\n",
    "%matplotlib inline"
   ]
  },
  {
   "cell_type": "markdown",
   "metadata": {},
   "source": [
    "<a id=\"section1\"></a>\n",
    "## 1 Regularized Linear Regression\n",
    "\n",
    "First of all, we need to implement a regularized linear regression model to predict the amount of water flowing out of a dam based on the change of water level in a reservoir. In second half of the exercise we will run some diagnostics to debugging our algorithm and examine the effects of bias v.s.variance. \n",
    "\n",
    "### 1.1 Visualizing the dataset\n",
    "\n",
    "We will begin by visualizing the dataset containing historical records on the change in the water level, $x$, and the amount of water flowing out of the dam, $y$.\n",
    "\n",
    "This dataset is divided into three parts:\n",
    "\n",
    "- A **training** set that we will train our model on: `X`, `y`\n",
    "- A **cross validation** set for determining the regularization parameter, $\\lambda$: `Xval`, `yval`\n",
    "- A **test** set for evaluating performance. These are “unseen” examples which our model did not \"see\" during training: `Xtest`, `ytest`\n",
    "\n",
    "First of all, let's load and plot the data. Generally I'd do this into a pandas datframe; however the data is given to us as a matlab (.mat) file, and I don't know how to load this into pandas...and just now I'd rather simply load it into a numpy array and get on with the exercise than lose an interesting half-hour getting diverted in finding out!"
   ]
  },
  {
   "cell_type": "code",
   "execution_count": 2,
   "metadata": {},
   "outputs": [
    {
     "data": {
      "image/png": "[encoded data removed]",
      "text/plain": [
       "<matplotlib.figure.Figure at 0x11121ef28>"
      ]
     },
     "metadata": {},
     "output_type": "display_data"
    }
   ],
   "source": [
    "# Load from ex5data1.mat, where all variables will be store in a dictionary\n",
    "data = loadmat(os.path.join('Data', 'ex5data1.mat'))\n",
    "\n",
    "# Extract train, test, validation data from dictionary\n",
    "# and also convert y's from 2-D matrix (MATLAB format) to a numpy vector\n",
    "X, y = data['X'], data['y'][:, 0]\n",
    "Xtest, ytest = data['Xtest'], data['ytest'][:, 0]\n",
    "Xval, yval = data['Xval'], data['yval'][:, 0]\n",
    "\n",
    "# m = Number of examples\n",
    "m = y.size\n",
    "\n",
    "# Plot training data\n",
    "plt.plot(X, y, 'ro', ms=10, mec='k', mew=1)\n",
    "plt.xlabel('Change in water level (x)')\n",
    "plt.ylabel('Water flowing out of the dam (y)');"
   ]
  },
  {
   "cell_type": "code",
   "execution_count": 3,
   "metadata": {},
   "outputs": [
    {
     "data": {
      "text/plain": [
       "(12, 1)"
      ]
     },
     "execution_count": 3,
     "metadata": {},
     "output_type": "execute_result"
    }
   ],
   "source": [
    "X.shape"
   ]
  },
  {
   "cell_type": "markdown",
   "metadata": {},
   "source": [
    "Looking at the data, we can see immediately that a straight-line is **unlikely** to be a good fit for this data - so simple *linear* regression (i.e. where we hypothesize that *y* is some function of *x* raised to the power 1) is not going to give us an accurate prediction for the values of *y*. Specifically, a straight line is going to *underfit* the data.\n",
    "\n",
    "Instead, we're going to need to develop a hypothesis that predicts *y* is a function of *x* raised to some higher-order power - e.g. a quadratic function.\n",
    "\n",
    "Looking at the plot is a great way to develop our hypothesis for a univariate, or even a bi-variate case (i.e. where we only have 1 or 2 independent variables, or \"features\"). However, in the case where we are trying to use 3 or more independent variables, then it becomes hard to develop our intuition for the likely best form of the hypothesis through plotting - since we can only plot in three dimensions!\n",
    "\n",
    "For this reason, in this exercise we will first develop a hypothesis using simple linear regression, so we can look at the bias and variance and confirm in a more *mathematical* way that a straight-line *underfits* the data. We can then go on to look at higher-power functions, and see how these fit the data - ideally finding a model (/function /equation) that neither *underfits* the data (aka \"high bias\") nor *overfits* the data (aka \"high variance\")."
   ]
  },
  {
   "cell_type": "markdown",
   "metadata": {},
   "source": [
    "### 1.2 Regularized linear regression cost function\n",
    "\n",
    "In simple linear regression, our hypothesis for $h(\\theta)$ is as follows:\n",
    "\n",
    "$$ y = \\theta_0x_0 + \\theta_1x_1 $$\n",
    "\n",
    "Where $\\theta_0$ is the y-axis intercept where $x_0$ = 0 (otherwise referred to as the \"bias term\").\n",
    "\n",
    "Thinking about how we vectorize this, it's useful to take the maths a little further here:\n",
    "\n",
    "$$ y = \\theta_0x_0 + \\theta_1x_1 = \\left (\\sum_{i=1}^m \\theta_ix_i \\right) = \\theta^{T}X $$\n",
    "\n",
    "So, thinking ahead to data preparation, we're going to need to add a column of *1*s to our X matrix representing our $x$ training data (and the same for our cross-validation and test data)\n",
    "\n",
    "#### Regularized linear regression cost function\n",
    "\n",
    "The cost function for regularized linear regression is expressed as:\n",
    "\n",
    "$$ J(\\theta) = \\frac{1}{2m} \\left( \\sum_{i=1}^m \\left( h_\\theta\\left( x^{(i)} \\right) - y^{(i)} \\right)^2 \\right) + \\frac{\\lambda}{2m} \\left( \\sum_{j=1}^n \\theta_j^2 \\right)$$\n",
    "\n",
    "where $\\lambda$ is a regularization parameter which controls the degree of regularization (helping prevent overfitting).\n",
    "\n",
    "The regularization term puts a penalty on the overall cost J.\n",
    "\n",
    "As the magnitudes of the model parameters $\\theta_j$ increase, the penalty increases as well.\n",
    "\n",
    "Note that we do not regularize the $\\theta_0$ term.\n",
    "\n",
    "####  Regularized linear regression gradient\n",
    "\n",
    "Correspondingly, the partial derivative of the cost function for regularized linear regression is defined as:\n",
    "\n",
    "$$\n",
    "\\begin{align}\n",
    "& \\frac{\\partial J(\\theta)}{\\partial \\theta_0} = \\frac{1}{m} \\sum_{i=1}^m \\left( h_\\theta \\left(x^{(i)} \\right) - y^{(i)} \\right) x_j^{(i)} & \\qquad \\text{for } j = 0 \\\\\n",
    "& \\frac{\\partial J(\\theta)}{\\partial \\theta_j} = \\left( \\frac{1}{m} \\sum_{i=1}^m \\left( h_\\theta \\left( x^{(i)} \\right) - y^{(i)} \\right) x_j^{(i)} \\right) + \\frac{\\lambda}{m} \\theta_j & \\qquad \\text{for } j \\ge 1\n",
    "\\end{align}\n",
    "$$\n",
    "\n",
    "Our task is to complete the function `linearRegCostFunction()`, which calculates the regularized linear regression cost function, and the gradient of the cost function at any point, with respect to $\\theta$. We are going to do this using vectorized code - i.e. avoiding loops (which are computationally less efficient than vectors)."
   ]
  },
  {
   "cell_type": "code",
   "execution_count": 4,
   "metadata": {
    "collapsed": true
   },
   "outputs": [],
   "source": [
    "def linearRegCostFunction(X, y, theta, lambda_=0.0):\n",
    "    \"\"\"\n",
    "    Computes cost and gradient for regularized linear regression \n",
    "    with multiple variables.\n",
    "    Computes the cost of using theta as the parameter for linear\n",
    "    regression to fit the data points in X and y. \n",
    "    \n",
    "    Parameters\n",
    "    ----------\n",
    "    X : array_like\n",
    "        The dataset. Matrix with shape (m x n + 1) where m is the \n",
    "        total number of examples, and n is the number of features \n",
    "        before adding the bias term.\n",
    "    \n",
    "    y : array_like\n",
    "        The functions values at each datapoint. A vector of\n",
    "        shape (m, ).\n",
    "    \n",
    "    theta : array_like\n",
    "        The parameters for linear regression. A vector of shape (n+1,).\n",
    "    \n",
    "    lambda_ : float, optional\n",
    "        The regularization parameter.\n",
    "    \n",
    "    Returns\n",
    "    -------\n",
    "    J : float\n",
    "        The computed cost function. \n",
    "    \n",
    "    grad : array_like\n",
    "        The value of the cost function gradient w.r.t theta. \n",
    "        A vector of shape (n+1, ).\n",
    "    \n",
    "    Instructions\n",
    "    ------------\n",
    "    Compute the cost and gradient of regularized linear regression for\n",
    "    a particular choice of theta.\n",
    "    You should set J to the cost and grad to the gradient.\n",
    "    \"\"\"\n",
    "    # 0. Pre-processing\n",
    "    \n",
    "    # 0.1 Initialize some important values\n",
    "    m = y.size # number of training examples \n",
    "    J = 0 # cost - initialized to 0\n",
    "    grad = np.zeros(theta.shape) # gradient of cost function - initialized as matrix of 0s\n",
    "\n",
    "    # 0.2 split X and theta into term0 (the bias term) and the remaining terms\n",
    "    \n",
    "    # 0.2.1 split X into first column of intercept values, and all other columns \n",
    "    X0 = X[:, 0:1]\n",
    "    X1 = X[:, 1:]\n",
    "    \n",
    "    # 0.2.2 Make a copy of theta, to avoid changing the original array, since\n",
    "    # ...numpy arrays are passed by reference to functions\n",
    "    theta = theta.copy()\n",
    "    \n",
    "    # 0.2.3 Slice Theta into first column relating to intercept values, and all other columns\n",
    "    theta0 = theta[0:1]\n",
    "    theta1 = theta[1:(len(theta)+1)]\n",
    "    \n",
    "    # 1. Calculate cost\n",
    "    \n",
    "    # 1.1 First term\n",
    "    J_term1 = np.dot(X, theta) - y\n",
    "    J_term1 = np.power(J_term1, 2)\n",
    "    J_term1 = np.sum(J_term1) / (2*m)\n",
    "    \n",
    "    # 1.2 Second term - NB theta0 term is not regularized\n",
    "    L2_term = (lambda_/(2*m)) * (np.sum(theta1**2)) # note more compact expression than 2nd and 3rd lines in J_term1 above\n",
    "    \n",
    "    # 1.3 Sum first term and second term\n",
    "    J = J_term1 + L2_term\n",
    "\n",
    "    # 2. Calculate gradient of cost with respect to theta\n",
    "    \n",
    "    # 2.1 Calculate gradient for first value of theta - which is not regularized\n",
    "    error = np.dot(X, theta) - y\n",
    "    temp = np.dot(X0.T, error)\n",
    "    grad0 = temp / m\n",
    "    grad0 = grad0.reshape((1, -1)) # change back to (1,) vector, rather than (1 x 1 matrix)\n",
    "    \n",
    "    # 2.2 Calculate gradient for remaining values of theta - which are regularized\n",
    "    temp2 = np.dot(X1.T, error)\n",
    "    temp2 = temp2 / m\n",
    "    L2_term = (lambda_/m) * (theta1)\n",
    "    grad1 = temp2 + L2_term\n",
    "    grad1 = grad1.reshape((1, -1)) # change back to (1,) vector, rather than (1 x 1 matrix)\n",
    "    \n",
    "    # 2.3 Combine the two elements of the gradient back into a single matrix\n",
    "    # ...and demote into a vector\n",
    "    grad = np.concatenate([grad0, grad1], axis = 1)\n",
    "    grad = grad.ravel()    \n",
    "    \n",
    "    return J, grad"
   ]
  },
  {
   "cell_type": "markdown",
   "metadata": {},
   "source": [
    "**Test Cases**\n",
    "\n",
    "When we've finished, we can run `linearRegCostFunction()` on a test case using theta initialized at `[1, 1]`.\n",
    "\n",
    "We should see a cost function of `303.993` and a gradient of `[-15.30, 598.250]`."
   ]
  },
  {
   "cell_type": "code",
   "execution_count": 5,
   "metadata": {},
   "outputs": [
    {
     "name": "stdout",
     "output_type": "stream",
     "text": [
      "Cost at theta = [1, 1]:\t   303.993192 \n",
      "This value should be about 303.993192)\n",
      "\n",
      "Gradient at theta = [1, 1]:  [-15.303016, 598.250744] \n",
      " (this value should be about [-15.303016, 598.250744])\n",
      "\n"
     ]
    }
   ],
   "source": [
    "theta = np.array([1, 1])\n",
    "J, grad = linearRegCostFunction(np.concatenate([np.ones((m, 1)), X], axis=1), y, theta, 1)\n",
    "\n",
    "print('Cost at theta = [1, 1]:\\t   %f ' % J)\n",
    "print('This value should be about 303.993192)\\n' % J)\n",
    "\n",
    "print('Gradient at theta = [1, 1]:  [{:.6f}, {:.6f}] '.format(*grad))\n",
    "print(' (this value should be about [-15.303016, 598.250744])\\n')"
   ]
  },
  {
   "cell_type": "markdown",
   "metadata": {},
   "source": [
    "Let's also run a couple more test cases from the course's forum."
   ]
  },
  {
   "cell_type": "code",
   "execution_count": 6,
   "metadata": {
    "collapsed": true
   },
   "outputs": [],
   "source": [
    "X_test1 = np.array([[1, 8, 1, 6], [1, 3, 5, 7], [1, 4, 9, 2]])\n",
    "y_test1 = np.array([7, 6, 5])\n",
    "theta_test1 = np.array([0.1, 0.2, 0.3, 0.4])"
   ]
  },
  {
   "cell_type": "code",
   "execution_count": 7,
   "metadata": {},
   "outputs": [
    {
     "name": "stdout",
     "output_type": "stream",
     "text": [
      "Cost = 1.3533333333333326\n",
      "Expected value = 1.3533\n",
      "Gradient = -1.3999999999999995, -8.73333333333333, -4.333333333333331, -7.93333333333333 \n",
      "Expected values are: -1.400, -8.7333, -4.3333, -7.9333\n"
     ]
    }
   ],
   "source": [
    "J, grad = linearRegCostFunction(X_test1, y_test1, theta_test1, 0)\n",
    "print(\"Cost = {}\".format(J))\n",
    "print(\"Expected value = 1.3533\")\n",
    "print(\"Gradient = {}, {}, {}, {} \".format(*grad))\n",
    "print(\"Expected values are: -1.400, -8.7333, -4.3333, -7.9333\")"
   ]
  },
  {
   "cell_type": "markdown",
   "metadata": {},
   "source": [
    "OK, that looks correct.\n",
    "\n",
    "Let's try the same case again, but with a different value for $\\lambda$:"
   ]
  },
  {
   "cell_type": "code",
   "execution_count": 8,
   "metadata": {},
   "outputs": [
    {
     "name": "stdout",
     "output_type": "stream",
     "text": [
      "Cost = 1.691666666666666\n",
      "Expected value = 1.6917\n",
      "Gradient = -1.3999999999999995, -8.266666666666664, -3.633333333333331, -6.9999999999999964 \n",
      "Expected values are: -1.400, -8.2667, -3.6333, -7.0000\n"
     ]
    }
   ],
   "source": [
    "J, grad = linearRegCostFunction(X_test1, y_test1, theta_test1, 7)\n",
    "print(\"Cost = {}\".format(J))\n",
    "print(\"Expected value = 1.6917\")\n",
    "print(\"Gradient = {}, {}, {}, {} \".format(*grad))\n",
    "print(\"Expected values are: -1.400, -8.2667, -3.6333, -7.0000\")"
   ]
  },
  {
   "cell_type": "markdown",
   "metadata": {},
   "source": [
    "Good stuff - our code appears to be working."
   ]
  },
  {
   "cell_type": "markdown",
   "metadata": {},
   "source": [
    "### 1.3 Fitting linear regression\n",
    "\n",
    "Now we've got our cost function and gradient working correctly, we can \"fit\" the model and calculate the optimal values of $\\theta$. We do this by calling the function `trainLinearReg()` (supplied to us by `dibgerge` in the module `utils.py` - thanks `dibgerge`!). It's worth taking a look at the code for this function, which uses `scipy`'s optimization module to minimize the cost function. The code also plots a line of best-fit for us.\n",
    "\n",
    "In this part, we set regularization parameter $\\lambda$ to zero. Why? Well, our current implementation of linear regression is trying to fit a 2-dimensional $\\theta$, and regularization will not be incredibly helpful for a $\\theta$ of such low dimension. In the later parts of the exercise, we will be using polynomial regression function, with which we will use regularization."
   ]
  },
  {
   "cell_type": "code",
   "execution_count": 9,
   "metadata": {},
   "outputs": [
    {
     "data": {
      "image/png": "[encoded data removed]",
      "text/plain": [
       "<matplotlib.figure.Figure at 0x114683cf8>"
      ]
     },
     "metadata": {},
     "output_type": "display_data"
    }
   ],
   "source": [
    "# add a columns of ones for the y-intercept\n",
    "X_aug = np.concatenate([np.ones((m, 1)), X], axis=1)\n",
    "theta = utils.trainLinearReg(linearRegCostFunction, X_aug, y, lambda_=0)\n",
    "\n",
    "#  Plot fit over the data\n",
    "plt.plot(X, y, 'ro', ms=10, mec='k', mew=1.5)\n",
    "plt.xlabel('Change in water level (x)')\n",
    "plt.ylabel('Water flowing out of the dam (y)')\n",
    "plt.plot(X, np.dot(X_aug, theta), '--', lw=2);"
   ]
  },
  {
   "cell_type": "markdown",
   "metadata": {},
   "source": [
    "As we noted at the beginning of this section, we can see that the model is not a good fit to the data - the data are non-linear, while our hypothesis is linear.\n",
    "\n",
    "When we're working in low dimensions for the independent variables (only 1 or 2 \"features\") visualization is very useful way of de-bugging and understanding the performance of our algorithm. Beyond this, however, it's not always easy to visualize the data and model (e.g. we might need to create numerous cross-tabs of 2-dimensional visualisations, and try to compare them). To help address this, in the next section, we will implement a function to generate learning curves that can help us debug our learning algorithm even if it is not easy to visualize the\n",
    "data."
   ]
  },
  {
   "cell_type": "markdown",
   "metadata": {},
   "source": [
    "## 2 Bias vs. variance\n",
    "\n",
    "An important concept in machine learning is the bias-variance tradeoff. Models with high bias are not complex enough for the data and tend to underfit; while models with high variance overfit to the training data, and don't generalize well to new, previously \"unseen\" data.\n",
    "\n",
    "In this part of the exercise, we will plot training and test errors on a learning curve to diagnose bias-variance problems.\n",
    "\n",
    "### 2.1 Learning Curves\n",
    "\n",
    "Now well will implement code to generate the learning curves that will be useful in debugging learning algorithms.  A learning curve plots training and cross-validation error as a function of training set size. Our job is to fill in the function `learningCurve()` in the next cell, so that it returns a vector of errors for the training set and cross validation set.\n",
    "\n",
    "To plot the learning curve, we need a training and cross validation set error for different training set sizes. To obtain different training set sizes, we  use different subsets of the original training set `X`. Specifically, for a training set size of $i$, you should use the first $i$ examples (i.e., `X[:i, :]`\n",
    "and `y[:i]`).\n",
    "\n",
    "We can use the `trainLinearReg()` function (by calling `utils.trainLinearReg(...)`) to find the optimal $\\theta$ parameters for each sub-set. Note that the `lambda_` is passed as a parameter to the `learningCurve` function.\n",
    "\n",
    "After learning the $\\theta$ parameters, we compute the error on the training and cross validation sets. The training error for a dataset is defined as:\n",
    "\n",
    "$$ J_{\\text{train}} = \\frac{1}{2m} \\left[ \\sum_{i=1}^m \\left(h_\\theta \\left( x^{(i)} \\right) - y^{(i)} \\right)^2 \\right] $$\n",
    "\n",
    "In particular, note that the training error does **not** include the regularization term. One way to compute the training error is to use our existing cost function and set $\\lambda$ to 0 only when using it to compute the training error and cross validation error. \n",
    "\n",
    "Finally, when computing the training set error, we need to make sure to compute it on the training *subset* (i.e., `X[:n,:]` and `y[:n]`) instead of the entire training set. For the cross validation error, however, we need to compute it over the *entire* cross validation set. We will store the computed errors in the vectors `error_train` and `error_val`."
   ]
  },
  {
   "cell_type": "code",
   "execution_count": 10,
   "metadata": {
    "collapsed": true
   },
   "outputs": [],
   "source": [
    "def learningCurve(X, y, Xval, yval, lambda_=0):\n",
    "    \"\"\"\n",
    "    Generates the train and cross validation set errors needed to plot a learning curve\n",
    "    Returns the train and cross validation set errors for a learning curve. \n",
    "    \n",
    "    In this function, we compute the training and cross-validation errors for\n",
    "    dataset sizes from 1 up to m. In practice, when working with larger\n",
    "    datasets, we might want to do this in larger intervals.\n",
    "    \n",
    "    Parameters\n",
    "    ----------\n",
    "    X : array_like\n",
    "        The training dataset. Matrix with shape (m x n + 1) where m is the \n",
    "        total number of examples, and n is the number of features \n",
    "        before adding the bias term.\n",
    "    \n",
    "    y : array_like\n",
    "        The function's values at each training datapoint. A vector of\n",
    "        shape (m, ).\n",
    "    \n",
    "    Xval : array_like\n",
    "        The cross-validation dataset. Matrix with shape (m_val x n + 1) where m is the \n",
    "        total number of examples, and n is the number of features \n",
    "        before adding the bias term.\n",
    "    \n",
    "    yval : array_like\n",
    "        The function's values at each cross-validation datapoint. A vector of\n",
    "        shape (m_val, ).\n",
    "    \n",
    "    lambda_ : float, optional\n",
    "        The regularization parameter.\n",
    "        Default = 0\n",
    "    \n",
    "    Returns\n",
    "    -------\n",
    "    error_train : array_like\n",
    "        A vector of shape m. error_train[i].\n",
    "        Contains the training error for i examples.\n",
    "    error_val : array_like\n",
    "        A vector of shape m. error_val[i]\n",
    "        Contains the validation error for i training examples.\n",
    "    \n",
    "    Notes\n",
    "    -----\n",
    "    - We evaluate the training error on the first i training\n",
    "      examples (i.e., X[:i, :] and y[:i]).\n",
    "    \n",
    "      In contrast, we evaluate the cross-validation error on **the entire\n",
    "      cross validation set** (Xval and yval).\n",
    "    \n",
    "    - We are using the cost function we defined above - linearRegCostFunction()) - \n",
    "      to compute the training and cross validation error. We therefore need to call \n",
    "      linearRegCostfunction() with the lambda argument set to 0 - as we don't \n",
    "      regularize this calculation.\n",
    "      Note, however, that we still need to use lambda when calculating the optimum theta parameters.\n",
    "    \"\"\"\n",
    "    # 0. Initialize some useful values and the outputs\n",
    "    m = y.size\n",
    "    error_train = np.zeros(m)\n",
    "    error_val   = np.zeros(m)\n",
    "\n",
    "    # 1. Loop over the number of training examples\n",
    "    for i in range(1, m+1):\n",
    "        # 1.1. Define the sub-set of X and y values to use\n",
    "        X_subset = X[:i, :]\n",
    "        y_subset = y[:i]\n",
    "        # 1.2 Calculate the optimum theta parameters for that sub-set\n",
    "        theta = utils.trainLinearReg(linearRegCostFunction, X_subset, y_subset, lambda_)\n",
    "        # 1.3 Apply those theta parameters to calculate the cost on the **training sub-set**\n",
    "        # ...storing this value in error_train\n",
    "        # ...making sure to set lambda_ to 0 for this and the following \n",
    "        # ...calculation (we don't regularize these parts)\n",
    "        lambda_2 = 0 # define new variable to hard code the lambda_ parameter to be zero\n",
    "        J_error_train, grad = linearRegCostFunction(X_subset, y_subset, theta, lambda_2)\n",
    "        error_train[i-1] = J_error_train\n",
    "        # 1.4 Apply the same theta parameters to calculate the cost on the **WHOLE cross-validation set**\n",
    "        # ...storing this value in error_val\n",
    "        J_error_val, grad = linearRegCostFunction(Xval, yval, theta, lambda_2)\n",
    "        error_val[i-1] = J_error_val\n",
    "\n",
    "    return error_train, error_val"
   ]
  },
  {
   "cell_type": "code",
   "execution_count": 11,
   "metadata": {},
   "outputs": [
    {
     "name": "stdout",
     "output_type": "stream",
     "text": [
      "No. of Training Examples\tTrain Error\tCross Validation Error\n",
      "  \t1\t\t0.000000\t205.121096\n",
      "  \t2\t\t0.000000\t110.302641\n",
      "  \t3\t\t3.286595\t45.010231\n",
      "  \t4\t\t2.842678\t48.368911\n",
      "  \t5\t\t13.154049\t35.865165\n",
      "  \t6\t\t19.443963\t33.829962\n",
      "  \t7\t\t20.098522\t31.970986\n",
      "  \t8\t\t18.172859\t30.862446\n",
      "  \t9\t\t22.609405\t31.135998\n",
      "  \t10\t\t23.261462\t28.936207\n",
      "  \t11\t\t24.317250\t29.551432\n",
      "  \t12\t\t22.373906\t29.433818\n"
     ]
    },
    {
     "data": {
      "image/png": "[encoded data removed]",
      "text/plain": [
       "<matplotlib.figure.Figure at 0x11475ecc0>"
      ]
     },
     "metadata": {},
     "output_type": "display_data"
    }
   ],
   "source": [
    "X_aug = np.concatenate([np.ones((m, 1)), X], axis=1)\n",
    "Xval_aug = np.concatenate([np.ones((yval.size, 1)), Xval], axis=1)\n",
    "error_train, error_val = learningCurve(X_aug, y, Xval_aug, yval, lambda_=0)\n",
    "\n",
    "plt.plot(np.arange(1, m+1), error_train, np.arange(1, m+1), error_val, lw=2)\n",
    "plt.title('Learning curve for linear regression')\n",
    "plt.legend(['Train', 'Cross Validation'])\n",
    "plt.xlabel('Number of training examples')\n",
    "plt.ylabel('Error')\n",
    "plt.axis([0, 13, 0, 150])\n",
    "\n",
    "print('No. of Training Examples\\tTrain Error\\tCross Validation Error')\n",
    "for i in range(m):\n",
    "    print('  \\t%d\\t\\t%f\\t%f' % (i+1, error_train[i], error_val[i]))"
   ]
  },
  {
   "cell_type": "markdown",
   "metadata": {},
   "source": [
    "In the learning curve figure above, we see that both the train error and cross validation error remain high (> 20) when the number of training examples is increased. This reflects a high bias problem in the model - the linear regression model is too simple and is unable to fit our dataset well.\n",
    "\n",
    "In the next section, we will implement polynomial regression to fit a better model for this dataset."
   ]
  },
  {
   "cell_type": "markdown",
   "metadata": {},
   "source": [
    "## 3 Polynomial regression\n",
    "\n",
    "The problem with our linear model was that it was too simple for the data\n",
    "and resulted in underfitting (high bias). In this part of the exercise, we will address this problem by adding more features. For polynomial regression, our hypothesis has the form:\n",
    "\n",
    "$$\n",
    "\\begin{align}\n",
    "h_\\theta(x)  &= \\theta_0 + \\theta_1 \\times (\\text{waterLevel}) + \\theta_2 \\times (\\text{waterLevel})^2 + \\cdots + \\theta_p \\times (\\text{waterLevel})^p \\\\\n",
    "& = \\theta_0 + \\theta_1 x_1 + \\theta_2 x_2 + \\cdots + \\theta_p x_p\n",
    "\\end{align}\n",
    "$$\n",
    "\n",
    "Notice that by defining $x_1 = (\\text{waterLevel})$, $x_2 = (\\text{waterLevel})^2$ , $\\cdots$, $x_p =\n",
    "(\\text{waterLevel})^p$, we obtain a linear regression model where the features are the various powers of the original value (waterLevel).\n",
    "\n",
    "Now, we will add more features using the higher powers of the existing feature $x$ in the dataset. Our task in this part is to complete the code in the function `polyFeatures()` in the next cell. The function maps the original training set $X$ of size $m \\times 1$ into its higher powers. Specifically, when a training set $X$ of size $m \\times 1$ is passed into the function, the function should return a $m \\times p$ matrix `X_poly`, where column 1 holds the original values of X, column 2 holds the values of $X^2$, column 3 holds the values of $X^3$, and so on.\n",
    "\n",
    "My approach here is to \"promote\" our `numpy` array into a `pandas` dataframe. It's then very easy to add new columns representing the original X data raised to higher powers. At the end we can convert this back to a `numpy` array very easily, too. I'm sure there's a fairly standard way of doing this with `numpy`, too - but I'm more familiar with `pandas` dataframes, and in any case would like to increase my practice in using them, since they are one of the most common data science tools in use."
   ]
  },
  {
   "cell_type": "code",
   "execution_count": 12,
   "metadata": {
    "collapsed": true
   },
   "outputs": [],
   "source": [
    "def polyFeatures(X, p):\n",
    "    \"\"\"\n",
    "    Maps X (1D vector) into the p-th power.\n",
    "    \n",
    "    Parameters\n",
    "    ----------\n",
    "    X : array_like\n",
    "        A data vector of size m, where m is the number of examples.\n",
    "    \n",
    "    p : int\n",
    "        The polynomial power to map the features. \n",
    "    \n",
    "    Returns \n",
    "    -------\n",
    "    X_poly : array_like\n",
    "        A matrix of shape (m x p) where p is the polynomial \n",
    "        power and m is the number of examples. That is:\n",
    "    \n",
    "        X_poly[i, :] = [X[i], X[i]**2, X[i]**3 ...  X[i]**p]\n",
    "    \n",
    "    Instructions\n",
    "    ------------\n",
    "    Given a vector X, return a matrix X_poly where the p-th column of\n",
    "    X contains the values of X to the p-th power.\n",
    "    \"\"\"\n",
    "    # Convert X from a numpy array to a dataframe for easier manipulation\n",
    "    X_poly_df = pd.DataFrame(data=X)\n",
    "    for column in range(p):\n",
    "        X_poly_df[column] = X_poly_df[0]**(column+1)\n",
    "\n",
    "    # Convert back from dataframe to numpy array\n",
    "    X_poly = X_poly_df.values\n",
    "    \n",
    "    return X_poly"
   ]
  },
  {
   "cell_type": "markdown",
   "metadata": {},
   "source": [
    "Let's test our function using some test cases from the course's forum.\n",
    "\n",
    "First test case:"
   ]
  },
  {
   "cell_type": "code",
   "execution_count": 13,
   "metadata": {},
   "outputs": [
    {
     "name": "stdout",
     "output_type": "stream",
     "text": [
      "X_test_poly1 is:\n",
      "[[   1    1    1    1]\n",
      " [   2    4    8   16]\n",
      " [   3    9   27   81]\n",
      " [   4   16   64  256]\n",
      " [   5   25  125  625]\n",
      " [   6   36  216 1296]\n",
      " [   7   49  343 2401]]\n"
     ]
    }
   ],
   "source": [
    "X_test1 = np.array([1, 2, 3, 4, 5, 6, 7])\n",
    "X_test_poly1 = polyFeatures(X_test1, 4)\n",
    "print(\"X_test_poly1 is:\")\n",
    "print(X_test_poly1)"
   ]
  },
  {
   "cell_type": "code",
   "execution_count": 14,
   "metadata": {},
   "outputs": [
    {
     "name": "stdout",
     "output_type": "stream",
     "text": [
      "X_test_poly2 is:\n",
      "[[ 1  1  1  1]\n",
      " [ 2  4  8 16]\n",
      " [ 3  9 27 81]]\n"
     ]
    }
   ],
   "source": [
    "X_test2 = np.array([1, 2, 3])\n",
    "X_test_poly2 = polyFeatures(X_test2, 4)\n",
    "print(\"X_test_poly2 is:\")\n",
    "print(X_test_poly2)"
   ]
  },
  {
   "cell_type": "markdown",
   "metadata": {},
   "source": [
    "Now we have a function that will map features to a higher dimension.\n",
    "\n",
    "For the next part of the exercise, we will use a polynomial of degree 8.\n",
    "\n",
    "If we run the training directly on the projected data, the algorithm will will not work well - as the features would be badly scaled (e.g., an example with $x = 40$ will now have a feature $x_8 = 40^8 = 6.5 \\times 10^{12}$). We are therefore going to use feature normalization.\n",
    "\n",
    "Before learning the parameters $\\theta$ for the polynomial regression, we first call `featureNormalize()` to normalize the features of the training set, storing the mu, and sigma parameters separately. We already wrote a function to do this in the first exercise of this course. Here we will use the function supplied by the course  / `dibgerge` which is located in the `utils.py` module supplied with the code distribution for this programming exercise (thanks `dibgerge`!). `scipy` also has a normalization function we could use - see https://scikit-learn.org/stable/modules/preprocessing.html#preprocessing-normalization\n",
    "\n",
    "The next cell applies our `polyFeatures()` function to the training data set, the test data set, and the cross-validation data set, and then *normalizes* each of these:"
   ]
  },
  {
   "cell_type": "code",
   "execution_count": 15,
   "metadata": {},
   "outputs": [
    {
     "name": "stdout",
     "output_type": "stream",
     "text": [
      "Normalized Training Example 1:\n"
     ]
    },
    {
     "data": {
      "text/plain": [
       "array([[ 1.        , -0.36214078, -0.75508669,  0.18222588, -0.70618991,\n",
       "         0.30661792, -0.59087767,  0.3445158 , -0.50848117],\n",
       "       [ 1.        , -0.80320484,  0.00125825, -0.24793699, -0.32702342,\n",
       "         0.09339632, -0.43581761,  0.25541612, -0.44891249]])"
      ]
     },
     "execution_count": 15,
     "metadata": {},
     "output_type": "execute_result"
    }
   ],
   "source": [
    "p = 8\n",
    "\n",
    "# Map X onto Polynomial Features and Normalize\n",
    "X_poly = polyFeatures(X, p)\n",
    "X_poly, mu, sigma = utils.featureNormalize(X_poly)\n",
    "X_poly = np.concatenate([np.ones((m, 1)), X_poly], axis=1)\n",
    "\n",
    "# Map X_poly_test and normalize (using mu and sigma of **training data**)\n",
    "X_poly_test = polyFeatures(Xtest, p)\n",
    "X_poly_test -= mu\n",
    "X_poly_test /= sigma\n",
    "X_poly_test = np.concatenate([np.ones((ytest.size, 1)), X_poly_test], axis=1)\n",
    "\n",
    "# Map X_poly_val and normalize (using mu and sigma **of training data**)\n",
    "X_poly_val = polyFeatures(Xval, p)\n",
    "X_poly_val -= mu\n",
    "X_poly_val /= sigma\n",
    "X_poly_val = np.concatenate([np.ones((yval.size, 1)), X_poly_val], axis=1)\n",
    "\n",
    "print('Normalized Training Example 1:')\n",
    "X_poly[0:2 :]"
   ]
  },
  {
   "cell_type": "code",
   "execution_count": 16,
   "metadata": {},
   "outputs": [
    {
     "name": "stdout",
     "output_type": "stream",
     "text": [
      "Normalized Cross-Validation Example 1:\n"
     ]
    },
    {
     "data": {
      "text/plain": [
       "array([[ 1.        , -0.38916543, -0.72149541,  0.16876064, -0.69803716,\n",
       "         0.30354037, -0.58940525,  0.34396872, -0.50824813],\n",
       "       [ 1.        , -0.31677737, -0.80773065,  0.20193698, -0.71734245,\n",
       "         0.31055382, -0.592639  ,  0.34512817, -0.50872536]])"
      ]
     },
     "execution_count": 16,
     "metadata": {},
     "output_type": "execute_result"
    }
   ],
   "source": [
    "print('Normalized Cross-Validation Example 1:')\n",
    "X_poly_val[0:2 :]"
   ]
  },
  {
   "cell_type": "markdown",
   "metadata": {},
   "source": [
    "*You should now submit your solutions.*"
   ]
  },
  {
   "cell_type": "markdown",
   "metadata": {},
   "source": [
    "## 3.1 Learning Polynomial Regression\n",
    "\n",
    "Now we've written the `polyFeatures()` function, we will train polynomial regression using our linear regression cost function.\n",
    "\n",
    "Keep in mind that even though we have polynomial terms in our feature vector, we are still solving a linear regression optimization problem. The polynomial terms have simply turned into features that we can use for linear regression. We are using the same cost function and gradient algorithms that we wrote for the earlier part of this exercise.\n",
    "\n",
    "The code below will fit our training and cross-validation data sets to our linear regression algorithm, using a value for $\\lambda$, the L2 regularization parameter, that we choose. Let's start with a value of 0:"
   ]
  },
  {
   "cell_type": "code",
   "execution_count": 17,
   "metadata": {},
   "outputs": [
    {
     "name": "stdout",
     "output_type": "stream",
     "text": [
      "Polynomial Regression (lambda = 0.000000)\n",
      "\n",
      "# Training Examples\tTrain Error\tCross Validation Error\n",
      "  \t1\t\t0.000000\t160.721900\n",
      "  \t2\t\t0.000000\t160.121511\n",
      "  \t3\t\t0.000000\t59.071624\n",
      "  \t4\t\t0.000000\t77.997697\n",
      "  \t5\t\t0.000000\t6.448825\n",
      "  \t6\t\t0.000000\t10.830519\n",
      "  \t7\t\t0.000000\t27.924529\n",
      "  \t8\t\t0.000002\t21.400711\n",
      "  \t9\t\t0.000085\t28.576513\n",
      "  \t10\t\t0.029629\t26.805988\n",
      "  \t11\t\t0.036641\t29.913319\n",
      "  \t12\t\t0.029057\t48.811833\n"
     ]
    },
    {
     "data": {
      "image/png": "[encoded data removed]",
      "text/plain": [
       "<matplotlib.figure.Figure at 0x114551ac8>"
      ]
     },
     "metadata": {},
     "output_type": "display_data"
    },
    {
     "data": {
      "image/png": "[encoded data removed]",
      "text/plain": [
       "<matplotlib.figure.Figure at 0x114a275c0>"
      ]
     },
     "metadata": {},
     "output_type": "display_data"
    }
   ],
   "source": [
    "lambda_ = 0 # NB - we'll adjust this paramater throughout the exercise\n",
    "\n",
    "theta = utils.trainLinearReg(linearRegCostFunction, X_poly, y,\n",
    "                             lambda_=lambda_, maxiter=55)\n",
    "\n",
    "# Plot training data and fit\n",
    "plt.plot(X, y, 'ro', ms=10, mew=1.5, mec='k')\n",
    "\n",
    "utils.plotFit(polyFeatures, np.min(X), np.max(X), mu, sigma, theta, p)\n",
    "\n",
    "plt.xlabel('Change in water level (x)')\n",
    "plt.ylabel('Water flowing out of the dam (y)')\n",
    "plt.title('Polynomial Regression Fit (lambda = %f)' % lambda_)\n",
    "plt.ylim([-20, 50])\n",
    "\n",
    "plt.figure()\n",
    "training_error, validation_error = learningCurve(X_poly, y, X_poly_val, yval, lambda_)\n",
    "plt.plot(np.arange(1, 1+m), training_error, np.arange(1, 1+m), validation_error)\n",
    "\n",
    "plt.title('Polynomial Regression Learning Curve (lambda = %f)' % lambda_)\n",
    "plt.xlabel('Number of training examples')\n",
    "plt.ylabel('Error')\n",
    "plt.axis([0, 13, 0, 100])\n",
    "plt.legend(['Train', 'Cross Validation'])\n",
    "\n",
    "print('Polynomial Regression (lambda = %f)\\n' % lambda_)\n",
    "print('# Training Examples\\tTrain Error\\tCross Validation Error')\n",
    "for i in range(m):\n",
    "    print('  \\t%d\\t\\t%f\\t%f' % (i+1, training_error[i], validation_error[i]))"
   ]
  },
  {
   "cell_type": "markdown",
   "metadata": {},
   "source": [
    "So, what are we seeing?\n",
    "\n",
    "The polynomial fit is able to follow the datapoints very well, thus obtaining a low training error. The chart at the top shows the X and y data, and the curve that our polynomial linear regression algorithm has \"fitted\" to the data. We can see that the fitted curve is a really good fit to the training data - which is why, on the bottom chart (the learning curve) we can see that the training error (blue line) essentially stays zero for all numbers of training samples.\n",
    "\n",
    "We can also see, however, that the polynomial fit is very complex and even drops off at the extremes. This is an indicator that the polynomial regression model is overfitting the training data and will not generalize well. If we look at the cross-validation error, we can see that the cross validation error is high. There is a large gap between the training and cross validation errors, indicating a high variance problem - i.e. the fitted curve **overfits** the training data - and hence performs poorly on the cross-validation data."
   ]
  },
  {
   "cell_type": "markdown",
   "metadata": {},
   "source": [
    "### 3.2 Adjusting the regularization parameter\n",
    "\n",
    "One way to combat the overfitting (high-variance) problem is to add regularization to the model. We can try different values for the $\\lambda$ parameter to see how regularization can lead to a better model - by coming to different trade-offs between bias and variance.\n",
    "\n",
    "To see this, we can modify the value we choose for the lambda parameter -  try $\\lambda$ = 1, and 100. For each of these values, our code will generate a chart showing the polynomial fit to the data, and a chart showing the learning curve.\n",
    "\n",
    "For $\\lambda = 1$, the generated plots should look like the the charts below. We can see a polynomial fit that follows the data trend well (left) and a learning curve (right) showing that both the cross-validation and training error converge to a relatively low value. This shows the $\\lambda = 1$ regularized polynomial regression model does not have high-bias or high-variance problems. In effect, it achieves a good trade-off between bias and variance.\n",
    "\n",
    "<table>\n",
    "    <tr>\n",
    "        <td><img src=\"Figures/polynomial_regression_reg_1.png\"></td>\n",
    "        <td><img src=\"Figures/polynomial_learning_curve_reg_1.png\"></td>\n",
    "    </tr>\n",
    "</table>"
   ]
  },
  {
   "cell_type": "markdown",
   "metadata": {},
   "source": [
    "For $\\lambda = 100$, shown in the chart below, we can see a polynomial fit that does not follow the data well. In this case, there is too much regularization and the model is unable to fit the training data.\n",
    "\n",
    "![](Figures/polynomial_regression_reg_100.png)"
   ]
  },
  {
   "cell_type": "markdown",
   "metadata": {},
   "source": [
    "### 3.3 Selecting $\\lambda$ using a cross validation set\n",
    "\n",
    "From the previous parts of the exercise, we saw that the value of $\\lambda$ can significantly affect the results of regularized polynomial regression on the training and cross validation set.\n",
    "\n",
    "In particular, a model without regularization ($\\lambda = 0$) fits the training set well, but does not generalize. Conversely, a model with too much regularization ($\\lambda = 100$) does not fit the training set and testing set well. A good choice of $\\lambda$ (e.g., $\\lambda = 1$) can provide a good fit to the data.\n",
    "\n",
    "In this section, we will implement an automated method to select the optimum $\\lambda$ parameter. We will use a cross-validation set to evaluate how good each $\\lambda$ value is.\n",
    "\n",
    "After selecting the best $\\lambda$ value using the cross-validation set, we can then evaluate the model on the test set to estimate how well the model will perform on further unseen data (the test set).\n",
    "\n",
    "Our task is to complete the code in the function `validationCurve()`. We are asked to use the `utils.trainLinearReg()` function (supplied in the code distribution) to train the model using different values of $\\lambda$ and compute the training error and cross validation error.\n",
    "\n",
    "We are directed to try $\\lambda$ in the following range: [0, 0.001, 0.003, 0.01, 0.03, 0.1, 0.3, 1, 3, 10]."
   ]
  },
  {
   "cell_type": "code",
   "execution_count": 18,
   "metadata": {
    "collapsed": true
   },
   "outputs": [],
   "source": [
    "def validationCurve(X, y, Xval, yval):\n",
    "    \"\"\"\n",
    "    Generate the train and validation errors needed to plot a validation\n",
    "    curve that we can use to select lambda_.\n",
    "    \n",
    "    Parameters\n",
    "    ----------\n",
    "    X : array_like\n",
    "        The training dataset. Matrix with shape (m x n) where m is the \n",
    "        total number of training examples, and n is the number of features \n",
    "        including any polynomial features.\n",
    "    \n",
    "    y : array_like\n",
    "        The function's values at each training datapoint. A vector of\n",
    "        shape (m, ).\n",
    "    \n",
    "    Xval : array_like\n",
    "        The validation dataset. Matrix with shape (m_val x n) where m is the \n",
    "        total number of validation examples, and n is the number of features \n",
    "        including any polynomial features.\n",
    "    \n",
    "    yval : array_like\n",
    "        The function's values at each validation datapoint. A vector of\n",
    "        shape (m_val, ).\n",
    "    \n",
    "    Returns\n",
    "    -------\n",
    "    lambda_vec : list\n",
    "        The values of the regularization parameters which were used in \n",
    "        cross-validation.\n",
    "    \n",
    "    training_error : numpy array\n",
    "        The training error computed at each value for the regularization\n",
    "        parameter.\n",
    "    \n",
    "    validation_error : numpy array\n",
    "        The validation error computed at each value for the regularization\n",
    "        parameter.\n",
    "    \n",
    "    Instructions\n",
    "    ------------\n",
    "    Fill in this function to return training errors in `error_train` and\n",
    "    the validation errors in `error_val`. The vector `lambda_vec` contains\n",
    "    the different lambda parameters to use for each calculation of the\n",
    "    errors, i.e, `error_train[i]`, and `error_val[i]` should give you the\n",
    "    errors obtained after training with `lambda_ = lambda_vec[i]`.\n",
    "\n",
    "    Note\n",
    "    ----\n",
    "    You can loop over lambda_vec with the following:\n",
    "    \n",
    "          for i in range(len(lambda_vec))\n",
    "              lambda = lambda_vec[i]\n",
    "              # Compute train / val errors when training linear \n",
    "              # regression with regularization parameter lambda_\n",
    "              # You should store the result in error_train[i]\n",
    "              # and error_val[i]\n",
    "              ....\n",
    "    \"\"\"\n",
    "    # Selected values of lambda\n",
    "    lambda_vec = [0, 0.001, 0.003, 0.01, 0.03, 0.1, 0.3, 1, 3, 10]\n",
    "\n",
    "    # Initialize two lists to hold training and validation errors\n",
    "    training_error_list = []\n",
    "    validation_error_list = []\n",
    "\n",
    "    # Loop over selected values of lambda and calculate training and validation errors\n",
    "    for lambda_ in lambda_vec:\n",
    "        # calculate optimum theta parameters        \n",
    "        theta = utils.trainLinearReg(linearRegCostFunction, X, y,\n",
    "                             lambda_=lambda_, maxiter=55)\n",
    "        # calculate training and validation errors - with value of lambda = 0\n",
    "        lambda2 = 0\n",
    "        training_error, grad = linearRegCostFunction(X, y, theta, lambda2)\n",
    "        validation_error, grad = linearRegCostFunction(Xval, yval, theta, lambda2)\n",
    "        \n",
    "        # Append training and validation errors to our lists\n",
    "        training_error_list.append(training_error)\n",
    "        validation_error_list.append(validation_error)\n",
    "    \n",
    "    #print(\"training_error_list is {}\".format(training_error_list))\n",
    "    #print(\"validation_error_list is {}\".format(validation_error_list))\n",
    "    \n",
    "    # Convert lists to numpy arrays\n",
    "    training_error = np.array(training_error_list)\n",
    "    #print(\"training_error is:\")\n",
    "    #print(training_error)\n",
    "    validation_error = np.array(validation_error_list)\n",
    "    #print(\"validation_error is:\")\n",
    "    #print(validation_error)\n",
    "    \n",
    "    return lambda_vec, training_error, validation_error"
   ]
  },
  {
   "cell_type": "markdown",
   "metadata": {},
   "source": [
    "OK, let's try a test case from the course's forum"
   ]
  },
  {
   "cell_type": "code",
   "execution_count": 19,
   "metadata": {},
   "outputs": [
    {
     "name": "stdout",
     "output_type": "stream",
     "text": [
      "lambda\t\tTrain Error\tValidation Error\n",
      " 0.000000\t0.225000\t12.025000\n",
      " 0.001000\t0.225000\t12.015215\n",
      " 0.003000\t0.225001\t11.995666\n",
      " 0.010000\t0.225012\t11.927501\n",
      " 0.030000\t0.225108\t11.734882\n",
      " 0.100000\t0.226163\t11.084967\n",
      " 0.300000\t0.234692\t9.419011\n",
      " 1.000000\t0.309028\t5.295139\n",
      " 3.000000\t0.650391\t0.900389\n",
      " 10.000000\t1.569444\t2.247222\n"
     ]
    }
   ],
   "source": [
    "# initialize the test case's values\n",
    "X_test2 = np.array([[1, 2], [1, 3], [1, 4], [1, 5]])\n",
    "y_test2 = np.array([8, 7, 3, 2])\n",
    "Xval_test2 = np.array([[1, 7], [1, -2]])\n",
    "yval_test2 = np.array([2,12])\n",
    "\n",
    "# call validationCurve() function\n",
    "lambda_vec, error_train, error_val = validationCurve(X_test2, y_test2, Xval_test2, yval_test2)\n",
    "print('lambda\\t\\tTrain Error\\tValidation Error')\n",
    "for i in range(len(lambda_vec)):\n",
    "    print(' %f\\t%f\\t%f' % (lambda_vec[i], error_train[i], error_val[i]))"
   ]
  },
  {
   "cell_type": "markdown",
   "metadata": {},
   "source": [
    "OK, that matches what I was expecting."
   ]
  },
  {
   "cell_type": "markdown",
   "metadata": {},
   "source": [
    "Now let's run our function and plot a cross validation curve of error v.s. $\\lambda$ that allows you select the optimum $\\lambda$ parameter to use."
   ]
  },
  {
   "cell_type": "code",
   "execution_count": 20,
   "metadata": {},
   "outputs": [
    {
     "name": "stdout",
     "output_type": "stream",
     "text": [
      "lambda\t\tTrain Error\tValidation Error\n",
      " 0.000000\t0.144071\t17.645756\n",
      " 0.001000\t0.129075\t11.803271\n",
      " 0.003000\t0.171756\t16.370695\n",
      " 0.010000\t0.220983\t17.017624\n",
      " 0.030000\t0.281950\t12.819507\n",
      " 0.100000\t0.459319\t7.587007\n",
      " 0.300000\t0.921782\t4.636756\n",
      " 1.000000\t2.076198\t4.260605\n",
      " 3.000000\t4.901380\t3.822917\n",
      " 10.000000\t16.092273\t9.945554\n"
     ]
    },
    {
     "data": {
      "image/png": "[encoded data removed]",
      "text/plain": [
       "<matplotlib.figure.Figure at 0x114c16470>"
      ]
     },
     "metadata": {},
     "output_type": "display_data"
    }
   ],
   "source": [
    "lambda_vec, error_train, error_val = validationCurve(X_poly, y, X_poly_val, yval)\n",
    "\n",
    "plt.plot(lambda_vec, error_train, '-o', lambda_vec, error_val, '-o', lw=2)\n",
    "plt.legend(['Train', 'Cross Validation'])\n",
    "plt.xlabel('lambda')\n",
    "plt.ylabel('Error')\n",
    "\n",
    "print('lambda\\t\\tTrain Error\\tValidation Error')\n",
    "for i in range(len(lambda_vec)):\n",
    "    print(' %f\\t%f\\t%f' % (lambda_vec[i], error_train[i], error_val[i]))"
   ]
  },
  {
   "cell_type": "markdown",
   "metadata": {},
   "source": [
    "Looking at the chart, we can see that the best value of $\\lambda$ is around 3. Due to randomness in the training and validation splits of the dataset, the cross validation error can sometimes be lower than the training error."
   ]
  },
  {
   "cell_type": "markdown",
   "metadata": {},
   "source": [
    "### 3.4  Computing test set error\n",
    "\n",
    "Right, we've now written (well, adapted) our function to calculate the cross validation error for various values of the regularization parameter $\\lambda$.\n",
    "\n",
    "Based on that, we've selected an optimal value for $\\lambda$ of around 3.\n",
    "\n",
    "However, to better understand of the model’s performance in the real world, we still need to evaluate the “final” model  - including our selected value of $\\lambda$ on a test set that was not used in any part of training (that is, it was neither used to select the $\\lambda$ parameters, nor to learn the model parameters $\\theta$).\n",
    "\n",
    "So we will now compute the test error using the best value of $\\lambda$ you found.\n",
    "\n",
    "In our cross validation, we obtained a test error of 3.822 for $\\lambda = 3$, so we'll use 3."
   ]
  },
  {
   "cell_type": "code",
   "execution_count": 21,
   "metadata": {
    "collapsed": true
   },
   "outputs": [],
   "source": [
    "lambda_ = 3"
   ]
  },
  {
   "cell_type": "markdown",
   "metadata": {},
   "source": [
    "First we will calculate the optimum values of theta, applied to our polynomial test data set `X_poly_test` - which we normalized above:"
   ]
  },
  {
   "cell_type": "code",
   "execution_count": 22,
   "metadata": {
    "collapsed": true
   },
   "outputs": [],
   "source": [
    "theta = utils.trainLinearReg(linearRegCostFunction, X_poly_test, ytest, lambda_, maxiter=55)"
   ]
  },
  {
   "cell_type": "markdown",
   "metadata": {},
   "source": [
    "Then we calculate the cost of the fitted linear regression model, with these values of theta:"
   ]
  },
  {
   "cell_type": "code",
   "execution_count": 23,
   "metadata": {},
   "outputs": [
    {
     "name": "stdout",
     "output_type": "stream",
     "text": [
      "test_error is 8.88413175032396\n"
     ]
    }
   ],
   "source": [
    "test_error, grad = linearRegCostFunction(X_poly_test, ytest, theta, lambda_)\n",
    "print(\"test_error is {}\".format(test_error))"
   ]
  },
  {
   "cell_type": "markdown",
   "metadata": {},
   "source": [
    "Finally, let's plot our selected linear regression function, applied to the test data:"
   ]
  },
  {
   "cell_type": "code",
   "execution_count": 24,
   "metadata": {},
   "outputs": [
    {
     "data": {
      "text/plain": [
       "(-20, 50)"
      ]
     },
     "execution_count": 24,
     "metadata": {},
     "output_type": "execute_result"
    },
    {
     "data": {
      "image/png": "[encoded data removed]",
      "text/plain": [
       "<matplotlib.figure.Figure at 0x114cdb898>"
      ]
     },
     "metadata": {},
     "output_type": "display_data"
    }
   ],
   "source": [
    "plt.plot(Xtest, ytest, 'ro', ms=10, mew=1.5, mec='k')\n",
    "\n",
    "utils.plotFit(polyFeatures, np.min(Xtest), np.max(Xtest), mu, sigma, theta, p)\n",
    "\n",
    "plt.xlabel('Change in water level (x)')\n",
    "plt.ylabel('Water flowing out of the dam (y)')\n",
    "plt.title('Polynomial Regression Fit (lambda = %f)' % lambda_)\n",
    "plt.ylim([-20, 50])"
   ]
  },
  {
   "cell_type": "markdown",
   "metadata": {},
   "source": [
    "So, how do we interpret this? Well\n",
    "- We can see from the chart that our line has a reasonable fit with the test data - there are not too many outliers; and our line doesn't move around all over the place as it would if we were *over-fitting* the data to any major degree.\n",
    "- Our total error of 8.9 isn't *very high* - though, to be honest with you, I think it would be valuable to have a more robust statistical definition of what constitutes an acceptable error"
   ]
  },
  {
   "cell_type": "markdown",
   "metadata": {},
   "source": [
    "### 3.5 Plotting learning curves with randomly selected examples\n",
    "\n",
    "In practice, especially for small training sets, when we plot learning curves to debug our algorithms, it is often helpful to average across multiple sets of randomly selected examples to determine the training error and cross validation error.\n",
    "\n",
    "Concretely, to determine the training error and cross validation error for $i$ examples, we need to first randomly select $i$ examples from the training set and $i$ examples from the cross validation set. We can then learn the $\\theta$ parameters using the randomly chosen training set and evaluate them on the randomly chosen training set and cross validation set. These steps are then repeated multiple times (say 50) and the averaged error calculated and used to determine the training error and cross validation error for *i* examples.\n",
    "\n",
    "I'm going to admit, my solution for this is a bit *hacky*, e.g.:\n",
    "- I mix up using numpy arrays and pandas DataFrames - mostly because I'm not an expert in using numpy, and find pandas a bit more intuitive\n",
    "- My solution contains two nested for-loops, which I find acceptable over the very simple dataset we're dealing with here; but won't give good performance on million-item datasets; or million-feature datasets."
   ]
  },
  {
   "cell_type": "code",
   "execution_count": 25,
   "metadata": {},
   "outputs": [
    {
     "data": {
      "text/plain": [
       "<matplotlib.legend.Legend at 0x114fb0470>"
      ]
     },
     "execution_count": 25,
     "metadata": {},
     "output_type": "execute_result"
    },
    {
     "data": {
      "image/png": "[encoded data removed]",
      "text/plain": [
       "<matplotlib.figure.Figure at 0x114d76898>"
      ]
     },
     "metadata": {},
     "output_type": "display_data"
    }
   ],
   "source": [
    "# Set the number of iterations (e.g. 50)\n",
    "iterations = 50\n",
    "\n",
    "# Set the number of random examples to choose (i - say 8 out of 12?)\n",
    "num_examples = 8\n",
    "\n",
    "# set lambda_\n",
    "lambda_ = 0.01\n",
    "\n",
    "# Instantiate two Pandas DataFrames to store our results\n",
    "# NB we will need to drop the initial column of zeros...\n",
    "# ...before calculating the average\n",
    "error_train_df = pd.DataFrame(np.zeros((num_examples, 1)))\n",
    "error_val_df = pd.DataFrame(np.zeros((num_examples, 1)))\n",
    "\n",
    "# Iterate over our number of iterations\n",
    "for iteration in range(iterations):\n",
    "    # Extract **the same** randomly selected i rows from X_train_poly, y, X_val_poly, yval\n",
    "    # randomly choose i indices\n",
    "    random_train = random.sample(range(0, len(y)), num_examples)\n",
    "    # instantiate new arrays to hold our randomly selected rows\n",
    "    X_poly_subset = np.zeros((len(random_train), X_poly.shape[1]))\n",
    "    y_subset = np.zeros(len(random_train))\n",
    "    X_poly_val_subset = np.zeros((len(random_train), X_poly_val.shape[1]))\n",
    "    y_val_subset = np.zeros(len(random_train))\n",
    "    # iterate over our arrays and extract our randomly chosen i rows into the new arrays\n",
    "    for i in range(len(random_train)):\n",
    "        X_poly_subset[i] = X_poly[random_train[i]].copy()\n",
    "        y_subset[i] = y[random_train[i]].copy()\n",
    "        X_poly_val_subset[i] = X_poly_val[random_train[i]].copy()\n",
    "        y_val_subset[i] = yval[random_train[i]].copy()\n",
    "\n",
    "    # Calculate the learning curve for the randomly selected i rows\n",
    "    error_train, error_val = learningCurve(X_poly_subset, y_subset, X_poly_val_subset, y_val_subset, lambda_=lambda_)\n",
    "    \n",
    "    # Store the results in our pandas DataFrames\n",
    "    error_train_Series = pd.Series(error_train, name = iteration+1)\n",
    "    error_train_df = pd.concat([error_train_df, error_train_Series], axis = 1)\n",
    "\n",
    "    error_val_Series = pd.Series(error_val, name = iteration+1)\n",
    "    error_val_df = pd.concat([error_val_df, error_val_Series], axis = 1)\n",
    "    \n",
    "# Drop the initial column of zeros from our DataFrames\n",
    "error_train_df = error_train_df.drop([0], axis = 1)\n",
    "error_val_df = error_val_df.drop([0], axis = 1)\n",
    "\n",
    "# Calculate the average of all iterations\n",
    "error_train_df['average'] = error_train_df.mean(axis=1)\n",
    "error_val_df['average'] = error_val_df.mean(axis=1)\n",
    "\n",
    "# Plot the learning curve chart based on these averages\n",
    "plt.figure()\n",
    "plt.plot(np.arange(1, 1+num_examples), error_train_df['average'], np.arange(1, 1+num_examples), error_val_df['average'])\n",
    "plt.title('Polynomial Regression Learning Curve with {} iterations over {} randomly selected data points,(lambda = {})'.format(iterations, num_examples, lambda_))\n",
    "plt.xlabel('Number of training examples')\n",
    "plt.ylabel('Error')\n",
    "plt.axis([0, num_examples, 0, error_val_df['average'].max()])\n",
    "plt.legend(['Training', 'Cross Validation'])\n"
   ]
  }
 ],
 "metadata": {
  "kernelspec": {
   "display_name": "Python 3",
   "language": "python",
   "name": "python3"
  },
  "language_info": {
   "codemirror_mode": {
    "name": "ipython",
    "version": 3
   },
   "file_extension": ".py",
   "mimetype": "text/x-python",
   "name": "python",
   "nbconvert_exporter": "python",
   "pygments_lexer": "ipython3",
   "version": "3.6.1"
  }
 },
 "nbformat": 4,
 "nbformat_minor": 2
}
