{
 "cells": [
  {
   "cell_type": "markdown",
   "metadata": {},
   "source": [
    "# Andrew Ng's Machine Learning MOOC: Week 5: Neural Networks - Part II\n",
    "\n",
    "# Programming Exercise 4\n",
    "\n",
    "## 0. Introduction\n",
    "This notebook contains my solutions to the programming exercise for week 5 of Andrew Ng's famous Machine Learning MOOC on Coursera (https://www.coursera.org/learn/machine-learning). \n",
    "\n",
    "In this exercise, we are asked to implement the back-propogation algorithm to \"train\" a relatively simple neural network to correctly classify a set of images represeting hand-written digits.\n",
    "\n",
    "Our network will consist of:\n",
    "- 400 input layers (to match 400 *features* in the input data)\n",
    "- 25 hidden layers\n",
    "- 10 output layers (to match 10 possible classes the inputs could belong to)\n",
    "\n",
    "We implemented the feed-forward part of the neural network last week (see the notebook for Exercise 3 / week 4).\n",
    "\n",
    "Now, the course requires submission of programming exercises in either the MATLAB or OCTAVE programming language.\n",
    "\n",
    "However since:\n",
    "* I already code in Python for various web development and data science projects, and\n",
    "* Python is the pre-eminent language currently used in data science and machine learning (and MATLAB and OCTAVE don't seem to be used anywhere near as much)\n",
    "\n",
    "I decided it would be more valuable to me to use Python to complete the programming exercises.\n",
    "\n",
    "I was therefore very pleased to find the following source, which has kindly written a set of python scripts to allow one to create Python implementations of the programming exercises for the course, and still submit them for scoring by the MOOC:\n",
    "https://github.com/dibgerge/ml-coursera-python-assignments\n",
    "\n",
    "**Thanks very much <i>dibgerge!</i>**\n",
    "\n",
    "\n",
    "In addition to the course's own lecture materials, I also used a number of other sources to help me solve the programming exercises. These include:\n",
    "\n",
    "### Other courses I've completed:\n",
    "* Harvard's Using Python for Research on edX: https://www.edx.org/course/using-python-for-research\n",
    "* UC San Diego's Python for Data Science, also on edX: https://www.edx.org/course/python-for-data-science-2\n",
    "* MIT's Introduction to Computational Thinking and Data Science I and II, also on edX: https://www.edx.org/course/introduction-to-computational-thinking-and-data-4\n",
    "* Imperial College London's Mathematics for Machine Learning I-III on Coursera: https://www.coursera.org/specializations/mathematics-machine-learning\n",
    "\n",
    "### Books:\n",
    "* Python Machine Learning by Sebastian Raschka and Vahid Mirjalili: https://sebastianraschka.com/books.html\n",
    "\n",
    "\n",
    "### Blogs and websites\n",
    "I found this blog a very useful reference:\n",
    "* https://www.johnwittenauer.net/machine-learning-exercises-in-python-part-5/\n",
    "\n",
    "And of course, there's always StackOverflow!\n",
    "\n",
    "One thing that struck me, looking at all of these different resources, is how many different ways there are to implement basically the same code in python, even using numpy and pandas dataframes! And that's before we think about object-oriented implementations, or using libraries such as scikitlearn.\n",
    "\n",
    "OK, now that the introduction is complete, let's get started with some imports.\n",
    "You can find instructions on how to install required libraries in the README file in *dibgerge*'s  [github repository](https://github.com/dibgerge/ml-coursera-python-assignments)."
   ]
  },
  {
   "cell_type": "code",
   "execution_count": 8,
   "metadata": {
    "collapsed": true
   },
   "outputs": [],
   "source": [
    "# used for manipulating directory paths\n",
    "import os\n",
    "\n",
    "# system-specific parameters and functions\n",
    "import sys\n",
    "\n",
    "# Scientific and vector computation for python\n",
    "import numpy as np\n",
    "\n",
    "# Plotting library\n",
    "from matplotlib import pyplot\n",
    "\n",
    "# Optimization module in scipy\n",
    "from scipy import optimize\n",
    "\n",
    "# will be used to load MATLAB mat datafile format\n",
    "from scipy.io import loadmat\n",
    "\n",
    "# will be used to separate our data into \"training\" and \"testing\" sub-sets\n",
    "from sklearn.model_selection import train_test_split\n",
    "\n",
    "# chart plotting library\n",
    "import matplotlib.pyplot as plt\n",
    "\n",
    "# library written for this exercise providing additional functions for assignment submission, and others\n",
    "import utils\n",
    "\n",
    "# define the submission/grader object for this exercise\n",
    "grader = utils.Grader()\n",
    "\n",
    "# tells matplotlib to embed plots within the notebook\n",
    "%matplotlib inline"
   ]
  },
  {
   "cell_type": "markdown",
   "metadata": {},
   "source": [
    "## 1. Functional Implementation of the Neural Network\n",
    "\n",
    "Last week, in exercise 3, we implemented feedforward propagation for neural networks and used it to predict handwritten digits with weights provided by the course.\n",
    "\n",
    "In this exercise, we will implement the backpropagation algorithm to learn the parameters for the neural network.\n",
    "\n",
    "We start the exercise by first loading the dataset. "
   ]
  },
  {
   "cell_type": "code",
   "execution_count": 9,
   "metadata": {
    "collapsed": true
   },
   "outputs": [],
   "source": [
    "#  training data stored in arrays X, y\n",
    "data = loadmat(os.path.join('Data', 'ex4data1.mat'))\n",
    "X, y = data['X'], data['y'].ravel()\n",
    "\n",
    "# set the zero digit to 0, rather than its mapped 10 in this dataset\n",
    "# This is an artifact due to the fact that this dataset was used in \n",
    "# MATLAB where there is no index 0\n",
    "y[y == 10] = 0\n",
    "\n",
    "# Number of training examples\n",
    "m = y.size"
   ]
  },
  {
   "cell_type": "markdown",
   "metadata": {},
   "source": [
    "### 1.1 Visualizing the data\n",
    "\n",
    "There are 5000 training examples in `ex4data1.mat`, where each training example is a 20 pixel by 20 pixel grayscale image of the digit. Each pixel is represented by a floating point number indicating the grayscale intensity at that location. The 20 by 20 grid of pixels is “unrolled” into a 400-dimensional vector. Each\n",
    "of these training examples becomes a single row in our data matrix $X$. This gives us a 5000 by 400 matrix $X$ where every row is a training example for a handwritten digit image.\n",
    "\n",
    "$$ X = \\begin{bmatrix} - \\left(x^{(1)} \\right)^T - \\\\\n",
    "- \\left(x^{(2)} \\right)^T - \\\\\n",
    "\\vdots \\\\\n",
    "- \\left(x^{(m)} \\right)^T - \\\\\n",
    "\\end{bmatrix}\n",
    "$$\n",
    "\n",
    "The second part of the training set is a 5000-dimensional vector `y` that contains labels for the training set. \n",
    "\n",
    "The following cell randomly selects 100 images from the `X` dataset and plots them, using a funcgtion `displayData()` provided by the course."
   ]
  },
  {
   "cell_type": "code",
   "execution_count": 10,
   "metadata": {},
   "outputs": [
    {
     "data": {
      "image/png": "[encoded data removed]",
      "text/plain": [
       "<matplotlib.figure.Figure at 0x10ee8e1d0>"
      ]
     },
     "metadata": {},
     "output_type": "display_data"
    }
   ],
   "source": [
    "# Randomly select 100 data points to display\n",
    "rand_indices = np.random.choice(m, 100, replace=False)\n",
    "sel = X[rand_indices, :]\n",
    "\n",
    "utils.displayData(sel)"
   ]
  },
  {
   "cell_type": "markdown",
   "metadata": {},
   "source": [
    "### 1.2 Model representation\n",
    "\n",
    "Our neural network is shown in the following figure.\n",
    "\n",
    "![](Figures/neural_network.png)\n",
    "\n",
    "It has 3 layers - an input layer, a hidden layer and an output layer. Recall that our inputs are pixel values\n",
    "of digit images. Since the images are of size $20 \\times 20$, this gives us 400 input layer units (not counting the extra bias unit which always outputs +1). The training data was loaded into the variables `X` and `y` above.\n",
    "\n",
    "The course provides us with a pre-trained initial set of network parameters ($\\Theta^{(1)}, \\Theta^{(2)}$). These are stored in `ex4weights.mat` and will be loaded in the next cell of this notebook into `Theta1` and `Theta2`. The parameters have dimensions that are sized for a neural network with 25 units in the second layer and 10 output units (corresponding to the 10 digit classes)."
   ]
  },
  {
   "cell_type": "code",
   "execution_count": 11,
   "metadata": {
    "collapsed": true
   },
   "outputs": [],
   "source": [
    "# Setup the parameters you will use for this exercise\n",
    "input_layer_size  = 400  # 20x20 Input Images of Digits\n",
    "hidden_layer_size = 25   # 25 hidden units\n",
    "num_labels = 10          # 10 labels, from 0 to 9\n",
    "\n",
    "# Load the weights into variables Theta1 and Theta2\n",
    "weights = loadmat(os.path.join('Data', 'ex4weights.mat'))\n",
    "\n",
    "# Theta1 has size 25 x 401\n",
    "# Theta2 has size 10 x 26\n",
    "Theta1, Theta2 = weights['Theta1'], weights['Theta2']\n",
    "\n",
    "# swap first and last columns of Theta2, due to legacy from MATLAB indexing, \n",
    "# since the weight file ex3weights.mat was saved based on MATLAB indexing\n",
    "Theta2 = np.roll(Theta2, 1, axis=0)\n",
    "\n",
    "# Unroll parameters \n",
    "nn_params = np.concatenate([Theta1.ravel(), Theta2.ravel()])"
   ]
  },
  {
   "cell_type": "markdown",
   "metadata": {},
   "source": [
    "### 1.3 Feedforward or forward-propogation\n",
    "\n",
    "Overall, our task is to write a function or functions that:\n",
    "\n",
    "- implements feed-forward propogation and calculates (and returns) the cost $J$ of the neural network\n",
    "- implements back propogation, and calculates (and returns) the gradients of the cost $\\Delta(J)$\n",
    "\n",
    "Now we've loaded our data, let's start by implementing feedforward propagation for the neural network.\n",
    "\n",
    "To do this, we will write/complete the function `predict`, which will return the neural network’s prediction for a given set of inputs. Specifically, we need to implement the feedforward computation that computes $h_\\theta(x^{(i)})$ for every example $i$ and returns the associated predictions. Similar to the one-vs-all classification strategy, the prediction from the neural network will be the label that has the largest output $\\left( h_\\theta(x) \\right)_k$.\n",
    "\n",
    "Now, remember from lat week, there are some implementation choices to make - and I'm going to take a slightly different approach from the course's representational choices.  First of all, let's look at the shapes of our different data:"
   ]
  },
  {
   "cell_type": "code",
   "execution_count": 12,
   "metadata": {},
   "outputs": [
    {
     "data": {
      "text/plain": [
       "((5000, 400), (5000,), (25, 401), (10, 26))"
      ]
     },
     "execution_count": 12,
     "metadata": {},
     "output_type": "execute_result"
    }
   ],
   "source": [
    "X.shape, y.shape, Theta1.shape, Theta2.shape"
   ]
  },
  {
   "cell_type": "markdown",
   "metadata": {},
   "source": [
    "So, what are we seeing?\n",
    "- Well, $X$ is a [5000 x 400] matrix, representing 5,000 examples, each with 400 \"features\" - i.e. 5,000 different images of hand-written numbers, each with a value representing each of 400 pixels that make up the image. Every unit in the input represents a single pixel.\n",
    "- $y$ is a [5000-row] vector, representing the number that each image represents (from 0 to 9) - we can think of this as the \"target output\".\n",
    "- $\\Theta^1$ is a [25 x 401] matrix, with each row representing a unit in our hidden layer, and each column representing the weights for the connection between each of the 400 pixels in our input layer, and the 25 units in the hidden layer.\n",
    "-  $\\Theta^2$ is a [10 x 26] matrix, with each row representing a unit in our output layer, and each column representing the weights for the connection between each of the 25 hidden layer units and the 10 units in the output layer.\n",
    "\n",
    "***Wait, what?***\n",
    "\n",
    "If $\\Theta^1$ represents the weights of the connections between 400 input units, and 25 hidden layer units, how come its dimensions are [25 x **401**]?\n",
    "\n",
    "And if $\\Theta^2$ representes the weights of the connections between 25 hidden layer units and 10 output layer units, how come *its* dimensions are [10 X **26**]?\n",
    "\n",
    "Well, this comes down to a - *difference of opinion*? - in how to represent neural networks.\n",
    "\n",
    "All neural networks are built with a \"bias unit\" in each layer. Now, in this course, it seems we are to represent the bias unit as:\n",
    "- An additional column [of 1s] in the input data [the \"bias unit\" always outputs 1]\n",
    "- An additional column of weights between each layer - with the final column of weights acting on the bias unit.\n",
    "\n",
    "However, other sources (e.g. Imperial's *Mathematics for Machine Learning* (course)[https://www.coursera.org/specializations/mathematics-machine-learning]) represent things differently. Imagine a really simple neural network with only two nodes. They represent the *net input* from the node in layer 0 to the node in layer 1 as:\n",
    "\n",
    "$$a^1 = w^0.a^0 + b$$\n",
    "\n",
    "The output (or \"activity\") of $a^1$ is then\n",
    "\n",
    "$$\\sigma(a^1)$$which is to say $$\\sigma(w_0.a_0 + b)$$\n",
    "\n",
    "If we add a second node to the layer0, we get\n",
    "\n",
    "$$a^1 = \\sigma(w_0.a_0^0 + b) + \\sigma(w_1.a_1^0 + b)$$\n",
    "\n",
    "Re-arranging, we get:\n",
    "\n",
    "$$a^1 = \\sigma(w_0.a_0^0 + w_1.a_1^0+ b)$$\n",
    "\n",
    "Which is to say:\n",
    "\n",
    "$$a^1 = \\sigma(W^1.a^0 + b^1)$$\n",
    "\n",
    "where:\n",
    "- $W^1$ is the matrix of weights between units in layer 0 to units layer 1\n",
    "- $a^0$ is the vector of inputs coming out of layer 0\n",
    "- $b^1$ is the vector of biases for the inputs into each unit in layer 1 [**Note** the biases are the same for each unit in layer 1]\n",
    "\n",
    "Below, when I create an object-oriented implementation of this neural network, following the approach set out in *Raschka and Mirjalili*, we'll see that they follow this approach, too.\n",
    "\n",
    "Personally, I like this approach to representing neural networks, because:\n",
    "- The dimensions of each layer matches the dimensions of the layer preceeding it (e.g. our inputs are 400-columns wide; so I'd expect our weights to also be 400-columns wide...not 401). This means we don't need to add a column of 1s to our data before using it.\n",
    "- We can pull out the biases and weights into separate matrices/vectors and adjust them separately.\n",
    "\n",
    "Looking back at the way our data is represented, we can see that the course has added an additional column of weights to both sets of connections (i.e. between the input layer and the hidden layer; and between the hidden layer and the output layer). The approach suggested by the course is for us to add a column of 1s to our input data to represent the (output of the) bias units.\n",
    "\n",
    "Instead, I'd like to try representing the bias units as a set of vectors, which means that instead of adding a column of 1s to the input data, I'm going to *strip out* a column from each of the weights matrices (i.e. $\\Theta$ 1 and 2) and having them represent the biases.\n",
    "\n",
    "Based on last week, I'm going to assume that the bias vectors are encoded in column[0] of $\\Theta$ 1 and 2\n",
    "\n",
    "I'm going to break up the exercise into a few different functions that we can call within each other - otherwise we end up with a very long and difficult to interpret load of code!\n",
    "\n",
    "If I'm honest with everyone, I'm also going to lean heavily on the object-oriented implementation, from *Raschka and Mirjalili*, which I reproduce in section 2 below.\n",
    "\n",
    "First of all, we're going to need to \"one-hot\" encode our labels. One-hot encoding turns a class label `n` (out of `k` classes) into a vector of length `k` where index n is \"hot\" (represented by the value `1`) while the rest are zero. Scikit-learn has a built in utility we can use for this; but it's also easy to write our own function:"
   ]
  },
  {
   "cell_type": "code",
   "execution_count": 13,
   "metadata": {
    "collapsed": true
   },
   "outputs": [],
   "source": [
    "def onehot(y, n_classes):\n",
    "    \"\"\"\n",
    "    Encodes labels into one-hot representation\n",
    "\n",
    "    Parameters\n",
    "    ----------\n",
    "    y: array, shape = n_samples\n",
    "        Target values\n",
    "\n",
    "    Returns\n",
    "    -------\n",
    "    onehot: array, shape = [n_samples, n_labels]\n",
    "    \"\"\"\n",
    "    onehot = np.zeros((n_classes, y.shape[0]))\n",
    "    for idx, val in enumerate(y.astype(int)):\n",
    "        onehot[val, idx] = 1\n",
    "    return onehot.T"
   ]
  },
  {
   "cell_type": "markdown",
   "metadata": {},
   "source": [
    "Now we need to define our forward-propogation algorithm. We're going to take advantage of the supplied `utils.sigmoid()` function - but we could easily define this for ourselves - see last week's exercise for details.\n",
    "\n",
    "**Note** that in this function we explicitly separate the weights from the bias units - so we're going to need to be very careful in pulling these out - and then putting them back together again for the final outputs."
   ]
  },
  {
   "cell_type": "code",
   "execution_count": 14,
   "metadata": {
    "collapsed": true
   },
   "outputs": [],
   "source": [
    "def forward_propogate(X, w_hidden, b_hidden, w_output, b_output):\n",
    "    \"\"\"\n",
    "    Computes forward-propogation step\n",
    "    \n",
    "    Parameters\n",
    "    ----------\n",
    "    X: array-like, shape = [n_samples x n_features]\n",
    "        Input data\n",
    "        \n",
    "    w_hidden: matrix, shape = [n_features x n_hidden]\n",
    "        vector of weights of connections between\n",
    "        the input data layer and the hidden layer\n",
    "        \n",
    "    b_hidden: vector, shape = [n_hidden]\n",
    "        vector of weights between bias unit in input layer\n",
    "        and each unit in hidden layer\n",
    "        \n",
    "    w_output: matrix, shape = [n_hidden x n_classlabels]\n",
    "        vector of weights of connections between\n",
    "        the hidden layer and output layer\n",
    "        \n",
    "    b_output: vector, shape = [n_output]\n",
    "        vector of weights between bias unit in hidden layer\n",
    "        and each unit in output layer\n",
    "        \n",
    "    Returns\n",
    "    -------\n",
    "    z_hidden: array, shape = [n_samples x n_hidden]\n",
    "        net input to hidden layer\n",
    "    \n",
    "    a_hidden: array, shape = [n_samples x n_hidden]\n",
    "        activation of hidden layer\n",
    "    \n",
    "    z_output: array, shape = [n_samples, n_classlables]\n",
    "        net input to output layer\n",
    "    \n",
    "    a_output: array, shape = []\n",
    "        activation of output layer\n",
    "    \"\"\"\n",
    "    # step 1: calculate net input to hidden layer\n",
    "    # [n_samples, n_features] dot [n_features, n_hidden]\n",
    "    # --> [n_samples, n_hidden]\n",
    "    z_hidden = np.dot(X, w_hidden.T) + b_hidden\n",
    "\n",
    "    # step 2: calculate activation of hidden layer\n",
    "    a_hidden = utils.sigmoid(z_hidden)\n",
    "\n",
    "    # step 3: calculate net input to output layer\n",
    "    # [n_samples, n_hidden] dot [n_hidden, n_classlabels]\n",
    "    # --> [n_samples, n_classlables]\n",
    "    z_output = np.dot(a_hidden, w_output.T) + b_output\n",
    "\n",
    "    #step 4: calculate activation of output layer\n",
    "    a_output = utils.sigmoid(z_output)\n",
    "\n",
    "    return z_hidden, a_hidden, z_output, a_output"
   ]
  },
  {
   "cell_type": "markdown",
   "metadata": {},
   "source": [
    "### 1.4 Cost Function\n",
    "\n",
    "Now we define a function, `nnCostFunction`, that will return the cost $J(\\theta$) for all the nodes in our neural network (later we will also add the calculation of the gradients of all the nodes in the network with respect to the cost, to this function).\n",
    "\n",
    "I've gone straight to implementing the regularized version of this function. The function's default parameter for `lambda_`, however, is 0; so unless we specify something different, the function will return an unregularized result (because we'll multiply the regularization term by 0).\n",
    "\n",
    "The cost function for neural networks with regularization is given by:\n",
    "\n",
    "$$ J(\\theta) = \\frac{1}{m} \\sum_{i=1}^{m}\\sum_{k=1}^{K} \\left[ - y_k^{(i)} \\log \\left( \\left( h_\\theta \\left( x^{(i)} \\right) \\right)_k \\right) - \\left( 1 - y_k^{(i)} \\right) \\log \\left( 1 - \\left( h_\\theta \\left( x^{(i)} \\right) \\right)_k \\right) \\right] + \\frac{\\lambda}{2 m} \\left[ \\sum_{j=1}^{25} \\sum_{k=1}^{400} \\left( \\Theta_{j,k}^{(1)} \\right)^2 + \\sum_{j=1}^{10} \\sum_{k=1}^{25} \\left( \\Theta_{j,k}^{(2)} \\right)^2 \\right] $$\n",
    "\n",
    "Note also that the input parameter `nn_params` is an \"unrolled\" vector of all of the weights in Theta1 and Theta2, *including the bias terms*. The first step of this function is therefore to separate these weights into Theta1 and Theta2 and re-shape these into the appropriately-sized matrices. In particular, given the implementaton I've followed, we also need to separate out the bias terms."
   ]
  },
  {
   "cell_type": "markdown",
   "metadata": {},
   "source": [
    "### 1.5 Back-Propogation\n",
    "\n",
    "Now we implement the backpropagation algorithm to compute the gradient for the neural network cost function. We will include the code for this within our function  `nnCostFunction`, and return the gradient in the variable `grad`. Once we've computed the gradient, we can train the neural network by minimizing the cost function $J(\\theta)$ using an advanced optimizer such as `scipy`'s `optimize.minimize`.\n",
    "\n",
    "![](Figures/ex4-backpropagation.png)\n",
    "\n",
    "The intuition behind the backpropagation algorithm is as follows. Given a training example $(x^{(t)}, y^{(t)})$, we will first run a “forward pass” to compute all the activations throughout the network, including the output value of the hypothesis $h_\\theta(x)$. Then, for each node $j$ in layer $l$, we would like to compute an “error term” $\\delta_j^{(l)}$ that measures how much that node was “responsible” for any errors in our output.\n",
    "\n",
    "For an output node, we can directly measure the difference between the network’s activation and the true target value, and use that to define $\\delta_j^{(3)}$ (since layer 3 is the output layer). For the hidden units, we will compute $\\delta_j^{(l)}$ based on a weighted average of the error terms of the nodes in layer $(l+1)$.\n",
    "\n",
    "In detail, here is the backpropagation algorithm (also depicted in the figure above).\n",
    "\n",
    "1.Set the input layer’s values $(a^{(1)})$ to the $t^{th }$training example $x^{(t)}$. Perform a feedforward pass, computing the activations $(z^{(2)}, a^{(2)}, z^{(3)}, a^{(3)})$ for layers 2 and 3.\n",
    "\n",
    "\n",
    "\n",
    "2.For each output unit $k$ in layer 3 (the output layer), set \n",
    "$$\\delta_k^{(3)} = \\left(a_k^{(3)} - y_k \\right)$$\n",
    "where $y_k \\in \\{0, 1\\}$ indicates whether the current training example belongs to class $k$ $(y_k = 1)$, or if it belongs to a different class $(y_k = 0)$.\n",
    "\n",
    "\n",
    "\n",
    "3.For the hidden layer $l = 2$, set \n",
    "$$ \\delta^{(2)} = \\left( \\Theta^{(2)} \\right)^T \\delta^{(3)} * g'\\left(z^{(2)} \\right)$$\n",
    "(Note that the symbol $*$ performs element wise multiplication in `numpy`.)\n",
    "\n",
    "Here, $$ g'(z^{(2)}) $$\n",
    "\n",
    "is simply the derivative of the activation function, $z$ of layer 2 (i.e. the output layer).\n",
    "\n",
    "Now, the activation function is the sigmoid function:\n",
    "\n",
    "$$ \\text{sigmoid}(z) = g(z) = \\frac{1}{1 + e^{-z}} $$\n",
    "\n",
    "...and the derivative, or gradient of this function is:\n",
    "\n",
    "$$ g'(z) = \\frac{d}{dz} g(z) = g(z)\\left(1-g(z)\\right) $$\n",
    "\n",
    "\n",
    "\n",
    "4.Accumulate the gradients:\n",
    "$$ \\Delta^{(l)} = \\Delta^{(l)} + \\delta^{(l+1)} (a^{(l)})^{(T)} $$\n",
    "\n",
    "\n",
    "\n",
    "5.Obtain the gradient for the neural network cost function by dividing the accumulated gradients by $\\frac{1}{m}$:\n",
    "$$ \\frac{\\partial}{\\partial \\Theta_{ij}^{(l)}} J(\\Theta) = D_{ij}^{(l)} = \\frac{1}{m} \\Delta_{ij}^{(l)}$$\n",
    "\n",
    "\n",
    "6.Regularize the gradients **with the *exception* of the bias terms**, as defined below:\n",
    "\n",
    "$$ \\begin{align}\n",
    "& \\frac{\\partial}{\\partial \\Theta_{ij}^{(l)}} J(\\Theta) = D_{ij}^{(l)} = \\frac{1}{m} \\Delta_{ij}^{(l)} + \\frac{\\lambda}{m} \\Theta_{ij}^{(l)}\n",
    "\\end{align}\n",
    "$$"
   ]
  },
  {
   "cell_type": "markdown",
   "metadata": {},
   "source": [
    "### 1.5.1 Vectorized Implementation\n",
    "\n",
    "The explanation given above represents us calculating the gradients separately for each node in each layer. This is a useful way to explain what the algorithm is doing. And we can, in fact, complete the algorithm in this manner, by using a `for-loop` construction and looping over each node in turn - in fact, this is what the course suggests we should do.\n",
    "\n",
    "This, however, is **definitely not** the optimal way of doing things! A much better way of computing the gradients is to remember that each layer is a *matrix* of weights, and we can actually calculate the gradients much more quickly using linear algebra (i.e., multiplying the matrices together). Mathematically, this is represented as:\n",
    "\n",
    "\n",
    "- accumulate the gradients:\n",
    "\n",
    "$$ \\Delta^{(h)} = \\Delta^{(h)} + (A^{(out)})^{T}\\delta^{(h)}  $$\n",
    "\n",
    "\n",
    "$$ \\Delta^{(out)} = \\Delta^{(out)} + (A^{(h)})^{T}\\delta^{(out)}  $$\n",
    "\n",
    "\n",
    "- add the regularization term:\n",
    "\n",
    "$$ \\Delta^{(l)} := \\Delta^{(l)} + \\lambda^{(l)}  $$\n",
    "(*except for the bias term, which is not regularized*)\n",
    "\n",
    "\n",
    "Note: if the maths here is a bit tricky, I'd highly recommend the Imperial College *Mathematics for Machine Learning* courses - especially the first two on linear algebra and calculus. Links in the introduction.\n",
    "\n",
    "Not only is it much less expensive computationally to compute the gradients this way; it's also much simpler to code, as we can write this in a few lines, rather than having to run through error-prone `for-loops`."
   ]
  },
  {
   "cell_type": "markdown",
   "metadata": {},
   "source": [
    "### 1.5.2 Final steps to implementation\n",
    "\n",
    "Because of the way the course's approach (and grader) is structured, we need to return the gradients as a single vector *including the bias terms* - so that we can provide input to the grader for this exercise in the format it expects; and to be able to use `optimize.minimize`. That means that the final step in calculating the gradients of all the weights in the neural network will be to \"unroll\" them all back together into a single vector *including the bias terms*.\n",
    "\n",
    "Final note - given the way this exercise has been structured by the course, *we don't actually write the code to update the weights*. This is because we use the `optimize.minimize()` method from the `scipy` library to run a through a number (e.g. 100+) iterations of our code, and this updates the nn_params accordingly, based on the gradients we calculate. If you want to see how this could be done in our own code, look at the object-oriented version of the code that I've put at the bottom of this notebook in section 3.\n",
    "\n",
    "Before we start, however, there's something else we need to do - which is to randomize our initial \"guesses\" for the weights."
   ]
  },
  {
   "cell_type": "markdown",
   "metadata": {},
   "source": [
    "### 1.5.3 Random Initialization\n",
    "\n",
    "When training neural networks, it is important to randomly initialize the parameters for symmetry breaking. One effective strategy for random initialization is to randomly select values for $\\Theta^{(l)}$ uniformly in the range $[-\\epsilon_{init}, \\epsilon_{init}]$.\n",
    "\n",
    "<div class=\"alert alert-box alert-warning\">\n",
    "One effective strategy for choosing $\\epsilon_{init}$ is to base it on the number of units in the network. A good choice of $\\epsilon_{init}$ is $\\epsilon_{init} = \\frac{\\sqrt{6}}{\\sqrt{L_{in} + L_{out}}}$ where $L_{in} = s_l$ and $L_{out} = s_{l+1}$ are the number of units in the layers adjacent to $\\Theta^{l}$.\n",
    "</div>\n",
    "\n",
    "Our job is to complete the function `randInitializeWeights` to initialize the weights for $\\Theta$.\n",
    "\n",
    "```python\n",
    "# Randomly initialize the weights to small values\n",
    "W = np.random.rand(L_out, 1 + L_in) * 2 * epsilon_init - epsilon_init\n",
    "```\n",
    "\n",
    "We are told to use $\\epsilon_{init} = 0.12$ - note that we set this as the default value in our function. This range of values ensures that the parameters are kept small and makes the learning more efficient."
   ]
  },
  {
   "cell_type": "code",
   "execution_count": 15,
   "metadata": {
    "collapsed": true
   },
   "outputs": [],
   "source": [
    "def randInitializeWeights(L_in, L_out, epsilon_init=0.12):\n",
    "    \"\"\"\n",
    "    Randomly initialize the weights of a layer in a neural network.\n",
    "    \n",
    "    Parameters\n",
    "    ----------\n",
    "    L_in : int\n",
    "        Number of incomming connections.\n",
    "    \n",
    "    L_out : int\n",
    "        Number of outgoing connections. \n",
    "    \n",
    "    epsilon_init : float, optional\n",
    "        Range of values which the weight can take from a uniform \n",
    "        distribution.\n",
    "    \n",
    "    Returns\n",
    "    -------\n",
    "    W : array_like\n",
    "        The weight initialiatized to random values.  Note that W should\n",
    "        be set to a matrix of size(L_out, 1 + L_in) as\n",
    "        the first column of W represents the weights for the \"bias\" terms.\n",
    "    \"\"\"\n",
    "\n",
    "    # initialize a matrix to hold the weights \n",
    "    W = np.zeros((L_out, 1 + L_in))\n",
    "\n",
    "    # fill the matrix with randomly initialized numbers\n",
    "    W = np.random.rand(L_out, 1 + L_in) * 2 * epsilon_init - epsilon_init\n",
    "\n",
    "    ### CHECK DIMENSIONS ###\n",
    "    # print(\"W's shape is {}\".format(W.shape))\n",
    "\n",
    "    return W"
   ]
  },
  {
   "cell_type": "markdown",
   "metadata": {},
   "source": [
    "We initialize the weights for the 2 layers in the neural network using the `randInitializeWeights()` function we've just defined:"
   ]
  },
  {
   "cell_type": "code",
   "execution_count": 16,
   "metadata": {},
   "outputs": [
    {
     "name": "stdout",
     "output_type": "stream",
     "text": [
      "Initializing Neural Network Parameters ...\n"
     ]
    }
   ],
   "source": [
    "print('Initializing Neural Network Parameters ...')\n",
    "\n",
    "initial_Theta1 = randInitializeWeights(input_layer_size, hidden_layer_size)\n",
    "initial_Theta2 = randInitializeWeights(hidden_layer_size, num_labels)\n",
    "\n",
    "# Unroll parameters\n",
    "initial_nn_params = np.concatenate([initial_Theta1.ravel(), initial_Theta2.ravel()], axis=0)"
   ]
  },
  {
   "cell_type": "markdown",
   "metadata": {},
   "source": [
    "### 1.5.4 Implementing the Cost Function and Back-Propogation\n",
    "\n",
    "Now let's define `nnCostFunction()`, which will:\n",
    "- run a single step of feed-forward propogation and calculate the predicted outputs of the network\n",
    "- calculate the cost function (based on the difference between the predicted outputs and the actual data)\n",
    "- run back-propogation to calculate the gradient, or derivative, of the weights of each connection between the nodes in the network\n",
    "- return the cost and the gradients (with the gradients represented as a single \"unrolled\" vector *including the bias terms*"
   ]
  },
  {
   "cell_type": "code",
   "execution_count": 17,
   "metadata": {
    "collapsed": true
   },
   "outputs": [],
   "source": [
    "def nnCostFunction(nn_params,\n",
    "                   input_layer_size,\n",
    "                   hidden_layer_size,\n",
    "                   num_labels,\n",
    "                   X, y, lambda_= 0.0):\n",
    "    \"\"\"\n",
    "    Implements the neural network cost function and gradient for a two layer neural \n",
    "    network which performs classification. \n",
    "    \n",
    "    Parameters\n",
    "    ----------\n",
    "    nn_params : array_like\n",
    "        The parameters for the neural network which are \"unrolled\" into \n",
    "        a vector. This needs to be converted back into the weight matrices Theta1\n",
    "        and Theta2.\n",
    "    \n",
    "    input_layer_size : int\n",
    "        Number of features for the input layer. \n",
    "    \n",
    "    hidden_layer_size : int\n",
    "        Number of hidden units in the second layer.\n",
    "    \n",
    "    num_labels : int\n",
    "        Total number of labels, or equivalently number of units in output layer. \n",
    "    \n",
    "    X : array_like\n",
    "        Input dataset. A matrix of shape (m x input_layer_size).\n",
    "    \n",
    "    y : array_like\n",
    "        Dataset labels. A vector of shape (m,).\n",
    "    \n",
    "    lambda_ : float, optional\n",
    "        Regularization parameter.\n",
    " \n",
    "    Returns\n",
    "    -------\n",
    "    J : float\n",
    "        The computed value for the cost function at the current weight values.\n",
    "    \n",
    "    grad : array_like\n",
    "        An \"unrolled\" vector of the partial derivatives of the concatenatation of\n",
    "        neural network weights Theta1 and Theta2.\n",
    "        \n",
    "    NOTES\n",
    "    ----\n",
    "    It's very useful to include a number of `print` statements to double-check the\n",
    "    dimensions of the various matrices being created. These aren't included in the code\n",
    "    below, but could easily be added, e.g.:\n",
    "        \n",
    "        print(\"input layer size is {}\".format(input_layer_size))\n",
    "        \n",
    "    \"\"\"\n",
    "    ##############\n",
    "    ### SET UP ###\n",
    "    ##############\n",
    "    \n",
    "    # set up variable to hold number of samples\n",
    "    m = X.shape[0]\n",
    "    \n",
    "    # Reshape nn_params back into the parameters Theta1 and Theta2, the weight matrices\n",
    "    # for our 2 layer neural network\n",
    "    Theta1 = np.reshape(nn_params[:hidden_layer_size * (input_layer_size + 1)],\n",
    "                        (hidden_layer_size, (input_layer_size + 1)))\n",
    "    \n",
    "    Theta2 = np.reshape(nn_params[(hidden_layer_size * (input_layer_size + 1)):],\n",
    "                        (num_labels, (hidden_layer_size + 1)))\n",
    "    \n",
    "    # separate bias vectors from Theta1 and Theta2\n",
    "    w_hidden, b_hidden = Theta1[:, 1:], Theta1[:, 0:1]\n",
    "    w_output, b_output = Theta2[:, 1:], Theta2[:, 0:1] \n",
    "    \n",
    "    # turn b_hidden and b_output into vectors (rather than n x 1 matrices)\n",
    "    b_hidden = b_hidden.ravel() \n",
    "    b_output = b_output.ravel()\n",
    "    \n",
    "    # instantiate one-hot encoded version of y\n",
    "    y_onehot = onehot(y, num_labels)\n",
    "    \n",
    "    ##########################\n",
    "    ### CALCULATE THE COST ###\n",
    "    ##########################\n",
    "    \n",
    "    # run forward propogation\n",
    "    z_hidden, a_hidden, z_output, a_output = forward_propogate(X, w_hidden, b_hidden, w_output, b_output)\n",
    "    \n",
    "    # compute cost - including regularization\n",
    "    term1 = -y_onehot * (np.log(a_output))\n",
    "    term2 = (1. - y_onehot) * np.log(1. - a_output)\n",
    "    L2_term = lambda_ * (np.sum(w_hidden**2)\n",
    "                         + np.sum(w_output**2))\n",
    "    J = (np.sum((term1 - term2)/m) + (L2_term/(2*m)))\n",
    "    \n",
    "    ########################\n",
    "    ### BACK PROPOGATION ###\n",
    "    ########################\n",
    "    \n",
    "    # intstantiate matrices to hold the gradients at each stage\n",
    "    Theta1_grad = np.zeros(Theta1.shape)\n",
    "    Theta2_grad = np.zeros(Theta2.shape)\n",
    "\n",
    "    # 1. calculate error term for output layer\n",
    "        # [n_samples, n_classlabels]\n",
    "    sigma_output = a_output - y_onehot\n",
    "    \n",
    "    \n",
    "    # 2. calculate error term for hidden layer\n",
    "    # 2.1 calculate derivative of sigmoid activation function hidden layer\n",
    "        # [n_samples, n_hidden]\n",
    "    sigmoid_derivative_hidden = a_hidden * (1. - a_hidden)\n",
    "\n",
    "    # 2.2 calculate error term of hidden layer\n",
    "        # [n_samples, n_classlabels] dot [n_classlabels, n_hidden]\n",
    "        # --> [n_samples, n_hidden]\n",
    "    sigma_hidden = (np.dot(sigma_output, w_output) * sigmoid_derivative_hidden)\n",
    "\n",
    "    # 3. accumulate partial derivatives of each node in hidden layer \n",
    "        # [n_feature, n_samples] dot [n_samples, n_hidden]\n",
    "        # --> [n_features, n_hidden]\n",
    "    grad_w_hidden = np.dot(X.T, sigma_hidden)\n",
    "    grad_b_hidden = np.sum(sigma_hidden, axis = 0)\n",
    "\n",
    "    # 4. accumulate partial derivatives of each node in output layer\n",
    "        # [n_hidden, n_samples] dot [n_samples, n_classlabels]\n",
    "        # --> [n_hidden, n_classlabels]\n",
    "    grad_w_output = np.dot(a_hidden.T, sigma_output)\n",
    "    grad_b_output = np.sum(sigma_output, axis = 0)\n",
    "    \n",
    "    # 5. regularize accumulated partial derivatives in hidden and output layers\n",
    "    delta_w_hidden = (grad_w_hidden + lambda_*w_hidden.T)/m\n",
    "    delta_b_hidden = grad_b_hidden/m # NB bias term is not regularized\n",
    "    # create a 10 x 1 matrix version of delta_b_hidden\n",
    "    delta_b_hidden_matrix = np.reshape(delta_b_hidden,(delta_b_hidden.size, 1))\n",
    "    \n",
    "    delta_w_output = (grad_w_output + lambda_*w_output.T)/m\n",
    "    delta_b_output = grad_b_output/m # NB bias term is not regularized\n",
    "    # create a 10 x 1 matrix version of delta_b_output\n",
    "    delta_b_output_matrix = np.reshape(delta_b_output,(delta_b_output.size, 1))\n",
    "    \n",
    "    # 6. combine gradients of weight and bias terms into Theta1_grad and Theta2_grad - as required by\n",
    "    # the representational framework of the exercise\n",
    "    # NOTE b terms are column[0] of Theta1 and Theta2\n",
    "    Theta1_grad = np.concatenate([delta_b_hidden_matrix, delta_w_hidden.T], axis = 1)\n",
    "    Theta2_grad = np.concatenate([delta_b_output_matrix, delta_w_output.T], axis = 1)\n",
    "     \n",
    "    # Combine gradients back into a single vector\n",
    "    grad = np.concatenate([Theta1_grad.ravel(), Theta2_grad.ravel()])\n",
    "\n",
    "    return J, grad"
   ]
  },
  {
   "cell_type": "markdown",
   "metadata": {},
   "source": [
    "We can test our implementation of `nnCostFunction` by calling it using the loaded set of parameters for `Theta1` and `Theta2` on two test cases.\n",
    "\n",
    "In the first case, we set $\\lambda$ to be 0 (i.e. an un-regularized cost function). We should see that the cost is about 0.287629.\n",
    "\n",
    "In the second case, we set $\\lambda$ to be 1 (i.e. a regularized cost function). We should see the cost is about 0.383770."
   ]
  },
  {
   "cell_type": "code",
   "execution_count": 18,
   "metadata": {},
   "outputs": [
    {
     "name": "stdout",
     "output_type": "stream",
     "text": [
      "Cost at parameters (loaded from ex4weights): 0.287629 \n",
      "The cost should be about                   : 0.287629.\n"
     ]
    }
   ],
   "source": [
    "lambda_ = 0\n",
    "J, grad = nnCostFunction(nn_params, input_layer_size, hidden_layer_size,\n",
    "                   num_labels, X, y, lambda_)\n",
    "print('Cost at parameters (loaded from ex4weights): %.6f ' % J)\n",
    "print('The cost should be about                   : 0.287629.')"
   ]
  },
  {
   "cell_type": "code",
   "execution_count": 19,
   "metadata": {},
   "outputs": [
    {
     "name": "stdout",
     "output_type": "stream",
     "text": [
      "Cost at parameters (loaded from ex4weights): 0.383770\n",
      "This value should be about                 : 0.383770.\n"
     ]
    }
   ],
   "source": [
    "# Weight regularization parameter (we set this to 1 here).\n",
    "lambda_ = 1\n",
    "J, _ = nnCostFunction(nn_params, input_layer_size, hidden_layer_size,\n",
    "                      num_labels, X, y, lambda_)\n",
    "\n",
    "print('Cost at parameters (loaded from ex4weights): %.6f' % J)\n",
    "print('This value should be about                 : 0.383770.')"
   ]
  },
  {
   "cell_type": "markdown",
   "metadata": {},
   "source": [
    "### 1.6 Gradient checking \n",
    "\n",
    "Now we've implemented the backpropagation algorithm, we can \"check the gradient\" on our implementation. This will increase our confidence that our code is computing the gradients correctly.\n",
    "\n",
    "In our neural network, we are minimizing the cost function $J(\\Theta)$. To perform gradient checking on our parameters, we can imagine “unrolling” the parameters $\\Theta^{(1)}$, $\\Theta^{(2)}$ into a long vector $\\theta$. We can then think of the cost function being $J(\\Theta)$, and use the following gradient checking procedure:\n",
    "\n",
    "Suppose you have a function $f_i(\\theta)$ that purportedly computes $\\frac{\\partial}{\\partial \\theta_i} J(\\theta)$; you’d like to check if $f_i$ is outputting correct derivative values.\n",
    "\n",
    "$$\n",
    "\\text{Let } \\theta^{(i+)} = \\theta + \\begin{bmatrix} 0 \\\\ 0 \\\\ \\vdots \\\\ \\epsilon \\\\ \\vdots \\\\ 0 \\end{bmatrix}\n",
    "\\quad \\text{and} \\quad \\theta^{(i-)} = \\theta - \\begin{bmatrix} 0 \\\\ 0 \\\\ \\vdots \\\\ \\epsilon \\\\ \\vdots \\\\ 0 \\end{bmatrix}\n",
    "$$\n",
    "\n",
    "So, $\\theta^{(i+)}$ is the same as $\\theta$, except its $i^{th}$ element has been incremented by $\\epsilon$. Similarly, $\\theta^{(i−)}$ is the corresponding vector with the $i^{th}$ element decreased by $\\epsilon$. You can now numerically verify $f_i(\\theta)$’s correctness by checking, for each $i$, that:\n",
    "\n",
    "$$ f_i\\left( \\theta \\right) \\approx \\frac{J\\left( \\theta^{(i+)}\\right) - J\\left( \\theta^{(i-)} \\right)}{2\\epsilon} $$\n",
    "\n",
    "The degree to which these two values should approximate each other will depend on the details of $J$. But assuming $\\epsilon = 10^{-4}$, we should usually find that the left- and right-hand sides of the above will agree to at least 4 significant digits (and often many more).\n",
    "\n",
    "The course and/or `dibgerge` have kindly implemented the function to compute the numerical gradient for us in `computeNumericalGradient()` (within the file `utils.py`).\n",
    "\n",
    "In the next cell we will call `checkNNGradients()` which will create a small neural network and dataset that will be used for checking the gradients we calculated. If our backpropagation implementation is correct, we should see a relative difference that is less than 1e-9.\n",
    "\n",
    "<div class=\"alert alert-box alert-success\">\n",
    "**Practical Tip**: When performing gradient checking, it is much more efficient to use a small neural network with a relatively small number of input units and hidden units, thus having a relatively small number of parameters. Each dimension of $\\theta$ requires two evaluations of the cost function and this can be expensive. In the function `checkNNGradients`, our code creates a small random model and dataset which is used with `computeNumericalGradient` for gradient checking.\n",
    "\n",
    "After you are confident that your gradient computations are correct, you should turn off gradient checking before running your learning algorithm.\n",
    "</div>\n",
    "\n",
    "<div class=\"alert alert-box alert-success\">\n",
    "**Practical Tip:** Gradient checking works for any function where you are computing the cost and the gradient. Concretely, you can use the same `computeNumericalGradient` function to check if your gradient implementations for the other exercises are correct too (e.g., logistic regression’s cost function).\n",
    "</div>"
   ]
  },
  {
   "cell_type": "markdown",
   "metadata": {},
   "source": [
    "First, we'll check the gradients for an un-regularized call to `nnCostFunction()`:"
   ]
  },
  {
   "cell_type": "code",
   "execution_count": 20,
   "metadata": {},
   "outputs": [
    {
     "name": "stdout",
     "output_type": "stream",
     "text": [
      "[[ -9.27825235e-03  -9.27825236e-03]\n",
      " [ -3.04979153e-06  -3.04978914e-06]\n",
      " [ -1.75060082e-04  -1.75060082e-04]\n",
      " [ -9.62660618e-05  -9.62660620e-05]\n",
      " [  8.89911959e-03   8.89911960e-03]\n",
      " [  1.42869427e-05   1.42869443e-05]\n",
      " [  2.33146356e-04   2.33146357e-04]\n",
      " [  1.17982666e-04   1.17982666e-04]\n",
      " [ -8.36010761e-03  -8.36010762e-03]\n",
      " [ -2.59383093e-05  -2.59383100e-05]\n",
      " [ -2.87468729e-04  -2.87468729e-04]\n",
      " [ -1.37149709e-04  -1.37149706e-04]\n",
      " [  7.62813550e-03   7.62813551e-03]\n",
      " [  3.69883235e-05   3.69883234e-05]\n",
      " [  3.35320345e-04   3.35320347e-04]\n",
      " [  1.53247079e-04   1.53247082e-04]\n",
      " [ -6.74798369e-03  -6.74798370e-03]\n",
      " [ -4.68759809e-05  -4.68759769e-05]\n",
      " [ -3.76215588e-04  -3.76215587e-04]\n",
      " [ -1.66560294e-04  -1.66560294e-04]\n",
      " [  3.14544970e-01   3.14544970e-01]\n",
      " [  1.64090819e-01   1.64090819e-01]\n",
      " [  1.64567932e-01   1.64567932e-01]\n",
      " [  1.58339334e-01   1.58339334e-01]\n",
      " [  1.51127527e-01   1.51127527e-01]\n",
      " [  1.49568335e-01   1.49568335e-01]\n",
      " [  1.11056588e-01   1.11056588e-01]\n",
      " [  5.75736493e-02   5.75736493e-02]\n",
      " [  5.77867378e-02   5.77867378e-02]\n",
      " [  5.59235296e-02   5.59235296e-02]\n",
      " [  5.36967009e-02   5.36967009e-02]\n",
      " [  5.31542052e-02   5.31542052e-02]\n",
      " [  9.74006970e-02   9.74006970e-02]\n",
      " [  5.04575855e-02   5.04575855e-02]\n",
      " [  5.07530173e-02   5.07530173e-02]\n",
      " [  4.91620841e-02   4.91620841e-02]\n",
      " [  4.71456249e-02   4.71456249e-02]\n",
      " [  4.65597186e-02   4.65597186e-02]]\n",
      "The above two columns you get should be very similar.\n",
      "(Left-Your Numerical Gradient, Right-Analytical Gradient)\n",
      "\n",
      "If your backpropagation implementation is correct, then \n",
      "the relative difference will be small (less than 1e-9). \n",
      "Relative Difference: 2.17103e-11\n"
     ]
    }
   ],
   "source": [
    "utils.checkNNGradients(nnCostFunction)"
   ]
  },
  {
   "cell_type": "markdown",
   "metadata": {},
   "source": [
    "Now we'll check the gradients calculated by a regularized call to `nnCostFunction()`"
   ]
  },
  {
   "cell_type": "code",
   "execution_count": 21,
   "metadata": {},
   "outputs": [
    {
     "name": "stdout",
     "output_type": "stream",
     "text": [
      "[[ -9.27825235e-03  -9.27825236e-03]\n",
      " [ -1.67679797e-02  -1.67679797e-02]\n",
      " [ -6.01744725e-02  -6.01744725e-02]\n",
      " [ -1.73704651e-02  -1.73704651e-02]\n",
      " [  8.89911959e-03   8.89911960e-03]\n",
      " [  3.94334829e-02   3.94334829e-02]\n",
      " [ -3.19612287e-02  -3.19612287e-02]\n",
      " [ -5.75658668e-02  -5.75658668e-02]\n",
      " [ -8.36010761e-03  -8.36010762e-03]\n",
      " [  5.93355565e-02   5.93355565e-02]\n",
      " [  2.49225535e-02   2.49225535e-02]\n",
      " [ -4.51963845e-02  -4.51963845e-02]\n",
      " [  7.62813550e-03   7.62813551e-03]\n",
      " [  2.47640974e-02   2.47640974e-02]\n",
      " [  5.97717617e-02   5.97717617e-02]\n",
      " [  9.14587966e-03   9.14587966e-03]\n",
      " [ -6.74798369e-03  -6.74798370e-03]\n",
      " [ -3.26881426e-02  -3.26881426e-02]\n",
      " [  3.86410548e-02   3.86410548e-02]\n",
      " [  5.46101547e-02   5.46101547e-02]\n",
      " [  3.14544970e-01   3.14544970e-01]\n",
      " [  1.18682669e-01   1.18682669e-01]\n",
      " [  2.03987128e-01   2.03987128e-01]\n",
      " [  1.25698067e-01   1.25698067e-01]\n",
      " [  1.76337550e-01   1.76337550e-01]\n",
      " [  1.32294136e-01   1.32294136e-01]\n",
      " [  1.11056588e-01   1.11056588e-01]\n",
      " [  3.81928666e-05   3.81928696e-05]\n",
      " [  1.17148233e-01   1.17148233e-01]\n",
      " [ -4.07588279e-03  -4.07588279e-03]\n",
      " [  1.13133142e-01   1.13133142e-01]\n",
      " [ -4.52964427e-03  -4.52964427e-03]\n",
      " [  9.74006970e-02   9.74006970e-02]\n",
      " [  3.36926556e-02   3.36926556e-02]\n",
      " [  7.54801264e-02   7.54801264e-02]\n",
      " [  1.69677090e-02   1.69677090e-02]\n",
      " [  8.61628953e-02   8.61628953e-02]\n",
      " [  1.50048382e-03   1.50048382e-03]]\n",
      "The above two columns you get should be very similar.\n",
      "(Left-Your Numerical Gradient, Right-Analytical Gradient)\n",
      "\n",
      "If your backpropagation implementation is correct, then \n",
      "the relative difference will be small (less than 1e-9). \n",
      "Relative Difference: 2.08074e-11\n",
      "\n",
      "\n",
      "Cost at (fixed) debugging parameters (w/ lambda = 3.000000): 0.576051 \n",
      "(for lambda = 3, this value should be about 0.576051)\n"
     ]
    }
   ],
   "source": [
    "#  Check gradients by running checkNNGradients\n",
    "lambda_ = 3\n",
    "utils.checkNNGradients(nnCostFunction, lambda_)\n",
    "\n",
    "# Also output the costFunction debugging values\n",
    "debug_J, _  = nnCostFunction(nn_params, input_layer_size,\n",
    "                          hidden_layer_size, num_labels, X, y, lambda_)\n",
    "\n",
    "print('\\n\\nCost at (fixed) debugging parameters (w/ lambda = %f): %f ' % (lambda_, debug_J))\n",
    "print('(for lambda = 3, this value should be about 0.576051)')"
   ]
  },
  {
   "cell_type": "markdown",
   "metadata": {},
   "source": [
    "### 1.7 Learning parameters using `scipy.optimize.minimize`\n",
    "\n",
    "Now we we will use `scipy`'s minimization module to learn a good set parameters."
   ]
  },
  {
   "cell_type": "code",
   "execution_count": 26,
   "metadata": {
    "collapsed": true
   },
   "outputs": [],
   "source": [
    "#  We can change maxiter to a larger value to see how more training helps.\n",
    "options= {'maxiter': 400}\n",
    "\n",
    "#  We can also try different values of lambda\n",
    "lambda_ = 1\n",
    "\n",
    "# Create \"short hand\" for the cost function to be minimized\n",
    "costFunction = lambda p: nnCostFunction(p, input_layer_size,\n",
    "                                        hidden_layer_size,\n",
    "                                        num_labels, X, y, lambda_)\n",
    "\n",
    "# Now, costFunction is a function that takes in only one argument\n",
    "# (the neural network parameters)\n",
    "res = optimize.minimize(costFunction,\n",
    "                        initial_nn_params,\n",
    "                        jac=True,\n",
    "                        method='TNC',\n",
    "                        options=options)\n",
    "\n",
    "# Get the solution of the optimization\n",
    "nn_params = res.x\n",
    "        \n",
    "# Obtain Theta1 and Theta2 back from nn_params\n",
    "Theta1 = np.reshape(nn_params[:hidden_layer_size * (input_layer_size + 1)],\n",
    "                    (hidden_layer_size, (input_layer_size + 1)))\n",
    "\n",
    "Theta2 = np.reshape(nn_params[(hidden_layer_size * (input_layer_size + 1)):],\n",
    "                    (num_labels, (hidden_layer_size + 1)))"
   ]
  },
  {
   "cell_type": "markdown",
   "metadata": {},
   "source": [
    "After the training completes, we will look at the training accuracy of our classifier by computing the percentage of examples it got correct. If our implementation is good, we should see a reported training accuracy of about 95.3% (this may vary by about 1% due to the random initialization).\n",
    "\n",
    "It is possible to get higher training accuracies by training the neural network for more iterations. For example, try training the network with 400 iterations (e.g., set `maxiter` to 400). We can also vary the regularization parameter $\\lambda$.\n",
    "\n",
    "Neural networks are very powerful models that can form highly complex decision boundaries. Without regularization, it is possible for a neural network to “overfit” a training set so that it obtains close to 100% accuracy on the training set but does perform well on new examples that it has not seen before."
   ]
  },
  {
   "cell_type": "code",
   "execution_count": 27,
   "metadata": {},
   "outputs": [
    {
     "name": "stdout",
     "output_type": "stream",
     "text": [
      "Training Set Accuracy: 99.540000\n"
     ]
    }
   ],
   "source": [
    "pred = utils.predict(Theta1, Theta2, X)\n",
    "print('Training Set Accuracy: %f' % (np.mean(pred == y) * 100))"
   ]
  },
  {
   "cell_type": "markdown",
   "metadata": {},
   "source": [
    "We can see that, with 100 training iterations, we get to an accuracy around 96%; and with 400, we get over 99% accuracy."
   ]
  },
  {
   "cell_type": "markdown",
   "metadata": {},
   "source": [
    "## 2. Visualizing the Hidden Layer\n",
    "\n",
    "One way to understand what the neural network is learning is to visualize what the representations captured by the hidden units. Informally, given a particular hidden unit, one way to visualize what it computes is to find an input $x$ that will cause it to activate (that is, to have an activation value \n",
    "($a_i^{(l)}$) close to 1). For the neural network we've trained, notice that the $i^{th}$ row of $\\Theta^{(1)}$ is a 400-dimensional vector that represents the parameter for the $i^{th}$ hidden unit - i.e. the weights from each input pixel to the hidden unit.\n",
    "\n",
    "Thus, one way to visualize the “representation” captured by the hidden unit is to reshape this 400 dimensional vector into a 20 × 20 image and display it (It turns out that this is equivalent to finding the input that gives the highest activation for the hidden unit, given a “norm” constraint on the input (i.e., $||x||_2 \\le 1$)). \n",
    "\n",
    "The next cell does this by using the `displayData` function and it will show us an image with 25 units,\n",
    "each corresponding to one hidden unit in the network. In our trained network, we should find that the hidden unit layer corresponds roughly to detectors that look for strokes and other patterns in the input."
   ]
  },
  {
   "cell_type": "code",
   "execution_count": 28,
   "metadata": {},
   "outputs": [
    {
     "data": {
      "image/png": "[encoded data removed]",
      "text/plain": [
       "<matplotlib.figure.Figure at 0x10e36a0f0>"
      ]
     },
     "metadata": {},
     "output_type": "display_data"
    }
   ],
   "source": [
    "utils.displayData(Theta1[:, 1:])"
   ]
  },
  {
   "cell_type": "markdown",
   "metadata": {},
   "source": [
    "## 3 An object oriented implementation\n",
    "\n",
    "Here I'm going to write an object-oriented implementation (taken from Raschka and Mirjalili) and see how it works. "
   ]
  },
  {
   "cell_type": "code",
   "execution_count": 29,
   "metadata": {
    "collapsed": true
   },
   "outputs": [],
   "source": [
    "# defines a neural net (multi-layer perceptron) classifier object\n",
    "class NeuralNetMLP(object):\n",
    "    \"\"\"\n",
    "    Feed-forward neural network / multi-layer perceptron classifier\n",
    "    Comprises:\n",
    "        - 1 input layer (size determined by number of features of \n",
    "                        input data)\n",
    "        - 1 hidden layer (size passed as a parameter when\n",
    "                        instantiating the object)\n",
    "        - 1 output layer (size determined by number of classes required)\n",
    "\n",
    "    Paramaters\n",
    "    ----------\n",
    "    n_hidden: int (default: 25)\n",
    "        Number of hidden units\n",
    "    l2: float (default: 0)\n",
    "        Lambda value for L2-regularization\n",
    "        l2 = 0 means no regularization (the default option)\n",
    "    epochs: int (default: 100)\n",
    "        Number of runs over the training set\n",
    "    learning_rate: float (default: 0.001)\n",
    "        Learning rate\n",
    "    shuffle: bool (default: True)\n",
    "        If True, shuffles training data every epoch\n",
    "        to prevent circles\n",
    "        Default is True\n",
    "    minibatch_size: int (default: 1)\n",
    "        Number of training samples per minibatch\n",
    "    seed: int (default: None)\n",
    "        Random seed for initializing weights and shuffling\n",
    "        \n",
    "    Attributes\n",
    "    ----------\n",
    "    eval_ : dict\n",
    "        Dictionary collecting the cost, training accuracy, and \n",
    "        validation accuracy for each epoch during training    \n",
    "    \"\"\"\n",
    "    \n",
    "    def __init__(self, n_hidden = 25, l2 = 0., epochs = 100,\n",
    "                 learning_rate = 0.001, shuffle = True,\n",
    "                 minibatch_size = 1, seed = None):\n",
    "        self.random = np.random.RandomState(seed)\n",
    "        self.n_hidden = n_hidden\n",
    "        self.l2 = l2\n",
    "        self.epochs = epochs\n",
    "        self.learning_rate = learning_rate\n",
    "        self.shuffle = shuffle\n",
    "        self.minibatch_size = minibatch_size\n",
    "        \n",
    "    \n",
    "    def _onehot(self, y, n_classes):\n",
    "        \"\"\"\n",
    "        Encode labels into one-hot representation\n",
    "        \n",
    "        Parameters\n",
    "        ----------\n",
    "        y: array, shape = n_samples\n",
    "            Target values\n",
    "        \n",
    "        Returns\n",
    "        -------\n",
    "        onehot: array, shape = [n_samples, n_labels]\n",
    "        \"\"\"\n",
    "        onehot = np.zeros((n_classes, y.shape[0]))\n",
    "        for idx, val in enumerate(y.astype(int)):\n",
    "            onehot[val, idx] = 1\n",
    "        return onehot.T\n",
    "        \n",
    "    def _sigmoid(self, z):\n",
    "        \"\"\"Compute sigmoid as logistic function\"\"\"\n",
    "        return 1. / (1. + np.exp(-np.clip(z, -250, 250)))\n",
    "    \n",
    "    \n",
    "    def _forward(self, X):\n",
    "        \"\"\"Compute forward-propogation step\"\"\"\n",
    "        # step 1: calculate net input to hidden layer\n",
    "        # [n_samples, n_features] dot [n_features, n_hidden]\n",
    "        # --> [n_samples, n_hidden]\n",
    "        z_hidden = np.dot(X, self.w_hidden) + self.b_hidden\n",
    "        \n",
    "        # step 2: calculate activation of hidden layer\n",
    "        a_hidden = self._sigmoid(z_hidden)\n",
    "        \n",
    "        # step 3: calculate net input to output layer\n",
    "        # [n_samples, n_hidden] dot [n_hidden, n_classlabels]\n",
    "        # --> [n_samples, n_classlables]\n",
    "        z_output = np.dot(a_hidden, self.w_output) + self.b_output\n",
    "    \n",
    "        #step 4: calculate activation of output layer\n",
    "        a_output = self._sigmoid(z_output)\n",
    "        \n",
    "        return z_hidden, a_hidden, z_output, a_output\n",
    "    \n",
    "    \n",
    "    def _compute_cost(self, y_enc, output):\n",
    "        \"\"\"\n",
    "        Compute cost function\n",
    "        \n",
    "        Parameters\n",
    "        ----------\n",
    "        y_enc: array, shape = [n_samples, n_labels]\n",
    "            one-hot encoded class labels\n",
    "        output: array, shape = [n_samples, n_output_units]\n",
    "            Activation of the output layer (from forward propogation)\n",
    "            \n",
    "        Returns\n",
    "        -------\n",
    "        cost: float\n",
    "            Regularized cost (though NB default for lambda is 0,\n",
    "            equivalent to no regularization)\n",
    "        \"\"\"\n",
    "        term1 = -y_enc * (np.log(output))\n",
    "        term2 = (1. - y_enc) * np.log(1. - output)\n",
    "        L2_term = self.l2 * (np.sum(self.w_hidden**2)\n",
    "                             + np.sum(self.w_output**2))\n",
    "        cost = np.sum(term1 - term2) + L2_term\n",
    "        return cost\n",
    "    \n",
    "    \n",
    "    def predict(self, X):\n",
    "        \"\"\"\n",
    "        Predict class labels\n",
    "        \n",
    "        Parameters\n",
    "        ----------\n",
    "        X: array, shape = [n_samples, n_features]\n",
    "            Input layer with original features\n",
    "        \n",
    "        Returns\n",
    "        -------\n",
    "        y_predicted: array, shape = [n_samples]\n",
    "            Predicted class labels for each input sample\n",
    "        \"\"\"\n",
    "        z_hidden, a_hidden, z_output, a_output = self._forward(X)\n",
    "        y_predicted = np.argmax(z_output, axis = 1)\n",
    "        return y_predicted\n",
    "    \n",
    "    \n",
    "    def fit(self, X_train, y_train, X_valid, y_valid):\n",
    "        \"\"\"\n",
    "        Learn weights from training data\n",
    "        \n",
    "        Parameters\n",
    "        ----------\n",
    "        X_train: array, shape = [n_samples, n_features]\n",
    "            Input layer with original features\n",
    "        y_train: array, shape = [n_samples]\n",
    "            Target class labels\n",
    "        X_valid: array, shape = [n_samples, n_features]\n",
    "            Sample features for validation during training\n",
    "        y_valid: array, shape = [n_samples]\n",
    "            Sample labels for validation during training\n",
    "            \n",
    "        Returns\n",
    "        -------\n",
    "        self\n",
    "        \"\"\"\n",
    "        n_output = np.unique(y_train).shape[0] # number of class labels\n",
    "        n_features = X_train.shape[1] # number of features\n",
    "        \n",
    "        #########################\n",
    "        # Weight Initialization #\n",
    "        #########################\n",
    "        \n",
    "        # weights for input layer --> hidden layer\n",
    "        self.b_hidden = np.zeros(self.n_hidden)\n",
    "        self.w_hidden = self.random.normal(loc = 0.0, scale = 0.1,\n",
    "                                           size = (n_features,\n",
    "                                                   self.n_hidden))\n",
    "        \n",
    "        # weights for hidden layer --> output layer\n",
    "        self.b_output = np.zeros(n_output)\n",
    "        self.w_output = self.random.normal(loc = 0.0, scale = 0.1,\n",
    "                                           size = (self.n_hidden, n_output))\n",
    "        \n",
    "        epoch_strlen = len(str(self.epochs)) # for progr. format\n",
    "        self.eval_ = {\"cost\" : [], \"training_accuracy\" : [], \"validation_accuracy\" : []}\n",
    "        \n",
    "        y_train_enc = self._onehot(y_train, n_output)\n",
    "        \n",
    "        # iterate over training epochs\n",
    "        for i in range (self.epochs):\n",
    "            # iterate over minibatches\n",
    "            indices = np.arange(X_train.shape[0])\n",
    "            \n",
    "            if self.shuffle:\n",
    "                self.random.shuffle(indices)\n",
    "                \n",
    "            for start_idx in range(9, indices.shape[0] +\\\n",
    "                                   self.minibatch_size + \\\n",
    "                                   1, self.minibatch_size):\n",
    "                batch_idx = indices[start_idx : start_idx +\\\n",
    "                                    self.minibatch_size]\n",
    "                \n",
    "                # forward propogation\n",
    "                z_hidden, a_hidden, z_output, a_output = self._forward(X_train[batch_idx])\n",
    "                \n",
    "                ####################\n",
    "                # Back-propogation #\n",
    "                ####################\n",
    "                \n",
    "                # [n_samples, n_classlabels]\n",
    "                sigma_output = a_output - y_train_enc[batch_idx]\n",
    "                \n",
    "                # [n_samples, n_hidden]\n",
    "                sigmoid_derivative_hidden = a_hidden * (1. - a_hidden)\n",
    "                \n",
    "                # [n_samples, n_classlabels] dot [n_classlabels, n_hidden]\n",
    "                # --> [n_samples, n_hidden]\n",
    "                sigma_hidden = (np.dot(sigma_output, self.w_output.T) * sigmoid_derivative_hidden)\n",
    "                \n",
    "                # [n_feature, n_samples] dot [n_samples, n_hidden]\n",
    "                # --> [n_features, n_hidden]\n",
    "                grad_w_hidden = np.dot(X_train[batch_idx].T, sigma_hidden)\n",
    "                grad_b_hidden = np.sum(sigma_hidden, axis = 0)\n",
    "                \n",
    "                # [n_hidden, n_samples] dot [n_samples, n_classlabels]\n",
    "                # --> [n_hidden, n_classlabels]\n",
    "                grad_w_output = np.dot(a_hidden.T, sigma_output)\n",
    "                grad_b_output = np.sum(sigma_output, axis = 0)\n",
    "                \n",
    "                # Regularization and weight updates\n",
    "                delta_w_hidden = (grad_w_hidden + self.l2*self.w_hidden)\n",
    "                delta_b_hidden = grad_b_hidden # NB bias term is not regularized\n",
    "                self.w_hidden -= self.learning_rate * delta_w_hidden\n",
    "                self.b_hidden -= self.learning_rate * delta_b_hidden\n",
    "                \n",
    "                delta_w_output = (grad_w_output + self.l2*self.w_output)\n",
    "                delta_b_output = grad_b_output # NB bias term is not regularized\n",
    "                self.w_output -= self.learning_rate * delta_w_output\n",
    "                self.b_output -= self.learning_rate * delta_b_output\n",
    "                \n",
    "            ##############\n",
    "            # Evaluation #\n",
    "            ##############\n",
    "            \n",
    "            # Evaluation after each epoch during training\n",
    "            z_hidden, a_hidden, z_output, a_output = self._forward(X_train)\n",
    "            \n",
    "            cost = self._compute_cost(y_enc = y_train_enc, output = a_output)\n",
    "            \n",
    "            y_train_pred = self.predict(X_train)\n",
    "            y_valid_pred = self.predict(X_valid)\n",
    "            \n",
    "            training_accuracy = ((np.sum(y_train == y_train_pred)).astype(np.float) / X_train.shape[0])\n",
    "            validation_accuracy = ((np.sum(y_valid == y_valid_pred)).astype(np.float) / X_valid.shape[0])\n",
    "            \n",
    "            \n",
    "            # display epoch number, cost, and training and validation accuracy to stderr (i.e. on screen)\n",
    "            sys.stderr.write('\\r%0*d/%d | Cost: %.2f' '| Train/Valid accuracy: %.2f%%/%.2f%%'\n",
    "                             %\n",
    "                             (epoch_strlen, i+1, self.epochs, cost, training_accuracy * 100, validation_accuracy * 100))\n",
    "            sys.stderr.flush()\n",
    "            \n",
    "            self.eval_[\"cost\"].append(cost)\n",
    "            self.eval_[\"training_accuracy\"].append(training_accuracy)\n",
    "            self.eval_[\"validation_accuracy\"].append(validation_accuracy)"
   ]
  },
  {
   "cell_type": "markdown",
   "metadata": {
    "collapsed": true
   },
   "source": [
    "OK, that's our object-oriented implementation written.\n",
    "\n",
    "Next we're going to:\n",
    "- Create separate \"training\" and \"test\" sets of our $X$ and y data, using `scikitlearn's` \"Test, train split\" module.\n",
    "- \"Train\" the model, using the `fit()` method we wrote for the class.\n",
    "- Evaluate how well our trained neural network is able to classify the images in our data-set."
   ]
  },
  {
   "cell_type": "code",
   "execution_count": 30,
   "metadata": {},
   "outputs": [
    {
     "data": {
      "text/plain": [
       "((4000, 400), (1000, 400), (4000,), (1000,))"
      ]
     },
     "execution_count": 30,
     "metadata": {},
     "output_type": "execute_result"
    }
   ],
   "source": [
    "# separate X and y data into \"train\" and \"test\" sub-sets, review shapes of these\n",
    "X_train, X_test, y_train, y_test = train_test_split(X, y, test_size=0.2)\n",
    "X_train.shape, X_test.shape, y_train.shape, y_test.shape"
   ]
  },
  {
   "cell_type": "code",
   "execution_count": 31,
   "metadata": {
    "collapsed": true
   },
   "outputs": [],
   "source": [
    "# instantiate a neural network object\n",
    "nn1 = NeuralNetMLP(n_hidden = 25, l2 = 0.01, epochs = 200,\n",
    "                  learning_rate = 0.0005, minibatch_size = 100,\n",
    "                  shuffle = True, seed = 1)"
   ]
  },
  {
   "cell_type": "code",
   "execution_count": 32,
   "metadata": {},
   "outputs": [
    {
     "name": "stderr",
     "output_type": "stream",
     "text": [
      "200/200 | Cost: 2073.22| Train/Valid accuracy: 93.45%/91.90%%"
     ]
    }
   ],
   "source": [
    "# \"train\" the network on our \"training\" sub-set of data\n",
    "nn1.fit(X_train = X_train, y_train = y_train, X_valid = X_test, y_valid = y_test)"
   ]
  },
  {
   "cell_type": "markdown",
   "metadata": {},
   "source": [
    "So, with our network structure and choice of hyperparameters, we get ~93% accuracy in our training set, and a somewhat lower 90% accuracy on our test set.\n",
    "\n",
    "Now let's draw out the cost function over the 200 training runs"
   ]
  },
  {
   "cell_type": "code",
   "execution_count": 33,
   "metadata": {},
   "outputs": [
    {
     "data": {
      "image/png": "[encoded data removed]",
      "text/plain": [
       "<matplotlib.figure.Figure at 0x10e1f3470>"
      ]
     },
     "metadata": {},
     "output_type": "display_data"
    }
   ],
   "source": [
    "plt.plot(range(nn1.epochs), nn1.eval_[\"cost\"])\n",
    "plt.ylabel(\"Cost\")\n",
    "plt.xlabel(\"Training epochs\")\n",
    "plt.show()"
   ]
  },
  {
   "cell_type": "markdown",
   "metadata": {},
   "source": [
    "Looking at this, we can see:\n",
    "- Training rapidly declines between around epochs 10 and 100\n",
    "- Training converges from around epoch 100 and 200\n",
    "- The cost doesn't tend that close to asymptotic by epoch 200 - so the cost would likely *continue to decrease* if we were to train the network for more than 200 epochs\n",
    "- The decrease in the cost is slower for the first 10-or-so training epochs - I don't know why this is!\n",
    "\n",
    "Let's also take a look at the training and validation accuracy"
   ]
  },
  {
   "cell_type": "code",
   "execution_count": 34,
   "metadata": {},
   "outputs": [
    {
     "data": {
      "image/png": "[encoded data removed]",
      "text/plain": [
       "<matplotlib.figure.Figure at 0x10ff20240>"
      ]
     },
     "metadata": {},
     "output_type": "display_data"
    }
   ],
   "source": [
    "plt.plot(range(nn1.epochs), nn1.eval_[\"training_accuracy\"], label = \"Training\")\n",
    "plt.plot(range(nn1.epochs), nn1.eval_[\"validation_accuracy\"], label = \"Validation\", linestyle = \"--\")\n",
    "plt.ylabel(\"Accuracy\")\n",
    "plt.xlabel(\"Training epochs\")\n",
    "plt.legend()\n",
    "plt.show()"
   ]
  },
  {
   "cell_type": "markdown",
   "metadata": {},
   "source": [
    "Here, we see that the gap between training and validation accuracy increases the more epochs we train the network - after 25-or-so training cycles, the network starts over-fitting (slightly).\n",
    "\n",
    "Let's have a look at what happens if we try to improve accuracy by \n",
    "- incraeasing the number of training cycles (the number of epochs); and\n",
    "- increasing the regularization strength - i.e. the l2 parameter - to, say, 0.1"
   ]
  },
  {
   "cell_type": "code",
   "execution_count": 35,
   "metadata": {
    "collapsed": true
   },
   "outputs": [],
   "source": [
    "# instantiate a neural network object\n",
    "nn2 = NeuralNetMLP(n_hidden = 25, l2 = 0.1, epochs = 300,\n",
    "                  learning_rate = 0.0005, minibatch_size = 100,\n",
    "                  shuffle = True, seed = 1)"
   ]
  },
  {
   "cell_type": "code",
   "execution_count": 36,
   "metadata": {},
   "outputs": [
    {
     "name": "stderr",
     "output_type": "stream",
     "text": [
      "300/300 | Cost: 2140.62| Train/Valid accuracy: 93.95%/91.90%%"
     ]
    }
   ],
   "source": [
    "# \"train\" the network on our \"training\" sub-set of data\n",
    "nn2.fit(X_train = X_train, y_train = y_train, X_valid = X_test, y_valid = y_test)"
   ]
  },
  {
   "cell_type": "markdown",
   "metadata": {},
   "source": [
    "Hmm. It looks like we have increased the accuracy (a bit) on the training set, but made very little improvement in the validation - so we are still over-fitting the data. Let's plot that and take a closer look"
   ]
  },
  {
   "cell_type": "code",
   "execution_count": 37,
   "metadata": {},
   "outputs": [
    {
     "data": {
      "image/png": "[encoded data removed]",
      "text/plain": [
       "<matplotlib.figure.Figure at 0x10e1e6c88>"
      ]
     },
     "metadata": {},
     "output_type": "display_data"
    }
   ],
   "source": [
    "plt.plot(range(nn2.epochs), nn2.eval_[\"training_accuracy\"], label = \"Training\")\n",
    "plt.plot(range(nn2.epochs), nn2.eval_[\"validation_accuracy\"], label = \"Validation\", linestyle = \"--\")\n",
    "plt.ylabel(\"Accuracy\")\n",
    "plt.xlabel(\"Training epochs\")\n",
    "plt.legend()\n",
    "plt.show()"
   ]
  },
  {
   "cell_type": "markdown",
   "metadata": {},
   "source": [
    "Now, let's see what happens when if we increase the number of hidden units in our neural network to 100 (a factor-four increase)"
   ]
  },
  {
   "cell_type": "code",
   "execution_count": 38,
   "metadata": {},
   "outputs": [
    {
     "name": "stderr",
     "output_type": "stream",
     "text": [
      "300/300 | Cost: 2134.93| Train/Valid accuracy: 93.92%/91.80%%"
     ]
    }
   ],
   "source": [
    "# instantiate a neural network object\n",
    "nn3 = NeuralNetMLP(n_hidden = 100, l2 = 0.1, epochs = 300,\n",
    "                  learning_rate = 0.0005, minibatch_size = 100,\n",
    "                  shuffle = True, seed = 1)\n",
    "\n",
    "# \"fit our training data to the model\" (aka, calculate the optimal weights using back-propogation)\n",
    "nn3.fit(X_train = X_train, y_train = y_train, X_valid = X_test, y_valid = y_test)"
   ]
  },
  {
   "cell_type": "markdown",
   "metadata": {},
   "source": [
    "Not that much difference, to be honest"
   ]
  },
  {
   "cell_type": "markdown",
   "metadata": {},
   "source": [
    "Finally, let's see what happens if we change the `learning_rate` - let's try a learning rate of 0.01:"
   ]
  },
  {
   "cell_type": "code",
   "execution_count": 39,
   "metadata": {},
   "outputs": [
    {
     "name": "stderr",
     "output_type": "stream",
     "text": [
      "300/300 | Cost: 1403.70| Train/Valid accuracy: 97.02%/94.50%"
     ]
    }
   ],
   "source": [
    "# instantiate a neural network object\n",
    "nn4 = NeuralNetMLP(n_hidden = 100, l2 = 0.1, epochs = 300,\n",
    "                  learning_rate = 0.01, minibatch_size = 100,\n",
    "                  shuffle = True, seed = 1)\n",
    "\n",
    "# \"fit our training data to the model\" (aka, calculate the optimal weights using back-propogation)\n",
    "nn4.fit(X_train = X_train, y_train = y_train, X_valid = X_test, y_valid = y_test)"
   ]
  },
  {
   "cell_type": "markdown",
   "metadata": {},
   "source": [
    "We achieve an accuracy of around **96%** - which is comparable to the accuracy we achieved with regularized one-vs-all logistic regression (see last week's notes).\n",
    "\n",
    "With careful calibration of the learning rate and the l2 regularization parameter ($\\lambda$), we ought to be able to achieve 100% accuracy on the training data - though this would almost certainly result in over-fitting of the model on the training data (leading to erroneous predictions on previously unseen data)."
   ]
  },
  {
   "cell_type": "markdown",
   "metadata": {},
   "source": [
    "## 4 Final note on convergence\n",
    "(*adapted from Raschka & Mirjalili*)\n",
    "\n",
    "Multi-layer neural networks are *hard* to train. In particular, they have a risk of getting stuck in *local minima*:\n",
    "\n",
    "![](Figures/convergence.jpg)\n",
    "\n",
    "(*shows the cost surface for a single weight*)\n",
    "\n",
    "In fact, it's much *worse* than this diagram suggests - we may well have many hundreds, thousands, millions or even billions (ik, r?!) of weights to train - giving us a cost surface in n-dimensional space that is \"rough\" - i.e. has very many potential local minima that where our choice of optimization algorithm could end up stuck. And since we start with randomly initialized weights, a local minimum would be a solution that is likely to be very wrong.\n",
    "\n",
    "Our goal, therefore, is to \"miss\" or \"escape\" the local minima, whilst avoiding \"over-shooting\" the global minimum. To do this we can:\n",
    "\n",
    "- Use a larger learning rate (i.e. the size of step we take in the opposite direction to the gradient on each pass through the learning); and\n",
    "- Apply *stochastic* optimization methods (e.g. stochastic gradient descent). These involve segmenting the data (i.e. all the different written letters - represented in our $X$ data) into \"batches\" and computing the gradients based on this subset. This still allows us to use our vectorized approach, which is computationally efficient, but is also more likely to avoid local minima. We can think of the results as being like using a voter turnout poll to predict the results of an election - we use a representative sample, rather than asking the whole population."
   ]
  }
 ],
 "metadata": {
  "kernelspec": {
   "display_name": "Python 3",
   "language": "python",
   "name": "python3"
  },
  "language_info": {
   "codemirror_mode": {
    "name": "ipython",
    "version": 3
   },
   "file_extension": ".py",
   "mimetype": "text/x-python",
   "name": "python",
   "nbconvert_exporter": "python",
   "pygments_lexer": "ipython3",
   "version": "3.6.1"
  }
 },
 "nbformat": 4,
 "nbformat_minor": 2
}
